{
 "cells": [
  {
   "cell_type": "code",
   "execution_count": 1,
   "metadata": {
    "ExecuteTime": {
     "end_time": "2019-11-09T10:12:55.095665Z",
     "start_time": "2019-11-09T10:12:52.685935Z"
    }
   },
   "outputs": [],
   "source": [
    "import pandas as pd\n",
    "import numpy as np\n",
    "import datetime as datetime\n",
    "from datetime import date, timedelta\n",
    "import matplotlib.pyplot as plt\n",
    "import seaborn as sns\n",
    "from math import radians, sin, cos, atan2, sqrt\n",
    "%matplotlib inline\n",
    "sns.set()\n",
    "pd.options.display.max_rows = 999\n",
    "pd.options.display.max_columns = 999"
   ]
  },
  {
   "cell_type": "code",
   "execution_count": 2,
   "metadata": {
    "ExecuteTime": {
     "end_time": "2019-11-09T10:12:55.428072Z",
     "start_time": "2019-11-09T10:12:55.096661Z"
    }
   },
   "outputs": [],
   "source": [
    "df_weather = pd.read_csv('../assets/weather.csv')\n",
    "df_spray = pd.read_csv('../assets/spray.csv')\n",
    "df_train = pd.read_csv('../assets/train.csv')\n",
    "df_test = pd.read_csv('../assets/test.csv')"
   ]
  },
  {
   "cell_type": "code",
   "execution_count": 3,
   "metadata": {
    "ExecuteTime": {
     "end_time": "2019-11-09T10:12:55.453934Z",
     "start_time": "2019-11-09T10:12:55.428072Z"
    }
   },
   "outputs": [
    {
     "name": "stdout",
     "output_type": "stream",
     "text": [
      "weather (2944, 22)\n",
      "spray (14835, 4)\n",
      "train (10506, 12)\n",
      "test (116293, 11)\n"
     ]
    }
   ],
   "source": [
    "print('weather',df_weather.shape)\n",
    "print('spray',df_spray.shape)\n",
    "print('train',df_train.shape)\n",
    "print('test',df_test.shape)"
   ]
  },
  {
   "cell_type": "markdown",
   "metadata": {},
   "source": [
    "# Check timelines / periods for all data"
   ]
  },
  {
   "cell_type": "code",
   "execution_count": 4,
   "metadata": {
    "ExecuteTime": {
     "end_time": "2019-11-09T10:12:55.513258Z",
     "start_time": "2019-11-09T10:12:55.453934Z"
    }
   },
   "outputs": [
    {
     "data": {
      "text/html": [
       "<div>\n",
       "<style scoped>\n",
       "    .dataframe tbody tr th:only-of-type {\n",
       "        vertical-align: middle;\n",
       "    }\n",
       "\n",
       "    .dataframe tbody tr th {\n",
       "        vertical-align: top;\n",
       "    }\n",
       "\n",
       "    .dataframe thead th {\n",
       "        text-align: right;\n",
       "    }\n",
       "</style>\n",
       "<table border=\"1\" class=\"dataframe\">\n",
       "  <thead>\n",
       "    <tr style=\"text-align: right;\">\n",
       "      <th></th>\n",
       "      <th>Station</th>\n",
       "      <th>Date</th>\n",
       "      <th>Tmax</th>\n",
       "      <th>Tmin</th>\n",
       "      <th>Tavg</th>\n",
       "      <th>Depart</th>\n",
       "      <th>DewPoint</th>\n",
       "      <th>WetBulb</th>\n",
       "      <th>Heat</th>\n",
       "      <th>Cool</th>\n",
       "      <th>Sunrise</th>\n",
       "      <th>Sunset</th>\n",
       "      <th>CodeSum</th>\n",
       "      <th>Depth</th>\n",
       "      <th>Water1</th>\n",
       "      <th>SnowFall</th>\n",
       "      <th>PrecipTotal</th>\n",
       "      <th>StnPressure</th>\n",
       "      <th>SeaLevel</th>\n",
       "      <th>ResultSpeed</th>\n",
       "      <th>ResultDir</th>\n",
       "      <th>AvgSpeed</th>\n",
       "    </tr>\n",
       "  </thead>\n",
       "  <tbody>\n",
       "    <tr>\n",
       "      <th>0</th>\n",
       "      <td>1</td>\n",
       "      <td>2007-05-01</td>\n",
       "      <td>83</td>\n",
       "      <td>50</td>\n",
       "      <td>67</td>\n",
       "      <td>14</td>\n",
       "      <td>51</td>\n",
       "      <td>56</td>\n",
       "      <td>0</td>\n",
       "      <td>2</td>\n",
       "      <td>0448</td>\n",
       "      <td>1849</td>\n",
       "      <td></td>\n",
       "      <td>0</td>\n",
       "      <td>M</td>\n",
       "      <td>0.0</td>\n",
       "      <td>0.00</td>\n",
       "      <td>29.10</td>\n",
       "      <td>29.82</td>\n",
       "      <td>1.7</td>\n",
       "      <td>27</td>\n",
       "      <td>9.2</td>\n",
       "    </tr>\n",
       "  </tbody>\n",
       "</table>\n",
       "</div>"
      ],
      "text/plain": [
       "   Station        Date  Tmax  Tmin Tavg Depart  DewPoint WetBulb Heat Cool  \\\n",
       "0        1  2007-05-01    83    50   67     14        51      56    0    2   \n",
       "\n",
       "  Sunrise Sunset CodeSum Depth Water1 SnowFall PrecipTotal StnPressure  \\\n",
       "0    0448   1849             0      M      0.0        0.00       29.10   \n",
       "\n",
       "  SeaLevel  ResultSpeed  ResultDir AvgSpeed  \n",
       "0    29.82          1.7         27      9.2  "
      ]
     },
     "metadata": {},
     "output_type": "display_data"
    },
    {
     "data": {
      "text/html": [
       "<div>\n",
       "<style scoped>\n",
       "    .dataframe tbody tr th:only-of-type {\n",
       "        vertical-align: middle;\n",
       "    }\n",
       "\n",
       "    .dataframe tbody tr th {\n",
       "        vertical-align: top;\n",
       "    }\n",
       "\n",
       "    .dataframe thead th {\n",
       "        text-align: right;\n",
       "    }\n",
       "</style>\n",
       "<table border=\"1\" class=\"dataframe\">\n",
       "  <thead>\n",
       "    <tr style=\"text-align: right;\">\n",
       "      <th></th>\n",
       "      <th>Station</th>\n",
       "      <th>Date</th>\n",
       "      <th>Tmax</th>\n",
       "      <th>Tmin</th>\n",
       "      <th>Tavg</th>\n",
       "      <th>Depart</th>\n",
       "      <th>DewPoint</th>\n",
       "      <th>WetBulb</th>\n",
       "      <th>Heat</th>\n",
       "      <th>Cool</th>\n",
       "      <th>Sunrise</th>\n",
       "      <th>Sunset</th>\n",
       "      <th>CodeSum</th>\n",
       "      <th>Depth</th>\n",
       "      <th>Water1</th>\n",
       "      <th>SnowFall</th>\n",
       "      <th>PrecipTotal</th>\n",
       "      <th>StnPressure</th>\n",
       "      <th>SeaLevel</th>\n",
       "      <th>ResultSpeed</th>\n",
       "      <th>ResultDir</th>\n",
       "      <th>AvgSpeed</th>\n",
       "    </tr>\n",
       "  </thead>\n",
       "  <tbody>\n",
       "    <tr>\n",
       "      <th>2943</th>\n",
       "      <td>2</td>\n",
       "      <td>2014-10-31</td>\n",
       "      <td>49</td>\n",
       "      <td>34</td>\n",
       "      <td>42</td>\n",
       "      <td>M</td>\n",
       "      <td>29</td>\n",
       "      <td>36</td>\n",
       "      <td>23</td>\n",
       "      <td>0</td>\n",
       "      <td>-</td>\n",
       "      <td>-</td>\n",
       "      <td>RA SN BR</td>\n",
       "      <td>M</td>\n",
       "      <td>M</td>\n",
       "      <td>M</td>\n",
       "      <td>0.04</td>\n",
       "      <td>29.54</td>\n",
       "      <td>30.20</td>\n",
       "      <td>21.7</td>\n",
       "      <td>34</td>\n",
       "      <td>22.6</td>\n",
       "    </tr>\n",
       "  </tbody>\n",
       "</table>\n",
       "</div>"
      ],
      "text/plain": [
       "      Station        Date  Tmax  Tmin Tavg Depart  DewPoint WetBulb Heat Cool  \\\n",
       "2943        2  2014-10-31    49    34   42      M        29      36   23    0   \n",
       "\n",
       "     Sunrise Sunset   CodeSum Depth Water1 SnowFall PrecipTotal StnPressure  \\\n",
       "2943       -      -  RA SN BR     M      M        M        0.04       29.54   \n",
       "\n",
       "     SeaLevel  ResultSpeed  ResultDir AvgSpeed  \n",
       "2943    30.20         21.7         34     22.6  "
      ]
     },
     "metadata": {},
     "output_type": "display_data"
    }
   ],
   "source": [
    "display(df_weather.sort_values(by='Date').head(1))\n",
    "display(df_weather.sort_values(by='Date').tail(1))"
   ]
  },
  {
   "cell_type": "code",
   "execution_count": 5,
   "metadata": {
    "ExecuteTime": {
     "end_time": "2019-11-09T10:12:55.558907Z",
     "start_time": "2019-11-09T10:12:55.516270Z"
    }
   },
   "outputs": [
    {
     "data": {
      "text/html": [
       "<div>\n",
       "<style scoped>\n",
       "    .dataframe tbody tr th:only-of-type {\n",
       "        vertical-align: middle;\n",
       "    }\n",
       "\n",
       "    .dataframe tbody tr th {\n",
       "        vertical-align: top;\n",
       "    }\n",
       "\n",
       "    .dataframe thead th {\n",
       "        text-align: right;\n",
       "    }\n",
       "</style>\n",
       "<table border=\"1\" class=\"dataframe\">\n",
       "  <thead>\n",
       "    <tr style=\"text-align: right;\">\n",
       "      <th></th>\n",
       "      <th>Date</th>\n",
       "      <th>Time</th>\n",
       "      <th>Latitude</th>\n",
       "      <th>Longitude</th>\n",
       "    </tr>\n",
       "  </thead>\n",
       "  <tbody>\n",
       "    <tr>\n",
       "      <th>0</th>\n",
       "      <td>2011-08-29</td>\n",
       "      <td>6:56:58 PM</td>\n",
       "      <td>42.391623</td>\n",
       "      <td>-88.089163</td>\n",
       "    </tr>\n",
       "  </tbody>\n",
       "</table>\n",
       "</div>"
      ],
      "text/plain": [
       "         Date        Time   Latitude  Longitude\n",
       "0  2011-08-29  6:56:58 PM  42.391623 -88.089163"
      ]
     },
     "metadata": {},
     "output_type": "display_data"
    },
    {
     "data": {
      "text/html": [
       "<div>\n",
       "<style scoped>\n",
       "    .dataframe tbody tr th:only-of-type {\n",
       "        vertical-align: middle;\n",
       "    }\n",
       "\n",
       "    .dataframe tbody tr th {\n",
       "        vertical-align: top;\n",
       "    }\n",
       "\n",
       "    .dataframe thead th {\n",
       "        text-align: right;\n",
       "    }\n",
       "</style>\n",
       "<table border=\"1\" class=\"dataframe\">\n",
       "  <thead>\n",
       "    <tr style=\"text-align: right;\">\n",
       "      <th></th>\n",
       "      <th>Date</th>\n",
       "      <th>Time</th>\n",
       "      <th>Latitude</th>\n",
       "      <th>Longitude</th>\n",
       "    </tr>\n",
       "  </thead>\n",
       "  <tbody>\n",
       "    <tr>\n",
       "      <th>14834</th>\n",
       "      <td>2013-09-05</td>\n",
       "      <td>8:35:41 PM</td>\n",
       "      <td>42.004805</td>\n",
       "      <td>-87.81746</td>\n",
       "    </tr>\n",
       "  </tbody>\n",
       "</table>\n",
       "</div>"
      ],
      "text/plain": [
       "             Date        Time   Latitude  Longitude\n",
       "14834  2013-09-05  8:35:41 PM  42.004805  -87.81746"
      ]
     },
     "metadata": {},
     "output_type": "display_data"
    }
   ],
   "source": [
    "display(df_spray.sort_values(by='Date').head(1))\n",
    "display(df_spray.sort_values(by='Date').tail(1))"
   ]
  },
  {
   "cell_type": "code",
   "execution_count": 6,
   "metadata": {
    "ExecuteTime": {
     "end_time": "2019-11-09T10:12:55.603027Z",
     "start_time": "2019-11-09T10:12:55.558907Z"
    }
   },
   "outputs": [
    {
     "data": {
      "text/html": [
       "<div>\n",
       "<style scoped>\n",
       "    .dataframe tbody tr th:only-of-type {\n",
       "        vertical-align: middle;\n",
       "    }\n",
       "\n",
       "    .dataframe tbody tr th {\n",
       "        vertical-align: top;\n",
       "    }\n",
       "\n",
       "    .dataframe thead th {\n",
       "        text-align: right;\n",
       "    }\n",
       "</style>\n",
       "<table border=\"1\" class=\"dataframe\">\n",
       "  <thead>\n",
       "    <tr style=\"text-align: right;\">\n",
       "      <th></th>\n",
       "      <th>Date</th>\n",
       "      <th>Address</th>\n",
       "      <th>Species</th>\n",
       "      <th>Block</th>\n",
       "      <th>Street</th>\n",
       "      <th>Trap</th>\n",
       "      <th>AddressNumberAndStreet</th>\n",
       "      <th>Latitude</th>\n",
       "      <th>Longitude</th>\n",
       "      <th>AddressAccuracy</th>\n",
       "      <th>NumMosquitos</th>\n",
       "      <th>WnvPresent</th>\n",
       "    </tr>\n",
       "  </thead>\n",
       "  <tbody>\n",
       "    <tr>\n",
       "      <th>0</th>\n",
       "      <td>2007-05-29</td>\n",
       "      <td>4100 North Oak Park Avenue, Chicago, IL 60634,...</td>\n",
       "      <td>CULEX PIPIENS/RESTUANS</td>\n",
       "      <td>41</td>\n",
       "      <td>N OAK PARK AVE</td>\n",
       "      <td>T002</td>\n",
       "      <td>4100  N OAK PARK AVE, Chicago, IL</td>\n",
       "      <td>41.95469</td>\n",
       "      <td>-87.800991</td>\n",
       "      <td>9</td>\n",
       "      <td>1</td>\n",
       "      <td>0</td>\n",
       "    </tr>\n",
       "  </tbody>\n",
       "</table>\n",
       "</div>"
      ],
      "text/plain": [
       "         Date                                            Address  \\\n",
       "0  2007-05-29  4100 North Oak Park Avenue, Chicago, IL 60634,...   \n",
       "\n",
       "                  Species  Block           Street  Trap  \\\n",
       "0  CULEX PIPIENS/RESTUANS     41   N OAK PARK AVE  T002   \n",
       "\n",
       "              AddressNumberAndStreet  Latitude  Longitude  AddressAccuracy  \\\n",
       "0  4100  N OAK PARK AVE, Chicago, IL  41.95469 -87.800991                9   \n",
       "\n",
       "   NumMosquitos  WnvPresent  \n",
       "0             1           0  "
      ]
     },
     "metadata": {},
     "output_type": "display_data"
    },
    {
     "data": {
      "text/html": [
       "<div>\n",
       "<style scoped>\n",
       "    .dataframe tbody tr th:only-of-type {\n",
       "        vertical-align: middle;\n",
       "    }\n",
       "\n",
       "    .dataframe tbody tr th {\n",
       "        vertical-align: top;\n",
       "    }\n",
       "\n",
       "    .dataframe thead th {\n",
       "        text-align: right;\n",
       "    }\n",
       "</style>\n",
       "<table border=\"1\" class=\"dataframe\">\n",
       "  <thead>\n",
       "    <tr style=\"text-align: right;\">\n",
       "      <th></th>\n",
       "      <th>Date</th>\n",
       "      <th>Address</th>\n",
       "      <th>Species</th>\n",
       "      <th>Block</th>\n",
       "      <th>Street</th>\n",
       "      <th>Trap</th>\n",
       "      <th>AddressNumberAndStreet</th>\n",
       "      <th>Latitude</th>\n",
       "      <th>Longitude</th>\n",
       "      <th>AddressAccuracy</th>\n",
       "      <th>NumMosquitos</th>\n",
       "      <th>WnvPresent</th>\n",
       "    </tr>\n",
       "  </thead>\n",
       "  <tbody>\n",
       "    <tr>\n",
       "      <th>10505</th>\n",
       "      <td>2013-09-26</td>\n",
       "      <td>4200 West 65th Street, Chicago, IL 60621, USA</td>\n",
       "      <td>CULEX PIPIENS/RESTUANS</td>\n",
       "      <td>42</td>\n",
       "      <td>W 65TH ST</td>\n",
       "      <td>T235</td>\n",
       "      <td>4200  W 65TH ST, Chicago, IL</td>\n",
       "      <td>41.776428</td>\n",
       "      <td>-87.627096</td>\n",
       "      <td>8</td>\n",
       "      <td>1</td>\n",
       "      <td>0</td>\n",
       "    </tr>\n",
       "  </tbody>\n",
       "</table>\n",
       "</div>"
      ],
      "text/plain": [
       "             Date                                        Address  \\\n",
       "10505  2013-09-26  4200 West 65th Street, Chicago, IL 60621, USA   \n",
       "\n",
       "                      Species  Block      Street  Trap  \\\n",
       "10505  CULEX PIPIENS/RESTUANS     42   W 65TH ST  T235   \n",
       "\n",
       "             AddressNumberAndStreet   Latitude  Longitude  AddressAccuracy  \\\n",
       "10505  4200  W 65TH ST, Chicago, IL  41.776428 -87.627096                8   \n",
       "\n",
       "       NumMosquitos  WnvPresent  \n",
       "10505             1           0  "
      ]
     },
     "metadata": {},
     "output_type": "display_data"
    }
   ],
   "source": [
    "display(df_train.sort_values(by='Date').head(1))\n",
    "display(df_train.sort_values(by='Date').tail(1))"
   ]
  },
  {
   "cell_type": "code",
   "execution_count": 7,
   "metadata": {
    "ExecuteTime": {
     "end_time": "2019-11-09T10:12:55.754181Z",
     "start_time": "2019-11-09T10:12:55.605651Z"
    }
   },
   "outputs": [
    {
     "data": {
      "text/html": [
       "<div>\n",
       "<style scoped>\n",
       "    .dataframe tbody tr th:only-of-type {\n",
       "        vertical-align: middle;\n",
       "    }\n",
       "\n",
       "    .dataframe tbody tr th {\n",
       "        vertical-align: top;\n",
       "    }\n",
       "\n",
       "    .dataframe thead th {\n",
       "        text-align: right;\n",
       "    }\n",
       "</style>\n",
       "<table border=\"1\" class=\"dataframe\">\n",
       "  <thead>\n",
       "    <tr style=\"text-align: right;\">\n",
       "      <th></th>\n",
       "      <th>Id</th>\n",
       "      <th>Date</th>\n",
       "      <th>Address</th>\n",
       "      <th>Species</th>\n",
       "      <th>Block</th>\n",
       "      <th>Street</th>\n",
       "      <th>Trap</th>\n",
       "      <th>AddressNumberAndStreet</th>\n",
       "      <th>Latitude</th>\n",
       "      <th>Longitude</th>\n",
       "      <th>AddressAccuracy</th>\n",
       "    </tr>\n",
       "  </thead>\n",
       "  <tbody>\n",
       "    <tr>\n",
       "      <th>0</th>\n",
       "      <td>1</td>\n",
       "      <td>2008-06-11</td>\n",
       "      <td>4100 North Oak Park Avenue, Chicago, IL 60634,...</td>\n",
       "      <td>CULEX PIPIENS/RESTUANS</td>\n",
       "      <td>41</td>\n",
       "      <td>N OAK PARK AVE</td>\n",
       "      <td>T002</td>\n",
       "      <td>4100  N OAK PARK AVE, Chicago, IL</td>\n",
       "      <td>41.95469</td>\n",
       "      <td>-87.800991</td>\n",
       "      <td>9</td>\n",
       "    </tr>\n",
       "  </tbody>\n",
       "</table>\n",
       "</div>"
      ],
      "text/plain": [
       "   Id        Date                                            Address  \\\n",
       "0   1  2008-06-11  4100 North Oak Park Avenue, Chicago, IL 60634,...   \n",
       "\n",
       "                  Species  Block           Street  Trap  \\\n",
       "0  CULEX PIPIENS/RESTUANS     41   N OAK PARK AVE  T002   \n",
       "\n",
       "              AddressNumberAndStreet  Latitude  Longitude  AddressAccuracy  \n",
       "0  4100  N OAK PARK AVE, Chicago, IL  41.95469 -87.800991                9  "
      ]
     },
     "metadata": {},
     "output_type": "display_data"
    },
    {
     "data": {
      "text/html": [
       "<div>\n",
       "<style scoped>\n",
       "    .dataframe tbody tr th:only-of-type {\n",
       "        vertical-align: middle;\n",
       "    }\n",
       "\n",
       "    .dataframe tbody tr th {\n",
       "        vertical-align: top;\n",
       "    }\n",
       "\n",
       "    .dataframe thead th {\n",
       "        text-align: right;\n",
       "    }\n",
       "</style>\n",
       "<table border=\"1\" class=\"dataframe\">\n",
       "  <thead>\n",
       "    <tr style=\"text-align: right;\">\n",
       "      <th></th>\n",
       "      <th>Id</th>\n",
       "      <th>Date</th>\n",
       "      <th>Address</th>\n",
       "      <th>Species</th>\n",
       "      <th>Block</th>\n",
       "      <th>Street</th>\n",
       "      <th>Trap</th>\n",
       "      <th>AddressNumberAndStreet</th>\n",
       "      <th>Latitude</th>\n",
       "      <th>Longitude</th>\n",
       "      <th>AddressAccuracy</th>\n",
       "    </tr>\n",
       "  </thead>\n",
       "  <tbody>\n",
       "    <tr>\n",
       "      <th>116292</th>\n",
       "      <td>116293</td>\n",
       "      <td>2014-10-02</td>\n",
       "      <td>2100 North Cannon Drive, Chicago, IL 60614, USA</td>\n",
       "      <td>CULEX ERRATICUS</td>\n",
       "      <td>21</td>\n",
       "      <td>N CANNON DR</td>\n",
       "      <td>T054C</td>\n",
       "      <td>2100  N CANNON DR, Chicago, IL</td>\n",
       "      <td>41.925652</td>\n",
       "      <td>-87.63359</td>\n",
       "      <td>8</td>\n",
       "    </tr>\n",
       "  </tbody>\n",
       "</table>\n",
       "</div>"
      ],
      "text/plain": [
       "            Id        Date                                          Address  \\\n",
       "116292  116293  2014-10-02  2100 North Cannon Drive, Chicago, IL 60614, USA   \n",
       "\n",
       "                Species  Block        Street   Trap  \\\n",
       "116292  CULEX ERRATICUS     21   N CANNON DR  T054C   \n",
       "\n",
       "                AddressNumberAndStreet   Latitude  Longitude  AddressAccuracy  \n",
       "116292  2100  N CANNON DR, Chicago, IL  41.925652  -87.63359                8  "
      ]
     },
     "metadata": {},
     "output_type": "display_data"
    }
   ],
   "source": [
    "display(df_test.sort_values(by='Date').head(1))\n",
    "display(df_test.sort_values(by='Date').tail(1))"
   ]
  },
  {
   "cell_type": "code",
   "execution_count": 8,
   "metadata": {
    "ExecuteTime": {
     "end_time": "2019-11-09T10:12:55.779685Z",
     "start_time": "2019-11-09T10:12:55.755179Z"
    }
   },
   "outputs": [
    {
     "data": {
      "text/plain": [
       "10"
      ]
     },
     "execution_count": 8,
     "metadata": {},
     "output_type": "execute_result"
    }
   ],
   "source": [
    "df_spray['Date'].nunique()"
   ]
  },
  {
   "cell_type": "code",
   "execution_count": 9,
   "metadata": {
    "ExecuteTime": {
     "end_time": "2019-11-09T10:12:55.805819Z",
     "start_time": "2019-11-09T10:12:55.779685Z"
    }
   },
   "outputs": [
    {
     "data": {
      "text/html": [
       "<div>\n",
       "<style scoped>\n",
       "    .dataframe tbody tr th:only-of-type {\n",
       "        vertical-align: middle;\n",
       "    }\n",
       "\n",
       "    .dataframe tbody tr th {\n",
       "        vertical-align: top;\n",
       "    }\n",
       "\n",
       "    .dataframe thead th {\n",
       "        text-align: right;\n",
       "    }\n",
       "</style>\n",
       "<table border=\"1\" class=\"dataframe\">\n",
       "  <thead>\n",
       "    <tr style=\"text-align: right;\">\n",
       "      <th></th>\n",
       "      <th>Time</th>\n",
       "      <th>Latitude</th>\n",
       "      <th>Longitude</th>\n",
       "    </tr>\n",
       "    <tr>\n",
       "      <th>Date</th>\n",
       "      <th></th>\n",
       "      <th></th>\n",
       "      <th></th>\n",
       "    </tr>\n",
       "  </thead>\n",
       "  <tbody>\n",
       "    <tr>\n",
       "      <th>2011-08-29</th>\n",
       "      <td>95</td>\n",
       "      <td>95</td>\n",
       "      <td>95</td>\n",
       "    </tr>\n",
       "    <tr>\n",
       "      <th>2011-09-07</th>\n",
       "      <td>1530</td>\n",
       "      <td>2114</td>\n",
       "      <td>2114</td>\n",
       "    </tr>\n",
       "    <tr>\n",
       "      <th>2013-07-17</th>\n",
       "      <td>2202</td>\n",
       "      <td>2202</td>\n",
       "      <td>2202</td>\n",
       "    </tr>\n",
       "    <tr>\n",
       "      <th>2013-07-25</th>\n",
       "      <td>1607</td>\n",
       "      <td>1607</td>\n",
       "      <td>1607</td>\n",
       "    </tr>\n",
       "    <tr>\n",
       "      <th>2013-08-08</th>\n",
       "      <td>1195</td>\n",
       "      <td>1195</td>\n",
       "      <td>1195</td>\n",
       "    </tr>\n",
       "    <tr>\n",
       "      <th>2013-08-15</th>\n",
       "      <td>2668</td>\n",
       "      <td>2668</td>\n",
       "      <td>2668</td>\n",
       "    </tr>\n",
       "    <tr>\n",
       "      <th>2013-08-16</th>\n",
       "      <td>141</td>\n",
       "      <td>141</td>\n",
       "      <td>141</td>\n",
       "    </tr>\n",
       "    <tr>\n",
       "      <th>2013-08-22</th>\n",
       "      <td>1587</td>\n",
       "      <td>1587</td>\n",
       "      <td>1587</td>\n",
       "    </tr>\n",
       "    <tr>\n",
       "      <th>2013-08-29</th>\n",
       "      <td>2302</td>\n",
       "      <td>2302</td>\n",
       "      <td>2302</td>\n",
       "    </tr>\n",
       "    <tr>\n",
       "      <th>2013-09-05</th>\n",
       "      <td>924</td>\n",
       "      <td>924</td>\n",
       "      <td>924</td>\n",
       "    </tr>\n",
       "  </tbody>\n",
       "</table>\n",
       "</div>"
      ],
      "text/plain": [
       "            Time  Latitude  Longitude\n",
       "Date                                 \n",
       "2011-08-29    95        95         95\n",
       "2011-09-07  1530      2114       2114\n",
       "2013-07-17  2202      2202       2202\n",
       "2013-07-25  1607      1607       1607\n",
       "2013-08-08  1195      1195       1195\n",
       "2013-08-15  2668      2668       2668\n",
       "2013-08-16   141       141        141\n",
       "2013-08-22  1587      1587       1587\n",
       "2013-08-29  2302      2302       2302\n",
       "2013-09-05   924       924        924"
      ]
     },
     "execution_count": 9,
     "metadata": {},
     "output_type": "execute_result"
    }
   ],
   "source": [
    "# Spraying was carried out on 10 unique dates\n",
    "# For each spray date, multiple locations were sprayed\n",
    "df_spray.groupby('Date').count()"
   ]
  },
  {
   "cell_type": "markdown",
   "metadata": {},
   "source": [
    "### Summary of the timelines across the data sets\n",
    "1) Weather: 2007-05-01 to 2014-10-31<br>\n",
    "2) Spray:   2011-08-29 to 2013-09-05<br>\n",
    "3) Train:   2007-05-29 to 2013-09-26<br>\n",
    "4) Test:    2008-06-11 to 2014-10-02<br><br>\n",
    "Check effects of weather on virus by considering only the period 2007-05-29 to 2011-08-29 (this is the period before spraying started). This will give us the most important weather features for the model.<br>\n",
    "\n",
    "Spraying took place on 10 seperate days in 2011 & 2013. No records of spraying on the days in Test data. Thus, we can be certain that our predictions for Test data will not consider spraying. i.e. 100% based on weather data only.<br>\n",
    "\n",
    "Weather data is available for all Test data. <br>"
   ]
  },
  {
   "cell_type": "markdown",
   "metadata": {},
   "source": [
    "# Weather data\n",
    "Station 1: CHICAGO O'HARE INTERNATIONAL AIRPORT Lat: 41.995 Lon: -87.933 Elev: 662 ft. above sea level<br>\n",
    "Station 2: CHICAGO MIDWAY INTL ARPT Lat: 41.786 Lon: -87.752 Elev: 612 ft. above sea level"
   ]
  },
  {
   "cell_type": "code",
   "execution_count": 10,
   "metadata": {
    "ExecuteTime": {
     "end_time": "2019-11-09T10:12:55.846706Z",
     "start_time": "2019-11-09T10:12:55.806847Z"
    }
   },
   "outputs": [
    {
     "data": {
      "text/html": [
       "<div>\n",
       "<style scoped>\n",
       "    .dataframe tbody tr th:only-of-type {\n",
       "        vertical-align: middle;\n",
       "    }\n",
       "\n",
       "    .dataframe tbody tr th {\n",
       "        vertical-align: top;\n",
       "    }\n",
       "\n",
       "    .dataframe thead th {\n",
       "        text-align: right;\n",
       "    }\n",
       "</style>\n",
       "<table border=\"1\" class=\"dataframe\">\n",
       "  <thead>\n",
       "    <tr style=\"text-align: right;\">\n",
       "      <th></th>\n",
       "      <th>Station</th>\n",
       "      <th>Date</th>\n",
       "      <th>Tmax</th>\n",
       "      <th>Tmin</th>\n",
       "      <th>Tavg</th>\n",
       "      <th>Depart</th>\n",
       "      <th>DewPoint</th>\n",
       "      <th>WetBulb</th>\n",
       "      <th>Heat</th>\n",
       "      <th>Cool</th>\n",
       "      <th>Sunrise</th>\n",
       "      <th>Sunset</th>\n",
       "      <th>CodeSum</th>\n",
       "      <th>Depth</th>\n",
       "      <th>Water1</th>\n",
       "      <th>SnowFall</th>\n",
       "      <th>PrecipTotal</th>\n",
       "      <th>StnPressure</th>\n",
       "      <th>SeaLevel</th>\n",
       "      <th>ResultSpeed</th>\n",
       "      <th>ResultDir</th>\n",
       "      <th>AvgSpeed</th>\n",
       "    </tr>\n",
       "  </thead>\n",
       "  <tbody>\n",
       "    <tr>\n",
       "      <th>0</th>\n",
       "      <td>1</td>\n",
       "      <td>2007-05-01</td>\n",
       "      <td>83</td>\n",
       "      <td>50</td>\n",
       "      <td>67</td>\n",
       "      <td>14</td>\n",
       "      <td>51</td>\n",
       "      <td>56</td>\n",
       "      <td>0</td>\n",
       "      <td>2</td>\n",
       "      <td>0448</td>\n",
       "      <td>1849</td>\n",
       "      <td></td>\n",
       "      <td>0</td>\n",
       "      <td>M</td>\n",
       "      <td>0.0</td>\n",
       "      <td>0.00</td>\n",
       "      <td>29.10</td>\n",
       "      <td>29.82</td>\n",
       "      <td>1.7</td>\n",
       "      <td>27</td>\n",
       "      <td>9.2</td>\n",
       "    </tr>\n",
       "    <tr>\n",
       "      <th>1</th>\n",
       "      <td>2</td>\n",
       "      <td>2007-05-01</td>\n",
       "      <td>84</td>\n",
       "      <td>52</td>\n",
       "      <td>68</td>\n",
       "      <td>M</td>\n",
       "      <td>51</td>\n",
       "      <td>57</td>\n",
       "      <td>0</td>\n",
       "      <td>3</td>\n",
       "      <td>-</td>\n",
       "      <td>-</td>\n",
       "      <td></td>\n",
       "      <td>M</td>\n",
       "      <td>M</td>\n",
       "      <td>M</td>\n",
       "      <td>0.00</td>\n",
       "      <td>29.18</td>\n",
       "      <td>29.82</td>\n",
       "      <td>2.7</td>\n",
       "      <td>25</td>\n",
       "      <td>9.6</td>\n",
       "    </tr>\n",
       "    <tr>\n",
       "      <th>2</th>\n",
       "      <td>1</td>\n",
       "      <td>2007-05-02</td>\n",
       "      <td>59</td>\n",
       "      <td>42</td>\n",
       "      <td>51</td>\n",
       "      <td>-3</td>\n",
       "      <td>42</td>\n",
       "      <td>47</td>\n",
       "      <td>14</td>\n",
       "      <td>0</td>\n",
       "      <td>0447</td>\n",
       "      <td>1850</td>\n",
       "      <td>BR</td>\n",
       "      <td>0</td>\n",
       "      <td>M</td>\n",
       "      <td>0.0</td>\n",
       "      <td>0.00</td>\n",
       "      <td>29.38</td>\n",
       "      <td>30.09</td>\n",
       "      <td>13.0</td>\n",
       "      <td>4</td>\n",
       "      <td>13.4</td>\n",
       "    </tr>\n",
       "    <tr>\n",
       "      <th>3</th>\n",
       "      <td>2</td>\n",
       "      <td>2007-05-02</td>\n",
       "      <td>60</td>\n",
       "      <td>43</td>\n",
       "      <td>52</td>\n",
       "      <td>M</td>\n",
       "      <td>42</td>\n",
       "      <td>47</td>\n",
       "      <td>13</td>\n",
       "      <td>0</td>\n",
       "      <td>-</td>\n",
       "      <td>-</td>\n",
       "      <td>BR HZ</td>\n",
       "      <td>M</td>\n",
       "      <td>M</td>\n",
       "      <td>M</td>\n",
       "      <td>0.00</td>\n",
       "      <td>29.44</td>\n",
       "      <td>30.08</td>\n",
       "      <td>13.3</td>\n",
       "      <td>2</td>\n",
       "      <td>13.4</td>\n",
       "    </tr>\n",
       "    <tr>\n",
       "      <th>4</th>\n",
       "      <td>1</td>\n",
       "      <td>2007-05-03</td>\n",
       "      <td>66</td>\n",
       "      <td>46</td>\n",
       "      <td>56</td>\n",
       "      <td>2</td>\n",
       "      <td>40</td>\n",
       "      <td>48</td>\n",
       "      <td>9</td>\n",
       "      <td>0</td>\n",
       "      <td>0446</td>\n",
       "      <td>1851</td>\n",
       "      <td></td>\n",
       "      <td>0</td>\n",
       "      <td>M</td>\n",
       "      <td>0.0</td>\n",
       "      <td>0.00</td>\n",
       "      <td>29.39</td>\n",
       "      <td>30.12</td>\n",
       "      <td>11.7</td>\n",
       "      <td>7</td>\n",
       "      <td>11.9</td>\n",
       "    </tr>\n",
       "  </tbody>\n",
       "</table>\n",
       "</div>"
      ],
      "text/plain": [
       "   Station        Date  Tmax  Tmin Tavg Depart  DewPoint WetBulb Heat Cool  \\\n",
       "0        1  2007-05-01    83    50   67     14        51      56    0    2   \n",
       "1        2  2007-05-01    84    52   68      M        51      57    0    3   \n",
       "2        1  2007-05-02    59    42   51     -3        42      47   14    0   \n",
       "3        2  2007-05-02    60    43   52      M        42      47   13    0   \n",
       "4        1  2007-05-03    66    46   56      2        40      48    9    0   \n",
       "\n",
       "  Sunrise Sunset CodeSum Depth Water1 SnowFall PrecipTotal StnPressure  \\\n",
       "0    0448   1849             0      M      0.0        0.00       29.10   \n",
       "1       -      -             M      M        M        0.00       29.18   \n",
       "2    0447   1850      BR     0      M      0.0        0.00       29.38   \n",
       "3       -      -   BR HZ     M      M        M        0.00       29.44   \n",
       "4    0446   1851             0      M      0.0        0.00       29.39   \n",
       "\n",
       "  SeaLevel  ResultSpeed  ResultDir AvgSpeed  \n",
       "0    29.82          1.7         27      9.2  \n",
       "1    29.82          2.7         25      9.6  \n",
       "2    30.09         13.0          4     13.4  \n",
       "3    30.08         13.3          2     13.4  \n",
       "4    30.12         11.7          7     11.9  "
      ]
     },
     "execution_count": 10,
     "metadata": {},
     "output_type": "execute_result"
    }
   ],
   "source": [
    "df_weather.head()"
   ]
  },
  {
   "cell_type": "code",
   "execution_count": 11,
   "metadata": {
    "ExecuteTime": {
     "end_time": "2019-11-09T10:12:55.872750Z",
     "start_time": "2019-11-09T10:12:55.846706Z"
    }
   },
   "outputs": [
    {
     "data": {
      "text/plain": [
       "False"
      ]
     },
     "execution_count": 11,
     "metadata": {},
     "output_type": "execute_result"
    }
   ],
   "source": [
    "# check for any null data\n",
    "df_weather.isna().sum().any()"
   ]
  },
  {
   "cell_type": "code",
   "execution_count": 12,
   "metadata": {
    "ExecuteTime": {
     "end_time": "2019-11-09T10:12:55.898157Z",
     "start_time": "2019-11-09T10:12:55.872750Z"
    }
   },
   "outputs": [
    {
     "data": {
      "text/plain": [
       "Station          int64\n",
       "Date            object\n",
       "Tmax             int64\n",
       "Tmin             int64\n",
       "Tavg            object\n",
       "Depart          object\n",
       "DewPoint         int64\n",
       "WetBulb         object\n",
       "Heat            object\n",
       "Cool            object\n",
       "Sunrise         object\n",
       "Sunset          object\n",
       "CodeSum         object\n",
       "Depth           object\n",
       "Water1          object\n",
       "SnowFall        object\n",
       "PrecipTotal     object\n",
       "StnPressure     object\n",
       "SeaLevel        object\n",
       "ResultSpeed    float64\n",
       "ResultDir        int64\n",
       "AvgSpeed        object\n",
       "dtype: object"
      ]
     },
     "execution_count": 12,
     "metadata": {},
     "output_type": "execute_result"
    }
   ],
   "source": [
    "df_weather.dtypes"
   ]
  },
  {
   "cell_type": "code",
   "execution_count": 13,
   "metadata": {
    "ExecuteTime": {
     "end_time": "2019-11-09T10:12:55.926722Z",
     "start_time": "2019-11-09T10:12:55.900185Z"
    }
   },
   "outputs": [],
   "source": [
    "df_weather['Date']=pd.to_datetime(df_weather['Date'])"
   ]
  },
  {
   "cell_type": "code",
   "execution_count": 14,
   "metadata": {
    "ExecuteTime": {
     "end_time": "2019-11-09T10:12:55.951406Z",
     "start_time": "2019-11-09T10:12:55.927712Z"
    }
   },
   "outputs": [
    {
     "name": "stdout",
     "output_type": "stream",
     "text": [
      "2944\n"
     ]
    }
   ],
   "source": [
    "#drop column Water1 since all values are missing in this column\n",
    "print(df_weather[df_weather['Water1']=='M']['Station'].count())\n",
    "df_weather.drop(['Water1'],axis=1,inplace=True)"
   ]
  },
  {
   "cell_type": "code",
   "execution_count": 15,
   "metadata": {
    "ExecuteTime": {
     "end_time": "2019-11-09T10:12:55.981073Z",
     "start_time": "2019-11-09T10:12:55.953432Z"
    }
   },
   "outputs": [
    {
     "name": "stdout",
     "output_type": "stream",
     "text": [
      "0    1472\n",
      "M    1472\n",
      "Name: Depth, dtype: int64\n",
      "M      1472\n",
      "0.0    1459\n",
      "  T      12\n",
      "0.1       1\n",
      "Name: SnowFall, dtype: int64\n"
     ]
    }
   ],
   "source": [
    "print(df_weather['Depth'].value_counts())\n",
    "print(df_weather['SnowFall'].value_counts())"
   ]
  },
  {
   "cell_type": "code",
   "execution_count": 16,
   "metadata": {
    "ExecuteTime": {
     "end_time": "2019-11-09T10:12:56.006173Z",
     "start_time": "2019-11-09T10:12:55.981073Z"
    }
   },
   "outputs": [],
   "source": [
    "# 'Depth' is either 0 or M across all records\n",
    "# 'SnowFall' is either 0 or M in most cases, with only 13 rows (0.44%) offering other info. \n",
    "# Drop 'Depth' and 'SnowFall' because these will not provide statistically significant information.\n",
    "df_weather.drop(['Depth','SnowFall'],axis=1,inplace=True)"
   ]
  },
  {
   "cell_type": "code",
   "execution_count": 17,
   "metadata": {
    "ExecuteTime": {
     "end_time": "2019-11-09T10:12:56.033408Z",
     "start_time": "2019-11-09T10:12:56.006173Z"
    }
   },
   "outputs": [],
   "source": [
    "df_weather['PrecipTotal'].value_counts();\n",
    "# From the value_counts(), there are 2 rows with value 'M'. To drop these 2 rows.\n",
    "# There are also 318 rows with value '   T'. This stands for Trace, which means it is a small value but > 0.00 \n",
    "# There are 127 rows with value 0.01. This is the smallest value that is > 0. \n",
    "# There are 1577 rows with value 0.00.\n",
    "# Based on the above, it would be reasonable to assume that 0.00 < T < 0.01\n",
    "# Therefore, it would be resonable to set T = 0.005\n",
    "df_weather['PrecipTotal'] = [0.005 if i =='  T' else i for i in df_weather['PrecipTotal']]"
   ]
  },
  {
   "cell_type": "code",
   "execution_count": 18,
   "metadata": {
    "ExecuteTime": {
     "end_time": "2019-11-09T10:12:56.070153Z",
     "start_time": "2019-11-09T10:12:56.033408Z"
    }
   },
   "outputs": [
    {
     "data": {
      "text/html": [
       "<div>\n",
       "<style scoped>\n",
       "    .dataframe tbody tr th:only-of-type {\n",
       "        vertical-align: middle;\n",
       "    }\n",
       "\n",
       "    .dataframe tbody tr th {\n",
       "        vertical-align: top;\n",
       "    }\n",
       "\n",
       "    .dataframe thead th {\n",
       "        text-align: right;\n",
       "    }\n",
       "</style>\n",
       "<table border=\"1\" class=\"dataframe\">\n",
       "  <thead>\n",
       "    <tr style=\"text-align: right;\">\n",
       "      <th></th>\n",
       "      <th>Station</th>\n",
       "      <th>Date</th>\n",
       "      <th>Tmax</th>\n",
       "      <th>Tmin</th>\n",
       "      <th>Tavg</th>\n",
       "      <th>Depart</th>\n",
       "      <th>DewPoint</th>\n",
       "      <th>WetBulb</th>\n",
       "      <th>Heat</th>\n",
       "      <th>Cool</th>\n",
       "      <th>Sunrise</th>\n",
       "      <th>Sunset</th>\n",
       "      <th>CodeSum</th>\n",
       "      <th>PrecipTotal</th>\n",
       "      <th>StnPressure</th>\n",
       "      <th>SeaLevel</th>\n",
       "      <th>ResultSpeed</th>\n",
       "      <th>ResultDir</th>\n",
       "      <th>AvgSpeed</th>\n",
       "    </tr>\n",
       "  </thead>\n",
       "  <tbody>\n",
       "    <tr>\n",
       "      <th>117</th>\n",
       "      <td>2</td>\n",
       "      <td>2007-06-28</td>\n",
       "      <td>73</td>\n",
       "      <td>61</td>\n",
       "      <td>67</td>\n",
       "      <td>M</td>\n",
       "      <td>56</td>\n",
       "      <td>61</td>\n",
       "      <td>0</td>\n",
       "      <td>2</td>\n",
       "      <td>-</td>\n",
       "      <td>-</td>\n",
       "      <td></td>\n",
       "      <td>M</td>\n",
       "      <td>29.43</td>\n",
       "      <td>30.07</td>\n",
       "      <td>12.2</td>\n",
       "      <td>2</td>\n",
       "      <td>13.3</td>\n",
       "    </tr>\n",
       "    <tr>\n",
       "      <th>119</th>\n",
       "      <td>2</td>\n",
       "      <td>2007-06-29</td>\n",
       "      <td>71</td>\n",
       "      <td>56</td>\n",
       "      <td>64</td>\n",
       "      <td>M</td>\n",
       "      <td>56</td>\n",
       "      <td>60</td>\n",
       "      <td>1</td>\n",
       "      <td>0</td>\n",
       "      <td>-</td>\n",
       "      <td>-</td>\n",
       "      <td></td>\n",
       "      <td>M</td>\n",
       "      <td>29.47</td>\n",
       "      <td>30.11</td>\n",
       "      <td>7.4</td>\n",
       "      <td>2</td>\n",
       "      <td>8.2</td>\n",
       "    </tr>\n",
       "  </tbody>\n",
       "</table>\n",
       "</div>"
      ],
      "text/plain": [
       "     Station       Date  Tmax  Tmin Tavg Depart  DewPoint WetBulb Heat Cool  \\\n",
       "117        2 2007-06-28    73    61   67      M        56      61    0    2   \n",
       "119        2 2007-06-29    71    56   64      M        56      60    1    0   \n",
       "\n",
       "    Sunrise Sunset CodeSum PrecipTotal StnPressure SeaLevel  ResultSpeed  \\\n",
       "117       -      -                   M       29.43    30.07         12.2   \n",
       "119       -      -                   M       29.47    30.11          7.4   \n",
       "\n",
       "     ResultDir AvgSpeed  \n",
       "117          2     13.3  \n",
       "119          2      8.2  "
      ]
     },
     "execution_count": 18,
     "metadata": {},
     "output_type": "execute_result"
    }
   ],
   "source": [
    "df_weather[df_weather['PrecipTotal']=='M']"
   ]
  },
  {
   "cell_type": "code",
   "execution_count": 19,
   "metadata": {
    "ExecuteTime": {
     "end_time": "2019-11-09T10:12:56.096508Z",
     "start_time": "2019-11-09T10:12:56.071151Z"
    }
   },
   "outputs": [],
   "source": [
    "# drop the 2 rows where PrecipTotal = 'M'\n",
    "df_weather.drop(labels=[117, 119],inplace=True)"
   ]
  },
  {
   "cell_type": "code",
   "execution_count": 20,
   "metadata": {
    "ExecuteTime": {
     "end_time": "2019-11-09T10:12:56.121995Z",
     "start_time": "2019-11-09T10:12:56.096508Z"
    }
   },
   "outputs": [],
   "source": [
    "# convert 'PrecipTotal' into the correct data type\n",
    "df_weather['PrecipTotal'] = pd.to_numeric(df_weather['PrecipTotal'])"
   ]
  },
  {
   "cell_type": "code",
   "execution_count": 21,
   "metadata": {
    "ExecuteTime": {
     "end_time": "2019-11-09T10:12:56.168064Z",
     "start_time": "2019-11-09T10:12:56.122990Z"
    }
   },
   "outputs": [
    {
     "data": {
      "text/html": [
       "<div>\n",
       "<style scoped>\n",
       "    .dataframe tbody tr th:only-of-type {\n",
       "        vertical-align: middle;\n",
       "    }\n",
       "\n",
       "    .dataframe tbody tr th {\n",
       "        vertical-align: top;\n",
       "    }\n",
       "\n",
       "    .dataframe thead th {\n",
       "        text-align: right;\n",
       "    }\n",
       "</style>\n",
       "<table border=\"1\" class=\"dataframe\">\n",
       "  <thead>\n",
       "    <tr style=\"text-align: right;\">\n",
       "      <th></th>\n",
       "      <th>Station</th>\n",
       "      <th>Date</th>\n",
       "      <th>Tmax</th>\n",
       "      <th>Tmin</th>\n",
       "      <th>Tavg</th>\n",
       "      <th>Depart</th>\n",
       "      <th>DewPoint</th>\n",
       "      <th>WetBulb</th>\n",
       "      <th>Heat</th>\n",
       "      <th>Cool</th>\n",
       "      <th>Sunrise</th>\n",
       "      <th>Sunset</th>\n",
       "      <th>CodeSum</th>\n",
       "      <th>PrecipTotal</th>\n",
       "      <th>StnPressure</th>\n",
       "      <th>SeaLevel</th>\n",
       "      <th>ResultSpeed</th>\n",
       "      <th>ResultDir</th>\n",
       "      <th>AvgSpeed</th>\n",
       "    </tr>\n",
       "  </thead>\n",
       "  <tbody>\n",
       "    <tr>\n",
       "      <th>87</th>\n",
       "      <td>2</td>\n",
       "      <td>2007-06-13</td>\n",
       "      <td>86</td>\n",
       "      <td>68</td>\n",
       "      <td>77</td>\n",
       "      <td>M</td>\n",
       "      <td>53</td>\n",
       "      <td>62</td>\n",
       "      <td>0</td>\n",
       "      <td>12</td>\n",
       "      <td>-</td>\n",
       "      <td>-</td>\n",
       "      <td></td>\n",
       "      <td>0.0</td>\n",
       "      <td>M</td>\n",
       "      <td>M</td>\n",
       "      <td>7.0</td>\n",
       "      <td>5</td>\n",
       "      <td>M</td>\n",
       "    </tr>\n",
       "    <tr>\n",
       "      <th>848</th>\n",
       "      <td>1</td>\n",
       "      <td>2009-06-26</td>\n",
       "      <td>86</td>\n",
       "      <td>69</td>\n",
       "      <td>78</td>\n",
       "      <td>7</td>\n",
       "      <td>60</td>\n",
       "      <td>M</td>\n",
       "      <td>0</td>\n",
       "      <td>13</td>\n",
       "      <td>0418</td>\n",
       "      <td>1931</td>\n",
       "      <td></td>\n",
       "      <td>0.0</td>\n",
       "      <td>M</td>\n",
       "      <td>29.85</td>\n",
       "      <td>6.4</td>\n",
       "      <td>4</td>\n",
       "      <td>8.2</td>\n",
       "    </tr>\n",
       "    <tr>\n",
       "      <th>2410</th>\n",
       "      <td>1</td>\n",
       "      <td>2013-08-10</td>\n",
       "      <td>81</td>\n",
       "      <td>64</td>\n",
       "      <td>73</td>\n",
       "      <td>0</td>\n",
       "      <td>57</td>\n",
       "      <td>M</td>\n",
       "      <td>0</td>\n",
       "      <td>8</td>\n",
       "      <td>0454</td>\n",
       "      <td>1900</td>\n",
       "      <td></td>\n",
       "      <td>0.0</td>\n",
       "      <td>M</td>\n",
       "      <td>30.08</td>\n",
       "      <td>5.3</td>\n",
       "      <td>5</td>\n",
       "      <td>6.5</td>\n",
       "    </tr>\n",
       "    <tr>\n",
       "      <th>2411</th>\n",
       "      <td>2</td>\n",
       "      <td>2013-08-10</td>\n",
       "      <td>81</td>\n",
       "      <td>68</td>\n",
       "      <td>75</td>\n",
       "      <td>M</td>\n",
       "      <td>55</td>\n",
       "      <td>63</td>\n",
       "      <td>0</td>\n",
       "      <td>10</td>\n",
       "      <td>-</td>\n",
       "      <td>-</td>\n",
       "      <td></td>\n",
       "      <td>0.0</td>\n",
       "      <td>M</td>\n",
       "      <td>30.07</td>\n",
       "      <td>6.0</td>\n",
       "      <td>6</td>\n",
       "      <td>7.4</td>\n",
       "    </tr>\n",
       "  </tbody>\n",
       "</table>\n",
       "</div>"
      ],
      "text/plain": [
       "      Station       Date  Tmax  Tmin Tavg Depart  DewPoint WetBulb Heat Cool  \\\n",
       "87          2 2007-06-13    86    68   77      M        53      62    0   12   \n",
       "848         1 2009-06-26    86    69   78      7        60       M    0   13   \n",
       "2410        1 2013-08-10    81    64   73      0        57       M    0    8   \n",
       "2411        2 2013-08-10    81    68   75      M        55      63    0   10   \n",
       "\n",
       "     Sunrise Sunset CodeSum  PrecipTotal StnPressure SeaLevel  ResultSpeed  \\\n",
       "87         -      -                  0.0           M        M          7.0   \n",
       "848     0418   1931                  0.0           M    29.85          6.4   \n",
       "2410    0454   1900                  0.0           M    30.08          5.3   \n",
       "2411       -      -                  0.0           M    30.07          6.0   \n",
       "\n",
       "      ResultDir AvgSpeed  \n",
       "87            5        M  \n",
       "848           4      8.2  \n",
       "2410          5      6.5  \n",
       "2411          6      7.4  "
      ]
     },
     "execution_count": 21,
     "metadata": {},
     "output_type": "execute_result"
    }
   ],
   "source": [
    "df_weather[df_weather['StnPressure']=='M']"
   ]
  },
  {
   "cell_type": "code",
   "execution_count": 22,
   "metadata": {
    "ExecuteTime": {
     "end_time": "2019-11-09T10:12:56.183155Z",
     "start_time": "2019-11-09T10:12:56.171329Z"
    }
   },
   "outputs": [],
   "source": [
    "df_weather['StnPressure'] = [np.nan if i=='M' else i for i in df_weather['StnPressure']]"
   ]
  },
  {
   "cell_type": "code",
   "execution_count": 23,
   "metadata": {
    "ExecuteTime": {
     "end_time": "2019-11-09T10:12:56.213677Z",
     "start_time": "2019-11-09T10:12:56.188809Z"
    }
   },
   "outputs": [],
   "source": [
    "# convert 'StnPressure' into the correct data type\n",
    "df_weather['StnPressure'] = pd.to_numeric(df_weather['StnPressure'])"
   ]
  },
  {
   "cell_type": "code",
   "execution_count": 24,
   "metadata": {
    "ExecuteTime": {
     "end_time": "2019-11-09T10:12:56.257954Z",
     "start_time": "2019-11-09T10:12:56.214675Z"
    }
   },
   "outputs": [
    {
     "data": {
      "text/html": [
       "<div>\n",
       "<style scoped>\n",
       "    .dataframe tbody tr th:only-of-type {\n",
       "        vertical-align: middle;\n",
       "    }\n",
       "\n",
       "    .dataframe tbody tr th {\n",
       "        vertical-align: top;\n",
       "    }\n",
       "\n",
       "    .dataframe thead th {\n",
       "        text-align: right;\n",
       "    }\n",
       "</style>\n",
       "<table border=\"1\" class=\"dataframe\">\n",
       "  <thead>\n",
       "    <tr style=\"text-align: right;\">\n",
       "      <th></th>\n",
       "      <th>Station</th>\n",
       "      <th>Date</th>\n",
       "      <th>Tmax</th>\n",
       "      <th>Tmin</th>\n",
       "      <th>Tavg</th>\n",
       "      <th>Depart</th>\n",
       "      <th>DewPoint</th>\n",
       "      <th>WetBulb</th>\n",
       "      <th>Heat</th>\n",
       "      <th>Cool</th>\n",
       "      <th>Sunrise</th>\n",
       "      <th>Sunset</th>\n",
       "      <th>CodeSum</th>\n",
       "      <th>PrecipTotal</th>\n",
       "      <th>StnPressure</th>\n",
       "      <th>SeaLevel</th>\n",
       "      <th>ResultSpeed</th>\n",
       "      <th>ResultDir</th>\n",
       "      <th>AvgSpeed</th>\n",
       "    </tr>\n",
       "  </thead>\n",
       "  <tbody>\n",
       "    <tr>\n",
       "      <th>87</th>\n",
       "      <td>2</td>\n",
       "      <td>2007-06-13</td>\n",
       "      <td>86</td>\n",
       "      <td>68</td>\n",
       "      <td>77</td>\n",
       "      <td>M</td>\n",
       "      <td>53</td>\n",
       "      <td>62</td>\n",
       "      <td>0</td>\n",
       "      <td>12</td>\n",
       "      <td>-</td>\n",
       "      <td>-</td>\n",
       "      <td></td>\n",
       "      <td>0.000</td>\n",
       "      <td>NaN</td>\n",
       "      <td>M</td>\n",
       "      <td>7.0</td>\n",
       "      <td>5</td>\n",
       "      <td>M</td>\n",
       "    </tr>\n",
       "    <tr>\n",
       "      <th>832</th>\n",
       "      <td>1</td>\n",
       "      <td>2009-06-18</td>\n",
       "      <td>80</td>\n",
       "      <td>61</td>\n",
       "      <td>71</td>\n",
       "      <td>1</td>\n",
       "      <td>63</td>\n",
       "      <td>67</td>\n",
       "      <td>0</td>\n",
       "      <td>6</td>\n",
       "      <td>0416</td>\n",
       "      <td>1929</td>\n",
       "      <td>RA BR</td>\n",
       "      <td>0.120</td>\n",
       "      <td>29.08</td>\n",
       "      <td>M</td>\n",
       "      <td>6.7</td>\n",
       "      <td>16</td>\n",
       "      <td>7.9</td>\n",
       "    </tr>\n",
       "    <tr>\n",
       "      <th>994</th>\n",
       "      <td>1</td>\n",
       "      <td>2009-09-07</td>\n",
       "      <td>77</td>\n",
       "      <td>59</td>\n",
       "      <td>68</td>\n",
       "      <td>1</td>\n",
       "      <td>59</td>\n",
       "      <td>62</td>\n",
       "      <td>0</td>\n",
       "      <td>3</td>\n",
       "      <td>0523</td>\n",
       "      <td>1817</td>\n",
       "      <td>BR</td>\n",
       "      <td>0.000</td>\n",
       "      <td>29.39</td>\n",
       "      <td>M</td>\n",
       "      <td>5.8</td>\n",
       "      <td>3</td>\n",
       "      <td>4.0</td>\n",
       "    </tr>\n",
       "    <tr>\n",
       "      <th>1732</th>\n",
       "      <td>1</td>\n",
       "      <td>2011-09-08</td>\n",
       "      <td>75</td>\n",
       "      <td>57</td>\n",
       "      <td>66</td>\n",
       "      <td>0</td>\n",
       "      <td>53</td>\n",
       "      <td>59</td>\n",
       "      <td>0</td>\n",
       "      <td>1</td>\n",
       "      <td>0524</td>\n",
       "      <td>1815</td>\n",
       "      <td>RA</td>\n",
       "      <td>0.005</td>\n",
       "      <td>29.34</td>\n",
       "      <td>M</td>\n",
       "      <td>13.0</td>\n",
       "      <td>2</td>\n",
       "      <td>13.4</td>\n",
       "    </tr>\n",
       "    <tr>\n",
       "      <th>1745</th>\n",
       "      <td>2</td>\n",
       "      <td>2011-09-14</td>\n",
       "      <td>60</td>\n",
       "      <td>48</td>\n",
       "      <td>54</td>\n",
       "      <td>M</td>\n",
       "      <td>45</td>\n",
       "      <td>51</td>\n",
       "      <td>11</td>\n",
       "      <td>0</td>\n",
       "      <td>-</td>\n",
       "      <td>-</td>\n",
       "      <td>RA BR HZ FU</td>\n",
       "      <td>0.005</td>\n",
       "      <td>29.47</td>\n",
       "      <td>M</td>\n",
       "      <td>6.0</td>\n",
       "      <td>32</td>\n",
       "      <td>M</td>\n",
       "    </tr>\n",
       "    <tr>\n",
       "      <th>1756</th>\n",
       "      <td>1</td>\n",
       "      <td>2011-09-20</td>\n",
       "      <td>74</td>\n",
       "      <td>49</td>\n",
       "      <td>62</td>\n",
       "      <td>0</td>\n",
       "      <td>54</td>\n",
       "      <td>58</td>\n",
       "      <td>3</td>\n",
       "      <td>0</td>\n",
       "      <td>0537</td>\n",
       "      <td>1753</td>\n",
       "      <td>MIFG BCFG BR</td>\n",
       "      <td>0.000</td>\n",
       "      <td>29.26</td>\n",
       "      <td>M</td>\n",
       "      <td>7.3</td>\n",
       "      <td>18</td>\n",
       "      <td>7.3</td>\n",
       "    </tr>\n",
       "    <tr>\n",
       "      <th>2067</th>\n",
       "      <td>2</td>\n",
       "      <td>2012-08-22</td>\n",
       "      <td>84</td>\n",
       "      <td>72</td>\n",
       "      <td>M</td>\n",
       "      <td>M</td>\n",
       "      <td>51</td>\n",
       "      <td>61</td>\n",
       "      <td>M</td>\n",
       "      <td>M</td>\n",
       "      <td>-</td>\n",
       "      <td>-</td>\n",
       "      <td></td>\n",
       "      <td>0.000</td>\n",
       "      <td>29.39</td>\n",
       "      <td>M</td>\n",
       "      <td>4.7</td>\n",
       "      <td>19</td>\n",
       "      <td>M</td>\n",
       "    </tr>\n",
       "    <tr>\n",
       "      <th>2090</th>\n",
       "      <td>1</td>\n",
       "      <td>2012-09-03</td>\n",
       "      <td>88</td>\n",
       "      <td>71</td>\n",
       "      <td>80</td>\n",
       "      <td>12</td>\n",
       "      <td>70</td>\n",
       "      <td>73</td>\n",
       "      <td>0</td>\n",
       "      <td>15</td>\n",
       "      <td>0519</td>\n",
       "      <td>1824</td>\n",
       "      <td>BR</td>\n",
       "      <td>0.000</td>\n",
       "      <td>29.17</td>\n",
       "      <td>M</td>\n",
       "      <td>4.6</td>\n",
       "      <td>6</td>\n",
       "      <td>4.4</td>\n",
       "    </tr>\n",
       "    <tr>\n",
       "      <th>2743</th>\n",
       "      <td>2</td>\n",
       "      <td>2014-07-23</td>\n",
       "      <td>76</td>\n",
       "      <td>64</td>\n",
       "      <td>70</td>\n",
       "      <td>M</td>\n",
       "      <td>56</td>\n",
       "      <td>61</td>\n",
       "      <td>0</td>\n",
       "      <td>5</td>\n",
       "      <td>-</td>\n",
       "      <td>-</td>\n",
       "      <td></td>\n",
       "      <td>0.000</td>\n",
       "      <td>29.47</td>\n",
       "      <td>M</td>\n",
       "      <td>16.4</td>\n",
       "      <td>2</td>\n",
       "      <td>16.7</td>\n",
       "    </tr>\n",
       "  </tbody>\n",
       "</table>\n",
       "</div>"
      ],
      "text/plain": [
       "      Station       Date  Tmax  Tmin Tavg Depart  DewPoint WetBulb Heat Cool  \\\n",
       "87          2 2007-06-13    86    68   77      M        53      62    0   12   \n",
       "832         1 2009-06-18    80    61   71      1        63      67    0    6   \n",
       "994         1 2009-09-07    77    59   68      1        59      62    0    3   \n",
       "1732        1 2011-09-08    75    57   66      0        53      59    0    1   \n",
       "1745        2 2011-09-14    60    48   54      M        45      51   11    0   \n",
       "1756        1 2011-09-20    74    49   62      0        54      58    3    0   \n",
       "2067        2 2012-08-22    84    72    M      M        51      61    M    M   \n",
       "2090        1 2012-09-03    88    71   80     12        70      73    0   15   \n",
       "2743        2 2014-07-23    76    64   70      M        56      61    0    5   \n",
       "\n",
       "     Sunrise Sunset       CodeSum  PrecipTotal  StnPressure SeaLevel  \\\n",
       "87         -      -                      0.000          NaN        M   \n",
       "832     0416   1929         RA BR        0.120        29.08        M   \n",
       "994     0523   1817            BR        0.000        29.39        M   \n",
       "1732    0524   1815            RA        0.005        29.34        M   \n",
       "1745       -      -   RA BR HZ FU        0.005        29.47        M   \n",
       "1756    0537   1753  MIFG BCFG BR        0.000        29.26        M   \n",
       "2067       -      -                      0.000        29.39        M   \n",
       "2090    0519   1824            BR        0.000        29.17        M   \n",
       "2743       -      -                      0.000        29.47        M   \n",
       "\n",
       "      ResultSpeed  ResultDir AvgSpeed  \n",
       "87            7.0          5        M  \n",
       "832           6.7         16      7.9  \n",
       "994           5.8          3      4.0  \n",
       "1732         13.0          2     13.4  \n",
       "1745          6.0         32        M  \n",
       "1756          7.3         18      7.3  \n",
       "2067          4.7         19        M  \n",
       "2090          4.6          6      4.4  \n",
       "2743         16.4          2     16.7  "
      ]
     },
     "execution_count": 24,
     "metadata": {},
     "output_type": "execute_result"
    }
   ],
   "source": [
    "df_weather[df_weather['SeaLevel']=='M']"
   ]
  },
  {
   "cell_type": "code",
   "execution_count": 25,
   "metadata": {
    "ExecuteTime": {
     "end_time": "2019-11-09T10:12:56.274052Z",
     "start_time": "2019-11-09T10:12:56.258951Z"
    }
   },
   "outputs": [],
   "source": [
    "df_weather['SeaLevel'] = [np.nan if i=='M' else i for i in df_weather['SeaLevel']]"
   ]
  },
  {
   "cell_type": "code",
   "execution_count": 26,
   "metadata": {
    "ExecuteTime": {
     "end_time": "2019-11-09T10:12:56.289795Z",
     "start_time": "2019-11-09T10:12:56.275050Z"
    }
   },
   "outputs": [],
   "source": [
    "# convert 'SeaLevel' into the correct data type\n",
    "df_weather['SeaLevel'] = pd.to_numeric(df_weather['SeaLevel'])"
   ]
  },
  {
   "cell_type": "code",
   "execution_count": 27,
   "metadata": {
    "ExecuteTime": {
     "end_time": "2019-11-09T10:12:56.310754Z",
     "start_time": "2019-11-09T10:12:56.290792Z"
    }
   },
   "outputs": [
    {
     "name": "stderr",
     "output_type": "stream",
     "text": [
      "C:\\Users\\abinl\\Anaconda3\\lib\\site-packages\\pandas\\core\\ops.py:1649: FutureWarning: elementwise comparison failed; returning scalar instead, but in the future will perform elementwise comparison\n",
      "  result = method(y)\n"
     ]
    },
    {
     "data": {
      "text/html": [
       "<div>\n",
       "<style scoped>\n",
       "    .dataframe tbody tr th:only-of-type {\n",
       "        vertical-align: middle;\n",
       "    }\n",
       "\n",
       "    .dataframe tbody tr th {\n",
       "        vertical-align: top;\n",
       "    }\n",
       "\n",
       "    .dataframe thead th {\n",
       "        text-align: right;\n",
       "    }\n",
       "</style>\n",
       "<table border=\"1\" class=\"dataframe\">\n",
       "  <thead>\n",
       "    <tr style=\"text-align: right;\">\n",
       "      <th></th>\n",
       "      <th>Station</th>\n",
       "      <th>Date</th>\n",
       "      <th>Tmax</th>\n",
       "      <th>Tmin</th>\n",
       "      <th>Tavg</th>\n",
       "      <th>Depart</th>\n",
       "      <th>DewPoint</th>\n",
       "      <th>WetBulb</th>\n",
       "      <th>Heat</th>\n",
       "      <th>Cool</th>\n",
       "      <th>Sunrise</th>\n",
       "      <th>Sunset</th>\n",
       "      <th>CodeSum</th>\n",
       "      <th>PrecipTotal</th>\n",
       "      <th>StnPressure</th>\n",
       "      <th>SeaLevel</th>\n",
       "      <th>ResultSpeed</th>\n",
       "      <th>ResultDir</th>\n",
       "      <th>AvgSpeed</th>\n",
       "    </tr>\n",
       "  </thead>\n",
       "  <tbody>\n",
       "  </tbody>\n",
       "</table>\n",
       "</div>"
      ],
      "text/plain": [
       "Empty DataFrame\n",
       "Columns: [Station, Date, Tmax, Tmin, Tavg, Depart, DewPoint, WetBulb, Heat, Cool, Sunrise, Sunset, CodeSum, PrecipTotal, StnPressure, SeaLevel, ResultSpeed, ResultDir, AvgSpeed]\n",
       "Index: []"
      ]
     },
     "execution_count": 27,
     "metadata": {},
     "output_type": "execute_result"
    }
   ],
   "source": [
    "df_weather[df_weather['ResultSpeed']=='M']"
   ]
  },
  {
   "cell_type": "code",
   "execution_count": 28,
   "metadata": {
    "ExecuteTime": {
     "end_time": "2019-11-09T10:12:56.335011Z",
     "start_time": "2019-11-09T10:12:56.311752Z"
    }
   },
   "outputs": [
    {
     "data": {
      "text/html": [
       "<div>\n",
       "<style scoped>\n",
       "    .dataframe tbody tr th:only-of-type {\n",
       "        vertical-align: middle;\n",
       "    }\n",
       "\n",
       "    .dataframe tbody tr th {\n",
       "        vertical-align: top;\n",
       "    }\n",
       "\n",
       "    .dataframe thead th {\n",
       "        text-align: right;\n",
       "    }\n",
       "</style>\n",
       "<table border=\"1\" class=\"dataframe\">\n",
       "  <thead>\n",
       "    <tr style=\"text-align: right;\">\n",
       "      <th></th>\n",
       "      <th>Station</th>\n",
       "      <th>Date</th>\n",
       "      <th>Tmax</th>\n",
       "      <th>Tmin</th>\n",
       "      <th>Tavg</th>\n",
       "      <th>Depart</th>\n",
       "      <th>DewPoint</th>\n",
       "      <th>WetBulb</th>\n",
       "      <th>Heat</th>\n",
       "      <th>Cool</th>\n",
       "      <th>Sunrise</th>\n",
       "      <th>Sunset</th>\n",
       "      <th>CodeSum</th>\n",
       "      <th>PrecipTotal</th>\n",
       "      <th>StnPressure</th>\n",
       "      <th>SeaLevel</th>\n",
       "      <th>ResultSpeed</th>\n",
       "      <th>ResultDir</th>\n",
       "      <th>AvgSpeed</th>\n",
       "    </tr>\n",
       "  </thead>\n",
       "  <tbody>\n",
       "  </tbody>\n",
       "</table>\n",
       "</div>"
      ],
      "text/plain": [
       "Empty DataFrame\n",
       "Columns: [Station, Date, Tmax, Tmin, Tavg, Depart, DewPoint, WetBulb, Heat, Cool, Sunrise, Sunset, CodeSum, PrecipTotal, StnPressure, SeaLevel, ResultSpeed, ResultDir, AvgSpeed]\n",
       "Index: []"
      ]
     },
     "execution_count": 28,
     "metadata": {},
     "output_type": "execute_result"
    }
   ],
   "source": [
    "df_weather[df_weather['ResultDir']=='M']"
   ]
  },
  {
   "cell_type": "code",
   "execution_count": 29,
   "metadata": {
    "ExecuteTime": {
     "end_time": "2019-11-09T10:12:56.358807Z",
     "start_time": "2019-11-09T10:12:56.337006Z"
    }
   },
   "outputs": [],
   "source": [
    "# convert 'ResultSpeed' into the correct data type\n",
    "df_weather['ResultSpeed'] = pd.to_numeric(df_weather['ResultSpeed'])"
   ]
  },
  {
   "cell_type": "code",
   "execution_count": 30,
   "metadata": {
    "ExecuteTime": {
     "end_time": "2019-11-09T10:12:56.390365Z",
     "start_time": "2019-11-09T10:12:56.359804Z"
    }
   },
   "outputs": [
    {
     "data": {
      "text/html": [
       "<div>\n",
       "<style scoped>\n",
       "    .dataframe tbody tr th:only-of-type {\n",
       "        vertical-align: middle;\n",
       "    }\n",
       "\n",
       "    .dataframe tbody tr th {\n",
       "        vertical-align: top;\n",
       "    }\n",
       "\n",
       "    .dataframe thead th {\n",
       "        text-align: right;\n",
       "    }\n",
       "</style>\n",
       "<table border=\"1\" class=\"dataframe\">\n",
       "  <thead>\n",
       "    <tr style=\"text-align: right;\">\n",
       "      <th></th>\n",
       "      <th>Station</th>\n",
       "      <th>Date</th>\n",
       "      <th>Tmax</th>\n",
       "      <th>Tmin</th>\n",
       "      <th>Tavg</th>\n",
       "      <th>Depart</th>\n",
       "      <th>DewPoint</th>\n",
       "      <th>WetBulb</th>\n",
       "      <th>Heat</th>\n",
       "      <th>Cool</th>\n",
       "      <th>Sunrise</th>\n",
       "      <th>Sunset</th>\n",
       "      <th>CodeSum</th>\n",
       "      <th>PrecipTotal</th>\n",
       "      <th>StnPressure</th>\n",
       "      <th>SeaLevel</th>\n",
       "      <th>ResultSpeed</th>\n",
       "      <th>ResultDir</th>\n",
       "      <th>AvgSpeed</th>\n",
       "    </tr>\n",
       "  </thead>\n",
       "  <tbody>\n",
       "    <tr>\n",
       "      <th>87</th>\n",
       "      <td>2</td>\n",
       "      <td>2007-06-13</td>\n",
       "      <td>86</td>\n",
       "      <td>68</td>\n",
       "      <td>77</td>\n",
       "      <td>M</td>\n",
       "      <td>53</td>\n",
       "      <td>62</td>\n",
       "      <td>0</td>\n",
       "      <td>12</td>\n",
       "      <td>-</td>\n",
       "      <td>-</td>\n",
       "      <td></td>\n",
       "      <td>0.000</td>\n",
       "      <td>NaN</td>\n",
       "      <td>NaN</td>\n",
       "      <td>7.0</td>\n",
       "      <td>5</td>\n",
       "      <td>M</td>\n",
       "    </tr>\n",
       "    <tr>\n",
       "      <th>1745</th>\n",
       "      <td>2</td>\n",
       "      <td>2011-09-14</td>\n",
       "      <td>60</td>\n",
       "      <td>48</td>\n",
       "      <td>54</td>\n",
       "      <td>M</td>\n",
       "      <td>45</td>\n",
       "      <td>51</td>\n",
       "      <td>11</td>\n",
       "      <td>0</td>\n",
       "      <td>-</td>\n",
       "      <td>-</td>\n",
       "      <td>RA BR HZ FU</td>\n",
       "      <td>0.005</td>\n",
       "      <td>29.47</td>\n",
       "      <td>NaN</td>\n",
       "      <td>6.0</td>\n",
       "      <td>32</td>\n",
       "      <td>M</td>\n",
       "    </tr>\n",
       "    <tr>\n",
       "      <th>2067</th>\n",
       "      <td>2</td>\n",
       "      <td>2012-08-22</td>\n",
       "      <td>84</td>\n",
       "      <td>72</td>\n",
       "      <td>M</td>\n",
       "      <td>M</td>\n",
       "      <td>51</td>\n",
       "      <td>61</td>\n",
       "      <td>M</td>\n",
       "      <td>M</td>\n",
       "      <td>-</td>\n",
       "      <td>-</td>\n",
       "      <td></td>\n",
       "      <td>0.000</td>\n",
       "      <td>29.39</td>\n",
       "      <td>NaN</td>\n",
       "      <td>4.7</td>\n",
       "      <td>19</td>\n",
       "      <td>M</td>\n",
       "    </tr>\n",
       "  </tbody>\n",
       "</table>\n",
       "</div>"
      ],
      "text/plain": [
       "      Station       Date  Tmax  Tmin Tavg Depart  DewPoint WetBulb Heat Cool  \\\n",
       "87          2 2007-06-13    86    68   77      M        53      62    0   12   \n",
       "1745        2 2011-09-14    60    48   54      M        45      51   11    0   \n",
       "2067        2 2012-08-22    84    72    M      M        51      61    M    M   \n",
       "\n",
       "     Sunrise Sunset      CodeSum  PrecipTotal  StnPressure  SeaLevel  \\\n",
       "87         -      -                     0.000          NaN       NaN   \n",
       "1745       -      -  RA BR HZ FU        0.005        29.47       NaN   \n",
       "2067       -      -                     0.000        29.39       NaN   \n",
       "\n",
       "      ResultSpeed  ResultDir AvgSpeed  \n",
       "87            7.0          5        M  \n",
       "1745          6.0         32        M  \n",
       "2067          4.7         19        M  "
      ]
     },
     "execution_count": 30,
     "metadata": {},
     "output_type": "execute_result"
    }
   ],
   "source": [
    "df_weather[df_weather['AvgSpeed']=='M']"
   ]
  },
  {
   "cell_type": "code",
   "execution_count": 31,
   "metadata": {
    "ExecuteTime": {
     "end_time": "2019-11-09T10:12:56.415329Z",
     "start_time": "2019-11-09T10:12:56.392817Z"
    }
   },
   "outputs": [],
   "source": [
    "df_weather['AvgSpeed'] = [np.nan if i=='M' else i for i in df_weather['AvgSpeed']]"
   ]
  },
  {
   "cell_type": "code",
   "execution_count": 32,
   "metadata": {
    "ExecuteTime": {
     "end_time": "2019-11-09T10:12:56.442015Z",
     "start_time": "2019-11-09T10:12:56.415329Z"
    }
   },
   "outputs": [],
   "source": [
    "# convert 'AvgSpeed' into the correct data type\n",
    "df_weather['AvgSpeed'] = pd.to_numeric(df_weather['AvgSpeed'])"
   ]
  },
  {
   "cell_type": "code",
   "execution_count": 33,
   "metadata": {
    "ExecuteTime": {
     "end_time": "2019-11-09T10:12:56.476144Z",
     "start_time": "2019-11-09T10:12:56.442015Z"
    }
   },
   "outputs": [
    {
     "data": {
      "text/html": [
       "<div>\n",
       "<style scoped>\n",
       "    .dataframe tbody tr th:only-of-type {\n",
       "        vertical-align: middle;\n",
       "    }\n",
       "\n",
       "    .dataframe tbody tr th {\n",
       "        vertical-align: top;\n",
       "    }\n",
       "\n",
       "    .dataframe thead th {\n",
       "        text-align: right;\n",
       "    }\n",
       "</style>\n",
       "<table border=\"1\" class=\"dataframe\">\n",
       "  <thead>\n",
       "    <tr style=\"text-align: right;\">\n",
       "      <th></th>\n",
       "      <th>Station</th>\n",
       "      <th>Date</th>\n",
       "      <th>Tmax</th>\n",
       "      <th>Tmin</th>\n",
       "      <th>Tavg</th>\n",
       "      <th>Depart</th>\n",
       "      <th>DewPoint</th>\n",
       "      <th>WetBulb</th>\n",
       "      <th>Heat</th>\n",
       "      <th>Cool</th>\n",
       "      <th>Sunrise</th>\n",
       "      <th>Sunset</th>\n",
       "      <th>CodeSum</th>\n",
       "      <th>PrecipTotal</th>\n",
       "      <th>StnPressure</th>\n",
       "      <th>SeaLevel</th>\n",
       "      <th>ResultSpeed</th>\n",
       "      <th>ResultDir</th>\n",
       "      <th>AvgSpeed</th>\n",
       "    </tr>\n",
       "  </thead>\n",
       "  <tbody>\n",
       "    <tr>\n",
       "      <th>87</th>\n",
       "      <td>2</td>\n",
       "      <td>2007-06-13</td>\n",
       "      <td>86</td>\n",
       "      <td>68</td>\n",
       "      <td>77</td>\n",
       "      <td>M</td>\n",
       "      <td>53</td>\n",
       "      <td>62</td>\n",
       "      <td>0</td>\n",
       "      <td>12</td>\n",
       "      <td>-</td>\n",
       "      <td>-</td>\n",
       "      <td></td>\n",
       "      <td>0.000</td>\n",
       "      <td>NaN</td>\n",
       "      <td>NaN</td>\n",
       "      <td>7.0</td>\n",
       "      <td>5</td>\n",
       "      <td>NaN</td>\n",
       "    </tr>\n",
       "    <tr>\n",
       "      <th>1745</th>\n",
       "      <td>2</td>\n",
       "      <td>2011-09-14</td>\n",
       "      <td>60</td>\n",
       "      <td>48</td>\n",
       "      <td>54</td>\n",
       "      <td>M</td>\n",
       "      <td>45</td>\n",
       "      <td>51</td>\n",
       "      <td>11</td>\n",
       "      <td>0</td>\n",
       "      <td>-</td>\n",
       "      <td>-</td>\n",
       "      <td>RA BR HZ FU</td>\n",
       "      <td>0.005</td>\n",
       "      <td>29.47</td>\n",
       "      <td>NaN</td>\n",
       "      <td>6.0</td>\n",
       "      <td>32</td>\n",
       "      <td>NaN</td>\n",
       "    </tr>\n",
       "    <tr>\n",
       "      <th>2067</th>\n",
       "      <td>2</td>\n",
       "      <td>2012-08-22</td>\n",
       "      <td>84</td>\n",
       "      <td>72</td>\n",
       "      <td>M</td>\n",
       "      <td>M</td>\n",
       "      <td>51</td>\n",
       "      <td>61</td>\n",
       "      <td>M</td>\n",
       "      <td>M</td>\n",
       "      <td>-</td>\n",
       "      <td>-</td>\n",
       "      <td></td>\n",
       "      <td>0.000</td>\n",
       "      <td>29.39</td>\n",
       "      <td>NaN</td>\n",
       "      <td>4.7</td>\n",
       "      <td>19</td>\n",
       "      <td>NaN</td>\n",
       "    </tr>\n",
       "  </tbody>\n",
       "</table>\n",
       "</div>"
      ],
      "text/plain": [
       "      Station       Date  Tmax  Tmin Tavg Depart  DewPoint WetBulb Heat Cool  \\\n",
       "87          2 2007-06-13    86    68   77      M        53      62    0   12   \n",
       "1745        2 2011-09-14    60    48   54      M        45      51   11    0   \n",
       "2067        2 2012-08-22    84    72    M      M        51      61    M    M   \n",
       "\n",
       "     Sunrise Sunset      CodeSum  PrecipTotal  StnPressure  SeaLevel  \\\n",
       "87         -      -                     0.000          NaN       NaN   \n",
       "1745       -      -  RA BR HZ FU        0.005        29.47       NaN   \n",
       "2067       -      -                     0.000        29.39       NaN   \n",
       "\n",
       "      ResultSpeed  ResultDir  AvgSpeed  \n",
       "87            7.0          5       NaN  \n",
       "1745          6.0         32       NaN  \n",
       "2067          4.7         19       NaN  "
      ]
     },
     "execution_count": 33,
     "metadata": {},
     "output_type": "execute_result"
    }
   ],
   "source": [
    "df_weather[df_weather['AvgSpeed'].isna()]"
   ]
  },
  {
   "cell_type": "code",
   "execution_count": 34,
   "metadata": {
    "ExecuteTime": {
     "end_time": "2019-11-09T10:12:56.499464Z",
     "start_time": "2019-11-09T10:12:56.476144Z"
    }
   },
   "outputs": [],
   "source": [
    "# drop the above 3 rows were AvgSpeed is NaN.\n",
    "df_weather.drop(labels=[87,1745,2067],inplace=True)"
   ]
  },
  {
   "cell_type": "code",
   "execution_count": 35,
   "metadata": {
    "ExecuteTime": {
     "end_time": "2019-11-09T10:12:56.867687Z",
     "start_time": "2019-11-09T10:12:56.500460Z"
    }
   },
   "outputs": [
    {
     "data": {
      "text/plain": [
       "<matplotlib.collections.PathCollection at 0x1a6962393c8>"
      ]
     },
     "execution_count": 35,
     "metadata": {},
     "output_type": "execute_result"
    },
    {
     "data": {
      "image/png": "[encoded data removed]",
      "text/plain": [
       "<Figure size 432x288 with 1 Axes>"
      ]
     },
     "metadata": {
      "needs_background": "light"
     },
     "output_type": "display_data"
    }
   ],
   "source": [
    "plt.scatter(df_weather['StnPressure'],df_weather['SeaLevel'])"
   ]
  },
  {
   "cell_type": "markdown",
   "metadata": {},
   "source": [
    "#### 'StnPressure' (x axis) and 'SeaLevel' (y axis) pressures are closely linearly correlated.\n",
    "SeaLevel pressure is approximately 0.6 to 0.8 more than StnPressure, since the stations are elevated above sea-level (thus experiencing lower atmospheric pressure). Accordingly, we can estimate that SeaLevel is roughly 0.7 more than StnPressure. Conversely, we can estimate that StnPressure is roughly 0.7 less than SeaLevel.\n",
    "Since both are closely linearly correlated, we really only need one of them (the other can be dropped)."
   ]
  },
  {
   "cell_type": "code",
   "execution_count": 36,
   "metadata": {
    "ExecuteTime": {
     "end_time": "2019-11-09T10:12:56.906793Z",
     "start_time": "2019-11-09T10:12:56.868684Z"
    }
   },
   "outputs": [
    {
     "name": "stdout",
     "output_type": "stream",
     "text": [
      "3\n",
      "6\n"
     ]
    },
    {
     "data": {
      "text/html": [
       "<div>\n",
       "<style scoped>\n",
       "    .dataframe tbody tr th:only-of-type {\n",
       "        vertical-align: middle;\n",
       "    }\n",
       "\n",
       "    .dataframe tbody tr th {\n",
       "        vertical-align: top;\n",
       "    }\n",
       "\n",
       "    .dataframe thead th {\n",
       "        text-align: right;\n",
       "    }\n",
       "</style>\n",
       "<table border=\"1\" class=\"dataframe\">\n",
       "  <thead>\n",
       "    <tr style=\"text-align: right;\">\n",
       "      <th></th>\n",
       "      <th>Station</th>\n",
       "      <th>Date</th>\n",
       "      <th>Tmax</th>\n",
       "      <th>Tmin</th>\n",
       "      <th>Tavg</th>\n",
       "      <th>Depart</th>\n",
       "      <th>DewPoint</th>\n",
       "      <th>WetBulb</th>\n",
       "      <th>Heat</th>\n",
       "      <th>Cool</th>\n",
       "      <th>Sunrise</th>\n",
       "      <th>Sunset</th>\n",
       "      <th>CodeSum</th>\n",
       "      <th>PrecipTotal</th>\n",
       "      <th>StnPressure</th>\n",
       "      <th>SeaLevel</th>\n",
       "      <th>ResultSpeed</th>\n",
       "      <th>ResultDir</th>\n",
       "      <th>AvgSpeed</th>\n",
       "    </tr>\n",
       "  </thead>\n",
       "  <tbody>\n",
       "    <tr>\n",
       "      <th>832</th>\n",
       "      <td>1</td>\n",
       "      <td>2009-06-18</td>\n",
       "      <td>80</td>\n",
       "      <td>61</td>\n",
       "      <td>71</td>\n",
       "      <td>1</td>\n",
       "      <td>63</td>\n",
       "      <td>67</td>\n",
       "      <td>0</td>\n",
       "      <td>6</td>\n",
       "      <td>0416</td>\n",
       "      <td>1929</td>\n",
       "      <td>RA BR</td>\n",
       "      <td>0.120</td>\n",
       "      <td>29.08</td>\n",
       "      <td>NaN</td>\n",
       "      <td>6.7</td>\n",
       "      <td>16</td>\n",
       "      <td>7.9</td>\n",
       "    </tr>\n",
       "    <tr>\n",
       "      <th>848</th>\n",
       "      <td>1</td>\n",
       "      <td>2009-06-26</td>\n",
       "      <td>86</td>\n",
       "      <td>69</td>\n",
       "      <td>78</td>\n",
       "      <td>7</td>\n",
       "      <td>60</td>\n",
       "      <td>M</td>\n",
       "      <td>0</td>\n",
       "      <td>13</td>\n",
       "      <td>0418</td>\n",
       "      <td>1931</td>\n",
       "      <td></td>\n",
       "      <td>0.000</td>\n",
       "      <td>NaN</td>\n",
       "      <td>29.85</td>\n",
       "      <td>6.4</td>\n",
       "      <td>4</td>\n",
       "      <td>8.2</td>\n",
       "    </tr>\n",
       "    <tr>\n",
       "      <th>994</th>\n",
       "      <td>1</td>\n",
       "      <td>2009-09-07</td>\n",
       "      <td>77</td>\n",
       "      <td>59</td>\n",
       "      <td>68</td>\n",
       "      <td>1</td>\n",
       "      <td>59</td>\n",
       "      <td>62</td>\n",
       "      <td>0</td>\n",
       "      <td>3</td>\n",
       "      <td>0523</td>\n",
       "      <td>1817</td>\n",
       "      <td>BR</td>\n",
       "      <td>0.000</td>\n",
       "      <td>29.39</td>\n",
       "      <td>NaN</td>\n",
       "      <td>5.8</td>\n",
       "      <td>3</td>\n",
       "      <td>4.0</td>\n",
       "    </tr>\n",
       "    <tr>\n",
       "      <th>1732</th>\n",
       "      <td>1</td>\n",
       "      <td>2011-09-08</td>\n",
       "      <td>75</td>\n",
       "      <td>57</td>\n",
       "      <td>66</td>\n",
       "      <td>0</td>\n",
       "      <td>53</td>\n",
       "      <td>59</td>\n",
       "      <td>0</td>\n",
       "      <td>1</td>\n",
       "      <td>0524</td>\n",
       "      <td>1815</td>\n",
       "      <td>RA</td>\n",
       "      <td>0.005</td>\n",
       "      <td>29.34</td>\n",
       "      <td>NaN</td>\n",
       "      <td>13.0</td>\n",
       "      <td>2</td>\n",
       "      <td>13.4</td>\n",
       "    </tr>\n",
       "    <tr>\n",
       "      <th>1756</th>\n",
       "      <td>1</td>\n",
       "      <td>2011-09-20</td>\n",
       "      <td>74</td>\n",
       "      <td>49</td>\n",
       "      <td>62</td>\n",
       "      <td>0</td>\n",
       "      <td>54</td>\n",
       "      <td>58</td>\n",
       "      <td>3</td>\n",
       "      <td>0</td>\n",
       "      <td>0537</td>\n",
       "      <td>1753</td>\n",
       "      <td>MIFG BCFG BR</td>\n",
       "      <td>0.000</td>\n",
       "      <td>29.26</td>\n",
       "      <td>NaN</td>\n",
       "      <td>7.3</td>\n",
       "      <td>18</td>\n",
       "      <td>7.3</td>\n",
       "    </tr>\n",
       "    <tr>\n",
       "      <th>2090</th>\n",
       "      <td>1</td>\n",
       "      <td>2012-09-03</td>\n",
       "      <td>88</td>\n",
       "      <td>71</td>\n",
       "      <td>80</td>\n",
       "      <td>12</td>\n",
       "      <td>70</td>\n",
       "      <td>73</td>\n",
       "      <td>0</td>\n",
       "      <td>15</td>\n",
       "      <td>0519</td>\n",
       "      <td>1824</td>\n",
       "      <td>BR</td>\n",
       "      <td>0.000</td>\n",
       "      <td>29.17</td>\n",
       "      <td>NaN</td>\n",
       "      <td>4.6</td>\n",
       "      <td>6</td>\n",
       "      <td>4.4</td>\n",
       "    </tr>\n",
       "    <tr>\n",
       "      <th>2410</th>\n",
       "      <td>1</td>\n",
       "      <td>2013-08-10</td>\n",
       "      <td>81</td>\n",
       "      <td>64</td>\n",
       "      <td>73</td>\n",
       "      <td>0</td>\n",
       "      <td>57</td>\n",
       "      <td>M</td>\n",
       "      <td>0</td>\n",
       "      <td>8</td>\n",
       "      <td>0454</td>\n",
       "      <td>1900</td>\n",
       "      <td></td>\n",
       "      <td>0.000</td>\n",
       "      <td>NaN</td>\n",
       "      <td>30.08</td>\n",
       "      <td>5.3</td>\n",
       "      <td>5</td>\n",
       "      <td>6.5</td>\n",
       "    </tr>\n",
       "    <tr>\n",
       "      <th>2411</th>\n",
       "      <td>2</td>\n",
       "      <td>2013-08-10</td>\n",
       "      <td>81</td>\n",
       "      <td>68</td>\n",
       "      <td>75</td>\n",
       "      <td>M</td>\n",
       "      <td>55</td>\n",
       "      <td>63</td>\n",
       "      <td>0</td>\n",
       "      <td>10</td>\n",
       "      <td>-</td>\n",
       "      <td>-</td>\n",
       "      <td></td>\n",
       "      <td>0.000</td>\n",
       "      <td>NaN</td>\n",
       "      <td>30.07</td>\n",
       "      <td>6.0</td>\n",
       "      <td>6</td>\n",
       "      <td>7.4</td>\n",
       "    </tr>\n",
       "    <tr>\n",
       "      <th>2743</th>\n",
       "      <td>2</td>\n",
       "      <td>2014-07-23</td>\n",
       "      <td>76</td>\n",
       "      <td>64</td>\n",
       "      <td>70</td>\n",
       "      <td>M</td>\n",
       "      <td>56</td>\n",
       "      <td>61</td>\n",
       "      <td>0</td>\n",
       "      <td>5</td>\n",
       "      <td>-</td>\n",
       "      <td>-</td>\n",
       "      <td></td>\n",
       "      <td>0.000</td>\n",
       "      <td>29.47</td>\n",
       "      <td>NaN</td>\n",
       "      <td>16.4</td>\n",
       "      <td>2</td>\n",
       "      <td>16.7</td>\n",
       "    </tr>\n",
       "  </tbody>\n",
       "</table>\n",
       "</div>"
      ],
      "text/plain": [
       "      Station       Date  Tmax  Tmin Tavg Depart  DewPoint WetBulb Heat Cool  \\\n",
       "832         1 2009-06-18    80    61   71      1        63      67    0    6   \n",
       "848         1 2009-06-26    86    69   78      7        60       M    0   13   \n",
       "994         1 2009-09-07    77    59   68      1        59      62    0    3   \n",
       "1732        1 2011-09-08    75    57   66      0        53      59    0    1   \n",
       "1756        1 2011-09-20    74    49   62      0        54      58    3    0   \n",
       "2090        1 2012-09-03    88    71   80     12        70      73    0   15   \n",
       "2410        1 2013-08-10    81    64   73      0        57       M    0    8   \n",
       "2411        2 2013-08-10    81    68   75      M        55      63    0   10   \n",
       "2743        2 2014-07-23    76    64   70      M        56      61    0    5   \n",
       "\n",
       "     Sunrise Sunset       CodeSum  PrecipTotal  StnPressure  SeaLevel  \\\n",
       "832     0416   1929         RA BR        0.120        29.08       NaN   \n",
       "848     0418   1931                      0.000          NaN     29.85   \n",
       "994     0523   1817            BR        0.000        29.39       NaN   \n",
       "1732    0524   1815            RA        0.005        29.34       NaN   \n",
       "1756    0537   1753  MIFG BCFG BR        0.000        29.26       NaN   \n",
       "2090    0519   1824            BR        0.000        29.17       NaN   \n",
       "2410    0454   1900                      0.000          NaN     30.08   \n",
       "2411       -      -                      0.000          NaN     30.07   \n",
       "2743       -      -                      0.000        29.47       NaN   \n",
       "\n",
       "      ResultSpeed  ResultDir  AvgSpeed  \n",
       "832           6.7         16       7.9  \n",
       "848           6.4          4       8.2  \n",
       "994           5.8          3       4.0  \n",
       "1732         13.0          2      13.4  \n",
       "1756          7.3         18       7.3  \n",
       "2090          4.6          6       4.4  \n",
       "2410          5.3          5       6.5  \n",
       "2411          6.0          6       7.4  \n",
       "2743         16.4          2      16.7  "
      ]
     },
     "execution_count": 36,
     "metadata": {},
     "output_type": "execute_result"
    }
   ],
   "source": [
    "print(df_weather[df_weather['StnPressure'].isna()]['Station'].count())\n",
    "print(df_weather[df_weather['SeaLevel'].isna()]['Station'].count())\n",
    "df_weather[(df_weather['StnPressure'].isna()) | (df_weather['SeaLevel'].isna())]"
   ]
  },
  {
   "cell_type": "code",
   "execution_count": 37,
   "metadata": {
    "ExecuteTime": {
     "end_time": "2019-11-09T10:12:56.928161Z",
     "start_time": "2019-11-09T10:12:56.906793Z"
    }
   },
   "outputs": [],
   "source": [
    "# df_weather.dtypes"
   ]
  },
  {
   "cell_type": "code",
   "execution_count": 38,
   "metadata": {
    "ExecuteTime": {
     "end_time": "2019-11-09T10:12:56.954352Z",
     "start_time": "2019-11-09T10:12:56.928161Z"
    }
   },
   "outputs": [],
   "source": [
    "# Since SeaLevel has more NaN cases, so it makes sense to drop SeaLevel.\n",
    "# However, we will first impute missing values into StnPressure, whereby StnPressure = Sealevel - 0.7\n",
    "df_weather.loc[848,'StnPressure'] = df_weather.loc[848,'SeaLevel'] - 0.7\n",
    "df_weather.loc[2410,'StnPressure'] = df_weather.loc[2410,'SeaLevel'] - 0.7\n",
    "df_weather.loc[2411,'StnPressure'] = df_weather.loc[2411,'SeaLevel'] - 0.7\n",
    "# drop columns 'SeaLevel'\n",
    "df_weather.drop(labels=['SeaLevel'],axis=1,inplace=True)"
   ]
  },
  {
   "cell_type": "code",
   "execution_count": 39,
   "metadata": {
    "ExecuteTime": {
     "end_time": "2019-11-09T10:12:57.333475Z",
     "start_time": "2019-11-09T10:12:56.955349Z"
    }
   },
   "outputs": [
    {
     "data": {
      "text/plain": [
       "<matplotlib.collections.PathCollection at 0x1a6962f4da0>"
      ]
     },
     "execution_count": 39,
     "metadata": {},
     "output_type": "execute_result"
    },
    {
     "data": {
      "image/png": "[encoded data removed]",
      "text/plain": [
       "<Figure size 432x288 with 1 Axes>"
      ]
     },
     "metadata": {
      "needs_background": "light"
     },
     "output_type": "display_data"
    }
   ],
   "source": [
    "plt.scatter(df_weather['ResultSpeed'],df_weather['AvgSpeed'])"
   ]
  },
  {
   "cell_type": "markdown",
   "metadata": {},
   "source": [
    "#### 'ResultSpeed' (x axis) and 'AvgSpeed' (y axis) are closely linearly correlated.\n",
    "Since both are closely linearly correlated, we really only need one of them (the other can be dropped).\n",
    "Will drop 'AvgSpeed'"
   ]
  },
  {
   "cell_type": "code",
   "execution_count": 40,
   "metadata": {
    "ExecuteTime": {
     "end_time": "2019-11-09T10:12:57.348818Z",
     "start_time": "2019-11-09T10:12:57.333475Z"
    }
   },
   "outputs": [],
   "source": [
    "df_weather.drop(labels=['AvgSpeed'],axis=1,inplace=True)"
   ]
  },
  {
   "cell_type": "code",
   "execution_count": 41,
   "metadata": {
    "ExecuteTime": {
     "end_time": "2019-11-09T10:12:57.506290Z",
     "start_time": "2019-11-09T10:12:57.351477Z"
    }
   },
   "outputs": [],
   "source": [
    "# replace symbols, 'M' with NaN\n",
    "df_weather=df_weather.replace('M',np.nan)\n",
    "df_weather=df_weather.replace('*',np.nan)\n",
    "df_weather=df_weather.replace('-',np.nan)\n",
    "#convert 60 min into 1 hour \n",
    "df_weather=df_weather.replace('1660','1700')\n",
    "df_weather=df_weather.replace('1760','1800')\n",
    "df_weather=df_weather.replace('1860','1900')\n",
    "df_weather=df_weather.replace('1960','2000')"
   ]
  },
  {
   "cell_type": "code",
   "execution_count": 42,
   "metadata": {
    "ExecuteTime": {
     "end_time": "2019-11-09T10:12:57.522323Z",
     "start_time": "2019-11-09T10:12:57.506290Z"
    }
   },
   "outputs": [
    {
     "data": {
      "text/html": [
       "<div>\n",
       "<style scoped>\n",
       "    .dataframe tbody tr th:only-of-type {\n",
       "        vertical-align: middle;\n",
       "    }\n",
       "\n",
       "    .dataframe tbody tr th {\n",
       "        vertical-align: top;\n",
       "    }\n",
       "\n",
       "    .dataframe thead th {\n",
       "        text-align: right;\n",
       "    }\n",
       "</style>\n",
       "<table border=\"1\" class=\"dataframe\">\n",
       "  <thead>\n",
       "    <tr style=\"text-align: right;\">\n",
       "      <th></th>\n",
       "      <th>Station</th>\n",
       "      <th>Date</th>\n",
       "      <th>Tmax</th>\n",
       "      <th>Tmin</th>\n",
       "      <th>Tavg</th>\n",
       "      <th>Depart</th>\n",
       "      <th>DewPoint</th>\n",
       "      <th>WetBulb</th>\n",
       "      <th>Heat</th>\n",
       "      <th>Cool</th>\n",
       "      <th>Sunrise</th>\n",
       "      <th>Sunset</th>\n",
       "      <th>CodeSum</th>\n",
       "      <th>PrecipTotal</th>\n",
       "      <th>StnPressure</th>\n",
       "      <th>ResultSpeed</th>\n",
       "      <th>ResultDir</th>\n",
       "    </tr>\n",
       "  </thead>\n",
       "  <tbody>\n",
       "    <tr>\n",
       "      <th>0</th>\n",
       "      <td>1</td>\n",
       "      <td>2007-05-01</td>\n",
       "      <td>83</td>\n",
       "      <td>50</td>\n",
       "      <td>67</td>\n",
       "      <td>14</td>\n",
       "      <td>51</td>\n",
       "      <td>56</td>\n",
       "      <td>0</td>\n",
       "      <td>2</td>\n",
       "      <td>0448</td>\n",
       "      <td>1849</td>\n",
       "      <td></td>\n",
       "      <td>0.0</td>\n",
       "      <td>29.1</td>\n",
       "      <td>1.7</td>\n",
       "      <td>27</td>\n",
       "    </tr>\n",
       "  </tbody>\n",
       "</table>\n",
       "</div>"
      ],
      "text/plain": [
       "   Station       Date  Tmax  Tmin Tavg Depart  DewPoint WetBulb Heat Cool  \\\n",
       "0        1 2007-05-01    83    50   67     14        51      56    0    2   \n",
       "\n",
       "  Sunrise Sunset CodeSum  PrecipTotal  StnPressure  ResultSpeed  ResultDir  \n",
       "0    0448   1849                  0.0         29.1          1.7         27  "
      ]
     },
     "execution_count": 42,
     "metadata": {},
     "output_type": "execute_result"
    }
   ],
   "source": [
    "df_weather.head(1)"
   ]
  },
  {
   "cell_type": "code",
   "execution_count": 43,
   "metadata": {
    "ExecuteTime": {
     "end_time": "2019-11-09T10:12:57.554583Z",
     "start_time": "2019-11-09T10:12:57.523323Z"
    }
   },
   "outputs": [],
   "source": [
    "# convert 'object' type columns to numeric\n",
    "df_weather['Tavg'] = pd.to_numeric(df_weather['Tavg'])\n",
    "df_weather['Depart'] = pd.to_numeric(df_weather['Depart'])\n",
    "df_weather['WetBulb'] = pd.to_numeric(df_weather['WetBulb'])\n",
    "df_weather['Heat'] = pd.to_numeric(df_weather['Heat'])\n",
    "df_weather['Cool'] = pd.to_numeric(df_weather['Cool'])"
   ]
  },
  {
   "cell_type": "code",
   "execution_count": 44,
   "metadata": {
    "ExecuteTime": {
     "end_time": "2019-11-09T10:12:57.579210Z",
     "start_time": "2019-11-09T10:12:57.554583Z"
    }
   },
   "outputs": [
    {
     "data": {
      "text/plain": [
       "Station                 int64\n",
       "Date           datetime64[ns]\n",
       "Tmax                    int64\n",
       "Tmin                    int64\n",
       "Tavg                  float64\n",
       "Depart                float64\n",
       "DewPoint                int64\n",
       "WetBulb               float64\n",
       "Heat                  float64\n",
       "Cool                  float64\n",
       "Sunrise                object\n",
       "Sunset                 object\n",
       "CodeSum                object\n",
       "PrecipTotal           float64\n",
       "StnPressure           float64\n",
       "ResultSpeed           float64\n",
       "ResultDir               int64\n",
       "dtype: object"
      ]
     },
     "execution_count": 44,
     "metadata": {},
     "output_type": "execute_result"
    }
   ],
   "source": [
    "df_weather.dtypes"
   ]
  },
  {
   "cell_type": "code",
   "execution_count": 45,
   "metadata": {
    "ExecuteTime": {
     "end_time": "2019-11-09T10:12:57.603815Z",
     "start_time": "2019-11-09T10:12:57.579210Z"
    }
   },
   "outputs": [
    {
     "data": {
      "text/plain": [
       "Depart     1467\n",
       "Sunset     1467\n",
       "Sunrise    1467\n",
       "Heat         10\n",
       "Cool         10\n",
       "Tavg         10\n",
       "WetBulb       4\n",
       "Date          0\n",
       "dtype: int64"
      ]
     },
     "execution_count": 45,
     "metadata": {},
     "output_type": "execute_result"
    }
   ],
   "source": [
    "# check for NaN\n",
    "df_weather.isna().sum().sort_values(ascending = False).head(8)"
   ]
  },
  {
   "cell_type": "code",
   "execution_count": 46,
   "metadata": {
    "ExecuteTime": {
     "end_time": "2019-11-09T10:12:57.657568Z",
     "start_time": "2019-11-09T10:12:57.603815Z"
    }
   },
   "outputs": [
    {
     "data": {
      "text/html": [
       "<div>\n",
       "<style scoped>\n",
       "    .dataframe tbody tr th:only-of-type {\n",
       "        vertical-align: middle;\n",
       "    }\n",
       "\n",
       "    .dataframe tbody tr th {\n",
       "        vertical-align: top;\n",
       "    }\n",
       "\n",
       "    .dataframe thead th {\n",
       "        text-align: right;\n",
       "    }\n",
       "</style>\n",
       "<table border=\"1\" class=\"dataframe\">\n",
       "  <thead>\n",
       "    <tr style=\"text-align: right;\">\n",
       "      <th></th>\n",
       "      <th>Station</th>\n",
       "      <th>Date</th>\n",
       "      <th>Tmax</th>\n",
       "      <th>Tmin</th>\n",
       "      <th>Tavg</th>\n",
       "      <th>Depart</th>\n",
       "      <th>DewPoint</th>\n",
       "      <th>WetBulb</th>\n",
       "      <th>Heat</th>\n",
       "      <th>Cool</th>\n",
       "      <th>Sunrise</th>\n",
       "      <th>Sunset</th>\n",
       "      <th>CodeSum</th>\n",
       "      <th>PrecipTotal</th>\n",
       "      <th>StnPressure</th>\n",
       "      <th>ResultSpeed</th>\n",
       "      <th>ResultDir</th>\n",
       "    </tr>\n",
       "  </thead>\n",
       "  <tbody>\n",
       "    <tr>\n",
       "      <th>2811</th>\n",
       "      <td>2</td>\n",
       "      <td>2014-08-26</td>\n",
       "      <td>86</td>\n",
       "      <td>49</td>\n",
       "      <td>NaN</td>\n",
       "      <td>NaN</td>\n",
       "      <td>68</td>\n",
       "      <td>71.0</td>\n",
       "      <td>NaN</td>\n",
       "      <td>NaN</td>\n",
       "      <td>NaN</td>\n",
       "      <td>NaN</td>\n",
       "      <td></td>\n",
       "      <td>0.005</td>\n",
       "      <td>29.41</td>\n",
       "      <td>1.3</td>\n",
       "      <td>15</td>\n",
       "    </tr>\n",
       "  </tbody>\n",
       "</table>\n",
       "</div>"
      ],
      "text/plain": [
       "      Station       Date  Tmax  Tmin  Tavg  Depart  DewPoint  WetBulb  Heat  \\\n",
       "2811        2 2014-08-26    86    49   NaN     NaN        68     71.0   NaN   \n",
       "\n",
       "      Cool Sunrise Sunset CodeSum  PrecipTotal  StnPressure  ResultSpeed  \\\n",
       "2811   NaN     NaN    NaN                0.005        29.41          1.3   \n",
       "\n",
       "      ResultDir  \n",
       "2811         15  "
      ]
     },
     "metadata": {},
     "output_type": "display_data"
    },
    {
     "data": {
      "text/html": [
       "<div>\n",
       "<style scoped>\n",
       "    .dataframe tbody tr th:only-of-type {\n",
       "        vertical-align: middle;\n",
       "    }\n",
       "\n",
       "    .dataframe tbody tr th {\n",
       "        vertical-align: top;\n",
       "    }\n",
       "\n",
       "    .dataframe thead th {\n",
       "        text-align: right;\n",
       "    }\n",
       "</style>\n",
       "<table border=\"1\" class=\"dataframe\">\n",
       "  <thead>\n",
       "    <tr style=\"text-align: right;\">\n",
       "      <th></th>\n",
       "      <th>Station</th>\n",
       "      <th>Date</th>\n",
       "      <th>Tmax</th>\n",
       "      <th>Tmin</th>\n",
       "      <th>Tavg</th>\n",
       "      <th>Depart</th>\n",
       "      <th>DewPoint</th>\n",
       "      <th>WetBulb</th>\n",
       "      <th>Heat</th>\n",
       "      <th>Cool</th>\n",
       "      <th>Sunrise</th>\n",
       "      <th>Sunset</th>\n",
       "      <th>CodeSum</th>\n",
       "      <th>PrecipTotal</th>\n",
       "      <th>StnPressure</th>\n",
       "      <th>ResultSpeed</th>\n",
       "      <th>ResultDir</th>\n",
       "    </tr>\n",
       "  </thead>\n",
       "  <tbody>\n",
       "    <tr>\n",
       "      <th>2811</th>\n",
       "      <td>2</td>\n",
       "      <td>2014-08-26</td>\n",
       "      <td>86</td>\n",
       "      <td>49</td>\n",
       "      <td>NaN</td>\n",
       "      <td>NaN</td>\n",
       "      <td>68</td>\n",
       "      <td>71.0</td>\n",
       "      <td>NaN</td>\n",
       "      <td>NaN</td>\n",
       "      <td>NaN</td>\n",
       "      <td>NaN</td>\n",
       "      <td></td>\n",
       "      <td>0.005</td>\n",
       "      <td>29.41</td>\n",
       "      <td>1.3</td>\n",
       "      <td>15</td>\n",
       "    </tr>\n",
       "  </tbody>\n",
       "</table>\n",
       "</div>"
      ],
      "text/plain": [
       "      Station       Date  Tmax  Tmin  Tavg  Depart  DewPoint  WetBulb  Heat  \\\n",
       "2811        2 2014-08-26    86    49   NaN     NaN        68     71.0   NaN   \n",
       "\n",
       "      Cool Sunrise Sunset CodeSum  PrecipTotal  StnPressure  ResultSpeed  \\\n",
       "2811   NaN     NaN    NaN                0.005        29.41          1.3   \n",
       "\n",
       "      ResultDir  \n",
       "2811         15  "
      ]
     },
     "metadata": {},
     "output_type": "display_data"
    },
    {
     "data": {
      "text/html": [
       "<div>\n",
       "<style scoped>\n",
       "    .dataframe tbody tr th:only-of-type {\n",
       "        vertical-align: middle;\n",
       "    }\n",
       "\n",
       "    .dataframe tbody tr th {\n",
       "        vertical-align: top;\n",
       "    }\n",
       "\n",
       "    .dataframe thead th {\n",
       "        text-align: right;\n",
       "    }\n",
       "</style>\n",
       "<table border=\"1\" class=\"dataframe\">\n",
       "  <thead>\n",
       "    <tr style=\"text-align: right;\">\n",
       "      <th></th>\n",
       "      <th>Station</th>\n",
       "      <th>Date</th>\n",
       "      <th>Tmax</th>\n",
       "      <th>Tmin</th>\n",
       "      <th>Tavg</th>\n",
       "      <th>Depart</th>\n",
       "      <th>DewPoint</th>\n",
       "      <th>WetBulb</th>\n",
       "      <th>Heat</th>\n",
       "      <th>Cool</th>\n",
       "      <th>Sunrise</th>\n",
       "      <th>Sunset</th>\n",
       "      <th>CodeSum</th>\n",
       "      <th>PrecipTotal</th>\n",
       "      <th>StnPressure</th>\n",
       "      <th>ResultSpeed</th>\n",
       "      <th>ResultDir</th>\n",
       "    </tr>\n",
       "  </thead>\n",
       "  <tbody>\n",
       "    <tr>\n",
       "      <th>2415</th>\n",
       "      <td>2</td>\n",
       "      <td>2013-08-12</td>\n",
       "      <td>85</td>\n",
       "      <td>69</td>\n",
       "      <td>77.0</td>\n",
       "      <td>NaN</td>\n",
       "      <td>63</td>\n",
       "      <td>NaN</td>\n",
       "      <td>0.0</td>\n",
       "      <td>12.0</td>\n",
       "      <td>NaN</td>\n",
       "      <td>NaN</td>\n",
       "      <td>RA</td>\n",
       "      <td>0.66</td>\n",
       "      <td>29.27</td>\n",
       "      <td>4.5</td>\n",
       "      <td>26</td>\n",
       "    </tr>\n",
       "  </tbody>\n",
       "</table>\n",
       "</div>"
      ],
      "text/plain": [
       "      Station       Date  Tmax  Tmin  Tavg  Depart  DewPoint  WetBulb  Heat  \\\n",
       "2415        2 2013-08-12    85    69  77.0     NaN        63      NaN   0.0   \n",
       "\n",
       "      Cool Sunrise Sunset CodeSum  PrecipTotal  StnPressure  ResultSpeed  \\\n",
       "2415  12.0     NaN    NaN      RA         0.66        29.27          4.5   \n",
       "\n",
       "      ResultDir  \n",
       "2415         26  "
      ]
     },
     "metadata": {},
     "output_type": "display_data"
    }
   ],
   "source": [
    "display(df_weather[df_weather['Heat'].isna()].tail(1))\n",
    "display(df_weather[df_weather['Cool'].isna()].tail(1))\n",
    "display(df_weather[df_weather['WetBulb'].isna()].tail(1))"
   ]
  },
  {
   "cell_type": "code",
   "execution_count": 47,
   "metadata": {
    "ExecuteTime": {
     "end_time": "2019-11-09T10:12:58.823591Z",
     "start_time": "2019-11-09T10:12:57.657568Z"
    }
   },
   "outputs": [
    {
     "name": "stderr",
     "output_type": "stream",
     "text": [
      "C:\\Users\\abinl\\Anaconda3\\lib\\site-packages\\ipykernel_launcher.py:8: SettingWithCopyWarning: \n",
      "A value is trying to be set on a copy of a slice from a DataFrame\n",
      "\n",
      "See the caveats in the documentation: http://pandas.pydata.org/pandas-docs/stable/indexing.html#indexing-view-versus-copy\n",
      "  \n"
     ]
    }
   ],
   "source": [
    "# reset index, since a few rows were dropped previously\n",
    "df_weather=df_weather.reset_index(drop=True)\n",
    "\n",
    "# imputing with median for the null values in the 3 columns.\n",
    "for col in ['Heat','Cool','WetBulb']:\n",
    "    for i in range(2807):\n",
    "        if np.isnan(df_weather[col][i]):\n",
    "            df_weather[col][i] = df_weather[col].median()"
   ]
  },
  {
   "cell_type": "code",
   "execution_count": 48,
   "metadata": {
    "ExecuteTime": {
     "end_time": "2019-11-09T10:12:59.197164Z",
     "start_time": "2019-11-09T10:12:58.826582Z"
    }
   },
   "outputs": [],
   "source": [
    "# impute 'Tavg'\n",
    "for index, row in df_weather.iterrows():\n",
    "    if np.isnan(row['Tavg']):\n",
    "        df_weather.loc[index,'Tavg'] = (row['Tmax']+row['Tmin'])/2"
   ]
  },
  {
   "cell_type": "code",
   "execution_count": 49,
   "metadata": {
    "ExecuteTime": {
     "end_time": "2019-11-09T10:13:00.571471Z",
     "start_time": "2019-11-09T10:12:59.199159Z"
    }
   },
   "outputs": [],
   "source": [
    "# impute 'Depart'\n",
    "# from observing the data, this value is calculated by subtracting a reference temp of 53degF / 54degF from Tavg\n",
    "# we shall use the mid-point i.e. 53.5degF\n",
    "for index, row in df_weather.iterrows():\n",
    "    if np.isnan(row['Depart']):\n",
    "        df_weather.loc[index,'Depart'] = row['Tavg'] - 53.5"
   ]
  },
  {
   "cell_type": "code",
   "execution_count": 50,
   "metadata": {
    "ExecuteTime": {
     "end_time": "2019-11-09T10:13:02.283056Z",
     "start_time": "2019-11-09T10:13:00.571471Z"
    }
   },
   "outputs": [],
   "source": [
    "# impute 'Sunrise' and 'Sunset'\n",
    "# the missing values are only in the weather records for Station 2.\n",
    "# where 'Sunrise' is missing, 'Sunset' is also missing\n",
    "# we impute these using the same values from Station 1 for the same day\n",
    "for index, row in df_weather.iterrows():\n",
    "    if not type(row['Sunrise'])==float: # values not missing - 'nan' is type float; otherwise it would be type str\n",
    "        previous_sunrise = row['Sunrise'] # store for the next record\n",
    "        previous_sunset = row['Sunset'] # store for the next record\n",
    "    else:\n",
    "        df_weather.loc[index,'Sunrise'] = previous_sunrise\n",
    "        df_weather.loc[index,'Sunset'] = previous_sunset"
   ]
  },
  {
   "cell_type": "code",
   "execution_count": 51,
   "metadata": {
    "ExecuteTime": {
     "end_time": "2019-11-09T10:13:02.308100Z",
     "start_time": "2019-11-09T10:13:02.283056Z"
    }
   },
   "outputs": [
    {
     "data": {
      "text/plain": [
       "False"
      ]
     },
     "execution_count": 51,
     "metadata": {},
     "output_type": "execute_result"
    }
   ],
   "source": [
    "# check for NaN\n",
    "df_weather.isna().sum().any()"
   ]
  },
  {
   "cell_type": "code",
   "execution_count": 52,
   "metadata": {
    "ExecuteTime": {
     "end_time": "2019-11-09T10:13:02.331488Z",
     "start_time": "2019-11-09T10:13:02.308100Z"
    }
   },
   "outputs": [
    {
     "data": {
      "text/plain": [
       "(2939, 17)"
      ]
     },
     "execution_count": 52,
     "metadata": {},
     "output_type": "execute_result"
    }
   ],
   "source": [
    "df_weather.shape"
   ]
  },
  {
   "cell_type": "markdown",
   "metadata": {},
   "source": [
    "### Process Sunrise / Sunset and then get daylight hours"
   ]
  },
  {
   "cell_type": "code",
   "execution_count": 53,
   "metadata": {
    "ExecuteTime": {
     "end_time": "2019-11-09T10:13:02.368112Z",
     "start_time": "2019-11-09T10:13:02.331488Z"
    }
   },
   "outputs": [],
   "source": [
    "# convert sunrise and sunset into date time format after inserting ':' in between hour and minute\n",
    "df_weather['Sunrise'] = df_weather['Sunrise'].map(lambda x: x[0:2]+':'+x[2:4])\n",
    "df_weather['Sunset'] = df_weather['Sunset'].map(lambda x: x[0:2]+':'+x[2:4])\n",
    "\n",
    "df_weather['Sunrise']=pd.to_datetime(df_weather['Sunrise'],format='%H:%M') \n",
    "df_weather['Sunset']=pd.to_datetime(df_weather['Sunset'],format='%H:%M') \n",
    "# To get the time information subtracted the date\n",
    "df_weather['temp'] = pd.to_datetime('1900-01-01 00:00:00')\n",
    "df_weather['Sunrise']=df_weather['Sunrise']-df_weather['temp']\n",
    "df_weather['Sunset']=df_weather['Sunset']-df_weather['temp']"
   ]
  },
  {
   "cell_type": "code",
   "execution_count": 54,
   "metadata": {
    "ExecuteTime": {
     "end_time": "2019-11-09T10:13:02.435574Z",
     "start_time": "2019-11-09T10:13:02.370136Z"
    }
   },
   "outputs": [],
   "source": [
    "# calculated day time as sunset - sunrise\n",
    "df_weather['daytime']=(df_weather['Sunset']-df_weather['Sunrise']).astype(str)"
   ]
  },
  {
   "cell_type": "code",
   "execution_count": 55,
   "metadata": {
    "ExecuteTime": {
     "end_time": "2019-11-09T10:13:02.475283Z",
     "start_time": "2019-11-09T10:13:02.437880Z"
    }
   },
   "outputs": [],
   "source": [
    "# Dewpoint depression = dry bulb temperature(Average Temperature)-dewpoint temperature \n",
    "df_weather['dew_point_depression']=df_weather['Tavg']-df_weather['DewPoint']"
   ]
  },
  {
   "cell_type": "code",
   "execution_count": 56,
   "metadata": {
    "ExecuteTime": {
     "end_time": "2019-11-09T10:13:02.495897Z",
     "start_time": "2019-11-09T10:13:02.477554Z"
    }
   },
   "outputs": [],
   "source": [
    "# wet bulb depression = dry bulb temperature(Average Temperature)-wetbulb temperature \n",
    "df_weather['wet_bulb_depression']=df_weather['Tavg']-df_weather['WetBulb']"
   ]
  },
  {
   "cell_type": "code",
   "execution_count": 57,
   "metadata": {
    "ExecuteTime": {
     "end_time": "2019-11-09T10:13:02.524151Z",
     "start_time": "2019-11-09T10:13:02.497903Z"
    }
   },
   "outputs": [],
   "source": [
    "# Extracted month from date and converted to integer\n",
    "df_weather['month']=pd.DatetimeIndex(df_weather['Date']).month.astype(int)"
   ]
  },
  {
   "cell_type": "code",
   "execution_count": 58,
   "metadata": {
    "ExecuteTime": {
     "end_time": "2019-11-09T10:13:02.539224Z",
     "start_time": "2019-11-09T10:13:02.525147Z"
    }
   },
   "outputs": [],
   "source": [
    "# Extracted year from date and converted to integer\n",
    "df_weather['year']=pd.DatetimeIndex(df_weather['Date']).year.astype(int)"
   ]
  },
  {
   "cell_type": "code",
   "execution_count": 59,
   "metadata": {
    "ExecuteTime": {
     "end_time": "2019-11-09T10:13:02.562851Z",
     "start_time": "2019-11-09T10:13:02.540524Z"
    }
   },
   "outputs": [],
   "source": [
    "# Function to calculate relative humidity\n",
    "def relative_humidity(tavg,dewpoint):\n",
    "    #converted temperature to celcius\n",
    "    tavg_celcius = (5.0/9.0)*(tavg-32.0)\n",
    "    dewpoint_celcius = (5.0/9.0)*(dewpoint-32.0)\n",
    "    # Calculated vapour pressure and actual pressure\n",
    "    saturation_vapour_pressure = 6.11*10.0**(7.5*tavg_celcius/(237.7+tavg_celcius))\n",
    "    actual_pressure = 6.11*10.0**(7.5*dewpoint_celcius/(237.7+dewpoint_celcius))\n",
    "    #return relative humidity\n",
    "    return round(((actual_pressure/saturation_vapour_pressure)*100))"
   ]
  },
  {
   "cell_type": "code",
   "execution_count": 60,
   "metadata": {
    "ExecuteTime": {
     "end_time": "2019-11-09T10:13:02.580713Z",
     "start_time": "2019-11-09T10:13:02.565016Z"
    }
   },
   "outputs": [],
   "source": [
    "# New column with Relative humidity values are created from the function\n",
    "df_weather['relative_humidity']=relative_humidity(df_weather['Tavg'],df_weather['DewPoint']).astype(int)"
   ]
  },
  {
   "cell_type": "code",
   "execution_count": 61,
   "metadata": {
    "ExecuteTime": {
     "end_time": "2019-11-09T10:13:02.603064Z",
     "start_time": "2019-11-09T10:13:02.581709Z"
    }
   },
   "outputs": [
    {
     "data": {
      "text/plain": [
       "Index(['Station', 'Date', 'Tmax', 'Tmin', 'Tavg', 'Depart', 'DewPoint',\n",
       "       'WetBulb', 'Heat', 'Cool', 'Sunrise', 'Sunset', 'CodeSum',\n",
       "       'PrecipTotal', 'StnPressure', 'ResultSpeed', 'ResultDir', 'temp',\n",
       "       'daytime', 'dew_point_depression', 'wet_bulb_depression', 'month',\n",
       "       'year', 'relative_humidity'],\n",
       "      dtype='object')"
      ]
     },
     "execution_count": 61,
     "metadata": {},
     "output_type": "execute_result"
    }
   ],
   "source": [
    "df_weather.columns"
   ]
  },
  {
   "cell_type": "code",
   "execution_count": 62,
   "metadata": {
    "ExecuteTime": {
     "end_time": "2019-11-09T10:13:02.645191Z",
     "start_time": "2019-11-09T10:13:02.605059Z"
    }
   },
   "outputs": [
    {
     "data": {
      "text/html": [
       "<div>\n",
       "<style scoped>\n",
       "    .dataframe tbody tr th:only-of-type {\n",
       "        vertical-align: middle;\n",
       "    }\n",
       "\n",
       "    .dataframe tbody tr th {\n",
       "        vertical-align: top;\n",
       "    }\n",
       "\n",
       "    .dataframe thead th {\n",
       "        text-align: right;\n",
       "    }\n",
       "</style>\n",
       "<table border=\"1\" class=\"dataframe\">\n",
       "  <thead>\n",
       "    <tr style=\"text-align: right;\">\n",
       "      <th></th>\n",
       "      <th>Date</th>\n",
       "      <th>Station</th>\n",
       "      <th>month</th>\n",
       "      <th>year</th>\n",
       "      <th>Tmax</th>\n",
       "      <th>Tmin</th>\n",
       "      <th>Tavg</th>\n",
       "      <th>Depart</th>\n",
       "      <th>DewPoint</th>\n",
       "      <th>dew_point_depression</th>\n",
       "      <th>WetBulb</th>\n",
       "      <th>wet_bulb_depression</th>\n",
       "      <th>relative_humidity</th>\n",
       "      <th>Heat</th>\n",
       "      <th>Cool</th>\n",
       "      <th>Sunrise</th>\n",
       "      <th>Sunset</th>\n",
       "      <th>daytime</th>\n",
       "      <th>CodeSum</th>\n",
       "      <th>PrecipTotal</th>\n",
       "      <th>StnPressure</th>\n",
       "      <th>ResultSpeed</th>\n",
       "      <th>ResultDir</th>\n",
       "    </tr>\n",
       "  </thead>\n",
       "  <tbody>\n",
       "    <tr>\n",
       "      <th>0</th>\n",
       "      <td>2007-05-01</td>\n",
       "      <td>1</td>\n",
       "      <td>5</td>\n",
       "      <td>2007</td>\n",
       "      <td>83</td>\n",
       "      <td>50</td>\n",
       "      <td>67.0</td>\n",
       "      <td>14.0</td>\n",
       "      <td>51</td>\n",
       "      <td>16.0</td>\n",
       "      <td>56.0</td>\n",
       "      <td>11.0</td>\n",
       "      <td>56</td>\n",
       "      <td>0.0</td>\n",
       "      <td>2.0</td>\n",
       "      <td>04:48:00</td>\n",
       "      <td>18:49:00</td>\n",
       "      <td>0 days 14:01:00.000000000</td>\n",
       "      <td></td>\n",
       "      <td>0.0</td>\n",
       "      <td>29.10</td>\n",
       "      <td>1.7</td>\n",
       "      <td>27</td>\n",
       "    </tr>\n",
       "    <tr>\n",
       "      <th>1</th>\n",
       "      <td>2007-05-01</td>\n",
       "      <td>2</td>\n",
       "      <td>5</td>\n",
       "      <td>2007</td>\n",
       "      <td>84</td>\n",
       "      <td>52</td>\n",
       "      <td>68.0</td>\n",
       "      <td>14.5</td>\n",
       "      <td>51</td>\n",
       "      <td>17.0</td>\n",
       "      <td>57.0</td>\n",
       "      <td>11.0</td>\n",
       "      <td>55</td>\n",
       "      <td>0.0</td>\n",
       "      <td>3.0</td>\n",
       "      <td>04:48:00</td>\n",
       "      <td>18:49:00</td>\n",
       "      <td>0 days 14:01:00.000000000</td>\n",
       "      <td></td>\n",
       "      <td>0.0</td>\n",
       "      <td>29.18</td>\n",
       "      <td>2.7</td>\n",
       "      <td>25</td>\n",
       "    </tr>\n",
       "    <tr>\n",
       "      <th>2</th>\n",
       "      <td>2007-05-02</td>\n",
       "      <td>1</td>\n",
       "      <td>5</td>\n",
       "      <td>2007</td>\n",
       "      <td>59</td>\n",
       "      <td>42</td>\n",
       "      <td>51.0</td>\n",
       "      <td>-3.0</td>\n",
       "      <td>42</td>\n",
       "      <td>9.0</td>\n",
       "      <td>47.0</td>\n",
       "      <td>4.0</td>\n",
       "      <td>71</td>\n",
       "      <td>14.0</td>\n",
       "      <td>0.0</td>\n",
       "      <td>04:47:00</td>\n",
       "      <td>18:50:00</td>\n",
       "      <td>0 days 14:03:00.000000000</td>\n",
       "      <td>BR</td>\n",
       "      <td>0.0</td>\n",
       "      <td>29.38</td>\n",
       "      <td>13.0</td>\n",
       "      <td>4</td>\n",
       "    </tr>\n",
       "    <tr>\n",
       "      <th>3</th>\n",
       "      <td>2007-05-02</td>\n",
       "      <td>2</td>\n",
       "      <td>5</td>\n",
       "      <td>2007</td>\n",
       "      <td>60</td>\n",
       "      <td>43</td>\n",
       "      <td>52.0</td>\n",
       "      <td>-1.5</td>\n",
       "      <td>42</td>\n",
       "      <td>10.0</td>\n",
       "      <td>47.0</td>\n",
       "      <td>5.0</td>\n",
       "      <td>69</td>\n",
       "      <td>13.0</td>\n",
       "      <td>0.0</td>\n",
       "      <td>04:47:00</td>\n",
       "      <td>18:50:00</td>\n",
       "      <td>0 days 14:03:00.000000000</td>\n",
       "      <td>BR HZ</td>\n",
       "      <td>0.0</td>\n",
       "      <td>29.44</td>\n",
       "      <td>13.3</td>\n",
       "      <td>2</td>\n",
       "    </tr>\n",
       "    <tr>\n",
       "      <th>4</th>\n",
       "      <td>2007-05-03</td>\n",
       "      <td>1</td>\n",
       "      <td>5</td>\n",
       "      <td>2007</td>\n",
       "      <td>66</td>\n",
       "      <td>46</td>\n",
       "      <td>56.0</td>\n",
       "      <td>2.0</td>\n",
       "      <td>40</td>\n",
       "      <td>16.0</td>\n",
       "      <td>48.0</td>\n",
       "      <td>8.0</td>\n",
       "      <td>55</td>\n",
       "      <td>9.0</td>\n",
       "      <td>0.0</td>\n",
       "      <td>04:46:00</td>\n",
       "      <td>18:51:00</td>\n",
       "      <td>0 days 14:05:00.000000000</td>\n",
       "      <td></td>\n",
       "      <td>0.0</td>\n",
       "      <td>29.39</td>\n",
       "      <td>11.7</td>\n",
       "      <td>7</td>\n",
       "    </tr>\n",
       "  </tbody>\n",
       "</table>\n",
       "</div>"
      ],
      "text/plain": [
       "        Date  Station  month  year  Tmax  Tmin  Tavg  Depart  DewPoint  \\\n",
       "0 2007-05-01        1      5  2007    83    50  67.0    14.0        51   \n",
       "1 2007-05-01        2      5  2007    84    52  68.0    14.5        51   \n",
       "2 2007-05-02        1      5  2007    59    42  51.0    -3.0        42   \n",
       "3 2007-05-02        2      5  2007    60    43  52.0    -1.5        42   \n",
       "4 2007-05-03        1      5  2007    66    46  56.0     2.0        40   \n",
       "\n",
       "   dew_point_depression  WetBulb  wet_bulb_depression  relative_humidity  \\\n",
       "0                  16.0     56.0                 11.0                 56   \n",
       "1                  17.0     57.0                 11.0                 55   \n",
       "2                   9.0     47.0                  4.0                 71   \n",
       "3                  10.0     47.0                  5.0                 69   \n",
       "4                  16.0     48.0                  8.0                 55   \n",
       "\n",
       "   Heat  Cool  Sunrise   Sunset                    daytime CodeSum  \\\n",
       "0   0.0   2.0 04:48:00 18:49:00  0 days 14:01:00.000000000           \n",
       "1   0.0   3.0 04:48:00 18:49:00  0 days 14:01:00.000000000           \n",
       "2  14.0   0.0 04:47:00 18:50:00  0 days 14:03:00.000000000      BR   \n",
       "3  13.0   0.0 04:47:00 18:50:00  0 days 14:03:00.000000000   BR HZ   \n",
       "4   9.0   0.0 04:46:00 18:51:00  0 days 14:05:00.000000000           \n",
       "\n",
       "   PrecipTotal  StnPressure  ResultSpeed  ResultDir  \n",
       "0          0.0        29.10          1.7         27  \n",
       "1          0.0        29.18          2.7         25  \n",
       "2          0.0        29.38         13.0          4  \n",
       "3          0.0        29.44         13.3          2  \n",
       "4          0.0        29.39         11.7          7  "
      ]
     },
     "execution_count": 62,
     "metadata": {},
     "output_type": "execute_result"
    }
   ],
   "source": [
    "# Reindexed the columns\n",
    "df_weather = df_weather.reindex(columns = ['Date','Station','month', 'year','Tmax', 'Tmin', 'Tavg', 'Depart', 'DewPoint',\n",
    "                                           'dew_point_depression','WetBulb','wet_bulb_depression','relative_humidity',\n",
    "                                           'Heat', 'Cool', 'Sunrise', 'Sunset','daytime', 'CodeSum', 'PrecipTotal',\n",
    "                                           'StnPressure', 'ResultSpeed', 'ResultDir'])\n",
    "df_weather.head()"
   ]
  },
  {
   "cell_type": "markdown",
   "metadata": {},
   "source": [
    "### Deal with 'CodeSum'"
   ]
  },
  {
   "cell_type": "code",
   "execution_count": 63,
   "metadata": {
    "ExecuteTime": {
     "end_time": "2019-11-09T10:13:02.673539Z",
     "start_time": "2019-11-09T10:13:02.645191Z"
    }
   },
   "outputs": [
    {
     "name": "stdout",
     "output_type": "stream",
     "text": [
      "{'MIFG', 'BR', 'DZ', 'FG', 'FU', 'SN', 'FG+', 'VCTS', 'TSRA', 'RA', 'TS', 'HZ', 'SQ', 'BCFG', 'VCFG', 'GR'}\n"
     ]
    }
   ],
   "source": [
    "# Extract all the 'CodeSum' component values (e.g. RA, HZ, FU, FG+ etc.)\n",
    "# Note that this weather data will have to be used together with the test data\n",
    "# Note that this set of weather data includes the period covered by both the Train and Test data\n",
    "# So for training, we will use the subset of weather data for the period in the Train data (2007-05-29 to 2013-09-26)\n",
    "# For testing, we will use the subset of weather data for the period of the Test data (2008-06-11 to 2014-10-02)\n",
    "\n",
    "# global variable\n",
    "code_sum_list = []\n",
    "\n",
    "def get_code_sum_elems(code_sum_string):\n",
    "    global code_sum_list # use the global variable\n",
    "    # extend the global variable with this_list\n",
    "    code_sum_list.extend(code_sum_string.split())\n",
    "    return True\n",
    "\n",
    "for i in df_weather['CodeSum']:\n",
    "    get_code_sum_elems(i.strip())\n",
    "\n",
    "code_sum_set = set(code_sum_list)\n",
    "print(code_sum_set)"
   ]
  },
  {
   "cell_type": "code",
   "execution_count": 64,
   "metadata": {
    "ExecuteTime": {
     "end_time": "2019-11-09T10:13:02.703849Z",
     "start_time": "2019-11-09T10:13:02.673539Z"
    }
   },
   "outputs": [],
   "source": [
    "# For each CodeSum element, create a column (total of 16 columns)\n",
    "for i in code_sum_set:\n",
    "    df_weather[i] = 0"
   ]
  },
  {
   "cell_type": "code",
   "execution_count": 65,
   "metadata": {
    "ExecuteTime": {
     "end_time": "2019-11-09T10:13:04.347864Z",
     "start_time": "2019-11-09T10:13:02.703849Z"
    }
   },
   "outputs": [],
   "source": [
    "for index, row in df_weather.iterrows():\n",
    "    cs_list = row['CodeSum'].split() # split the CodeSum string\n",
    "    for j in cs_list:\n",
    "        #set corresponding column to 1\n",
    "        if j in code_sum_set:\n",
    "            df_weather.loc[index,j]=1"
   ]
  },
  {
   "cell_type": "code",
   "execution_count": 66,
   "metadata": {
    "ExecuteTime": {
     "end_time": "2019-11-09T10:13:04.371857Z",
     "start_time": "2019-11-09T10:13:04.347864Z"
    }
   },
   "outputs": [],
   "source": [
    "# now we can drop the 'CodeSum' column\n",
    "df_weather.drop(labels='CodeSum',axis=1,inplace=True)"
   ]
  },
  {
   "cell_type": "code",
   "execution_count": 67,
   "metadata": {
    "ExecuteTime": {
     "end_time": "2019-11-09T10:13:04.395720Z",
     "start_time": "2019-11-09T10:13:04.372854Z"
    }
   },
   "outputs": [
    {
     "data": {
      "text/plain": [
       "(2939, 38)"
      ]
     },
     "execution_count": 67,
     "metadata": {},
     "output_type": "execute_result"
    }
   ],
   "source": [
    "df_weather.shape"
   ]
  },
  {
   "cell_type": "code",
   "execution_count": 68,
   "metadata": {
    "ExecuteTime": {
     "end_time": "2019-11-09T10:13:04.444234Z",
     "start_time": "2019-11-09T10:13:04.395720Z"
    }
   },
   "outputs": [
    {
     "data": {
      "text/html": [
       "<div>\n",
       "<style scoped>\n",
       "    .dataframe tbody tr th:only-of-type {\n",
       "        vertical-align: middle;\n",
       "    }\n",
       "\n",
       "    .dataframe tbody tr th {\n",
       "        vertical-align: top;\n",
       "    }\n",
       "\n",
       "    .dataframe thead th {\n",
       "        text-align: right;\n",
       "    }\n",
       "</style>\n",
       "<table border=\"1\" class=\"dataframe\">\n",
       "  <thead>\n",
       "    <tr style=\"text-align: right;\">\n",
       "      <th></th>\n",
       "      <th>Date</th>\n",
       "      <th>Station</th>\n",
       "      <th>month</th>\n",
       "      <th>year</th>\n",
       "      <th>Tmax</th>\n",
       "      <th>Tmin</th>\n",
       "      <th>Tavg</th>\n",
       "      <th>Depart</th>\n",
       "      <th>DewPoint</th>\n",
       "      <th>dew_point_depression</th>\n",
       "      <th>WetBulb</th>\n",
       "      <th>wet_bulb_depression</th>\n",
       "      <th>relative_humidity</th>\n",
       "      <th>Heat</th>\n",
       "      <th>Cool</th>\n",
       "      <th>Sunrise</th>\n",
       "      <th>Sunset</th>\n",
       "      <th>daytime</th>\n",
       "      <th>PrecipTotal</th>\n",
       "      <th>StnPressure</th>\n",
       "      <th>ResultSpeed</th>\n",
       "      <th>ResultDir</th>\n",
       "      <th>MIFG</th>\n",
       "      <th>BR</th>\n",
       "      <th>DZ</th>\n",
       "      <th>FG</th>\n",
       "      <th>FU</th>\n",
       "      <th>SN</th>\n",
       "      <th>FG+</th>\n",
       "      <th>VCTS</th>\n",
       "      <th>TSRA</th>\n",
       "      <th>RA</th>\n",
       "      <th>TS</th>\n",
       "      <th>HZ</th>\n",
       "      <th>SQ</th>\n",
       "      <th>BCFG</th>\n",
       "      <th>VCFG</th>\n",
       "      <th>GR</th>\n",
       "    </tr>\n",
       "  </thead>\n",
       "  <tbody>\n",
       "    <tr>\n",
       "      <th>0</th>\n",
       "      <td>2007-05-01</td>\n",
       "      <td>1</td>\n",
       "      <td>5</td>\n",
       "      <td>2007</td>\n",
       "      <td>83</td>\n",
       "      <td>50</td>\n",
       "      <td>67.0</td>\n",
       "      <td>14.0</td>\n",
       "      <td>51</td>\n",
       "      <td>16.0</td>\n",
       "      <td>56.0</td>\n",
       "      <td>11.0</td>\n",
       "      <td>56</td>\n",
       "      <td>0.0</td>\n",
       "      <td>2.0</td>\n",
       "      <td>04:48:00</td>\n",
       "      <td>18:49:00</td>\n",
       "      <td>0 days 14:01:00.000000000</td>\n",
       "      <td>0.0</td>\n",
       "      <td>29.10</td>\n",
       "      <td>1.7</td>\n",
       "      <td>27</td>\n",
       "      <td>0</td>\n",
       "      <td>0</td>\n",
       "      <td>0</td>\n",
       "      <td>0</td>\n",
       "      <td>0</td>\n",
       "      <td>0</td>\n",
       "      <td>0</td>\n",
       "      <td>0</td>\n",
       "      <td>0</td>\n",
       "      <td>0</td>\n",
       "      <td>0</td>\n",
       "      <td>0</td>\n",
       "      <td>0</td>\n",
       "      <td>0</td>\n",
       "      <td>0</td>\n",
       "      <td>0</td>\n",
       "    </tr>\n",
       "    <tr>\n",
       "      <th>1</th>\n",
       "      <td>2007-05-01</td>\n",
       "      <td>2</td>\n",
       "      <td>5</td>\n",
       "      <td>2007</td>\n",
       "      <td>84</td>\n",
       "      <td>52</td>\n",
       "      <td>68.0</td>\n",
       "      <td>14.5</td>\n",
       "      <td>51</td>\n",
       "      <td>17.0</td>\n",
       "      <td>57.0</td>\n",
       "      <td>11.0</td>\n",
       "      <td>55</td>\n",
       "      <td>0.0</td>\n",
       "      <td>3.0</td>\n",
       "      <td>04:48:00</td>\n",
       "      <td>18:49:00</td>\n",
       "      <td>0 days 14:01:00.000000000</td>\n",
       "      <td>0.0</td>\n",
       "      <td>29.18</td>\n",
       "      <td>2.7</td>\n",
       "      <td>25</td>\n",
       "      <td>0</td>\n",
       "      <td>0</td>\n",
       "      <td>0</td>\n",
       "      <td>0</td>\n",
       "      <td>0</td>\n",
       "      <td>0</td>\n",
       "      <td>0</td>\n",
       "      <td>0</td>\n",
       "      <td>0</td>\n",
       "      <td>0</td>\n",
       "      <td>0</td>\n",
       "      <td>0</td>\n",
       "      <td>0</td>\n",
       "      <td>0</td>\n",
       "      <td>0</td>\n",
       "      <td>0</td>\n",
       "    </tr>\n",
       "    <tr>\n",
       "      <th>2</th>\n",
       "      <td>2007-05-02</td>\n",
       "      <td>1</td>\n",
       "      <td>5</td>\n",
       "      <td>2007</td>\n",
       "      <td>59</td>\n",
       "      <td>42</td>\n",
       "      <td>51.0</td>\n",
       "      <td>-3.0</td>\n",
       "      <td>42</td>\n",
       "      <td>9.0</td>\n",
       "      <td>47.0</td>\n",
       "      <td>4.0</td>\n",
       "      <td>71</td>\n",
       "      <td>14.0</td>\n",
       "      <td>0.0</td>\n",
       "      <td>04:47:00</td>\n",
       "      <td>18:50:00</td>\n",
       "      <td>0 days 14:03:00.000000000</td>\n",
       "      <td>0.0</td>\n",
       "      <td>29.38</td>\n",
       "      <td>13.0</td>\n",
       "      <td>4</td>\n",
       "      <td>0</td>\n",
       "      <td>1</td>\n",
       "      <td>0</td>\n",
       "      <td>0</td>\n",
       "      <td>0</td>\n",
       "      <td>0</td>\n",
       "      <td>0</td>\n",
       "      <td>0</td>\n",
       "      <td>0</td>\n",
       "      <td>0</td>\n",
       "      <td>0</td>\n",
       "      <td>0</td>\n",
       "      <td>0</td>\n",
       "      <td>0</td>\n",
       "      <td>0</td>\n",
       "      <td>0</td>\n",
       "    </tr>\n",
       "    <tr>\n",
       "      <th>3</th>\n",
       "      <td>2007-05-02</td>\n",
       "      <td>2</td>\n",
       "      <td>5</td>\n",
       "      <td>2007</td>\n",
       "      <td>60</td>\n",
       "      <td>43</td>\n",
       "      <td>52.0</td>\n",
       "      <td>-1.5</td>\n",
       "      <td>42</td>\n",
       "      <td>10.0</td>\n",
       "      <td>47.0</td>\n",
       "      <td>5.0</td>\n",
       "      <td>69</td>\n",
       "      <td>13.0</td>\n",
       "      <td>0.0</td>\n",
       "      <td>04:47:00</td>\n",
       "      <td>18:50:00</td>\n",
       "      <td>0 days 14:03:00.000000000</td>\n",
       "      <td>0.0</td>\n",
       "      <td>29.44</td>\n",
       "      <td>13.3</td>\n",
       "      <td>2</td>\n",
       "      <td>0</td>\n",
       "      <td>1</td>\n",
       "      <td>0</td>\n",
       "      <td>0</td>\n",
       "      <td>0</td>\n",
       "      <td>0</td>\n",
       "      <td>0</td>\n",
       "      <td>0</td>\n",
       "      <td>0</td>\n",
       "      <td>0</td>\n",
       "      <td>0</td>\n",
       "      <td>1</td>\n",
       "      <td>0</td>\n",
       "      <td>0</td>\n",
       "      <td>0</td>\n",
       "      <td>0</td>\n",
       "    </tr>\n",
       "    <tr>\n",
       "      <th>4</th>\n",
       "      <td>2007-05-03</td>\n",
       "      <td>1</td>\n",
       "      <td>5</td>\n",
       "      <td>2007</td>\n",
       "      <td>66</td>\n",
       "      <td>46</td>\n",
       "      <td>56.0</td>\n",
       "      <td>2.0</td>\n",
       "      <td>40</td>\n",
       "      <td>16.0</td>\n",
       "      <td>48.0</td>\n",
       "      <td>8.0</td>\n",
       "      <td>55</td>\n",
       "      <td>9.0</td>\n",
       "      <td>0.0</td>\n",
       "      <td>04:46:00</td>\n",
       "      <td>18:51:00</td>\n",
       "      <td>0 days 14:05:00.000000000</td>\n",
       "      <td>0.0</td>\n",
       "      <td>29.39</td>\n",
       "      <td>11.7</td>\n",
       "      <td>7</td>\n",
       "      <td>0</td>\n",
       "      <td>0</td>\n",
       "      <td>0</td>\n",
       "      <td>0</td>\n",
       "      <td>0</td>\n",
       "      <td>0</td>\n",
       "      <td>0</td>\n",
       "      <td>0</td>\n",
       "      <td>0</td>\n",
       "      <td>0</td>\n",
       "      <td>0</td>\n",
       "      <td>0</td>\n",
       "      <td>0</td>\n",
       "      <td>0</td>\n",
       "      <td>0</td>\n",
       "      <td>0</td>\n",
       "    </tr>\n",
       "  </tbody>\n",
       "</table>\n",
       "</div>"
      ],
      "text/plain": [
       "        Date  Station  month  year  Tmax  Tmin  Tavg  Depart  DewPoint  \\\n",
       "0 2007-05-01        1      5  2007    83    50  67.0    14.0        51   \n",
       "1 2007-05-01        2      5  2007    84    52  68.0    14.5        51   \n",
       "2 2007-05-02        1      5  2007    59    42  51.0    -3.0        42   \n",
       "3 2007-05-02        2      5  2007    60    43  52.0    -1.5        42   \n",
       "4 2007-05-03        1      5  2007    66    46  56.0     2.0        40   \n",
       "\n",
       "   dew_point_depression  WetBulb  wet_bulb_depression  relative_humidity  \\\n",
       "0                  16.0     56.0                 11.0                 56   \n",
       "1                  17.0     57.0                 11.0                 55   \n",
       "2                   9.0     47.0                  4.0                 71   \n",
       "3                  10.0     47.0                  5.0                 69   \n",
       "4                  16.0     48.0                  8.0                 55   \n",
       "\n",
       "   Heat  Cool  Sunrise   Sunset                    daytime  PrecipTotal  \\\n",
       "0   0.0   2.0 04:48:00 18:49:00  0 days 14:01:00.000000000          0.0   \n",
       "1   0.0   3.0 04:48:00 18:49:00  0 days 14:01:00.000000000          0.0   \n",
       "2  14.0   0.0 04:47:00 18:50:00  0 days 14:03:00.000000000          0.0   \n",
       "3  13.0   0.0 04:47:00 18:50:00  0 days 14:03:00.000000000          0.0   \n",
       "4   9.0   0.0 04:46:00 18:51:00  0 days 14:05:00.000000000          0.0   \n",
       "\n",
       "   StnPressure  ResultSpeed  ResultDir  MIFG  BR  DZ  FG  FU  SN  FG+  VCTS  \\\n",
       "0        29.10          1.7         27     0   0   0   0   0   0    0     0   \n",
       "1        29.18          2.7         25     0   0   0   0   0   0    0     0   \n",
       "2        29.38         13.0          4     0   1   0   0   0   0    0     0   \n",
       "3        29.44         13.3          2     0   1   0   0   0   0    0     0   \n",
       "4        29.39         11.7          7     0   0   0   0   0   0    0     0   \n",
       "\n",
       "   TSRA  RA  TS  HZ  SQ  BCFG  VCFG  GR  \n",
       "0     0   0   0   0   0     0     0   0  \n",
       "1     0   0   0   0   0     0     0   0  \n",
       "2     0   0   0   0   0     0     0   0  \n",
       "3     0   0   0   1   0     0     0   0  \n",
       "4     0   0   0   0   0     0     0   0  "
      ]
     },
     "execution_count": 68,
     "metadata": {},
     "output_type": "execute_result"
    }
   ],
   "source": [
    "df_weather.head(5)"
   ]
  },
  {
   "cell_type": "markdown",
   "metadata": {},
   "source": [
    "### Split weather data into Station 1 and Station 2 sets"
   ]
  },
  {
   "cell_type": "code",
   "execution_count": 69,
   "metadata": {
    "ExecuteTime": {
     "end_time": "2019-11-09T10:13:04.459876Z",
     "start_time": "2019-11-09T10:13:04.446636Z"
    }
   },
   "outputs": [
    {
     "name": "stdout",
     "output_type": "stream",
     "text": [
      "(1472, 38)\n",
      "(1467, 38)\n"
     ]
    }
   ],
   "source": [
    "df_weather_station1 = df_weather[df_weather['Station']==1]\n",
    "df_weather_station2 = df_weather[df_weather['Station']==2]\n",
    "print(df_weather_station1.shape)\n",
    "print(df_weather_station2.shape)"
   ]
  },
  {
   "cell_type": "markdown",
   "metadata": {},
   "source": [
    "# Pre-Process Train and Test data"
   ]
  },
  {
   "cell_type": "markdown",
   "metadata": {},
   "source": [
    "### Concatenate Train & Test data to avoid duplication of pre-processing / cleaning"
   ]
  },
  {
   "cell_type": "code",
   "execution_count": 70,
   "metadata": {
    "ExecuteTime": {
     "end_time": "2019-11-09T10:13:04.511088Z",
     "start_time": "2019-11-09T10:13:04.461871Z"
    }
   },
   "outputs": [
    {
     "data": {
      "text/html": [
       "<div>\n",
       "<style scoped>\n",
       "    .dataframe tbody tr th:only-of-type {\n",
       "        vertical-align: middle;\n",
       "    }\n",
       "\n",
       "    .dataframe tbody tr th {\n",
       "        vertical-align: top;\n",
       "    }\n",
       "\n",
       "    .dataframe thead th {\n",
       "        text-align: right;\n",
       "    }\n",
       "</style>\n",
       "<table border=\"1\" class=\"dataframe\">\n",
       "  <thead>\n",
       "    <tr style=\"text-align: right;\">\n",
       "      <th></th>\n",
       "      <th>Address</th>\n",
       "      <th>AddressAccuracy</th>\n",
       "      <th>AddressNumberAndStreet</th>\n",
       "      <th>Block</th>\n",
       "      <th>Date</th>\n",
       "      <th>Id</th>\n",
       "      <th>Latitude</th>\n",
       "      <th>Longitude</th>\n",
       "      <th>NumMosquitos</th>\n",
       "      <th>Species</th>\n",
       "      <th>Street</th>\n",
       "      <th>Trap</th>\n",
       "      <th>WnvPresent</th>\n",
       "      <th>train</th>\n",
       "    </tr>\n",
       "  </thead>\n",
       "  <tbody>\n",
       "    <tr>\n",
       "      <th>126797</th>\n",
       "      <td>2100 North Cannon Drive, Chicago, IL 60614, USA</td>\n",
       "      <td>8</td>\n",
       "      <td>2100  N CANNON DR, Chicago, IL</td>\n",
       "      <td>21</td>\n",
       "      <td>2014-10-02</td>\n",
       "      <td>116292.0</td>\n",
       "      <td>41.925652</td>\n",
       "      <td>-87.63359</td>\n",
       "      <td>NaN</td>\n",
       "      <td>UNSPECIFIED CULEX</td>\n",
       "      <td>N CANNON DR</td>\n",
       "      <td>T054C</td>\n",
       "      <td>NaN</td>\n",
       "      <td>0</td>\n",
       "    </tr>\n",
       "    <tr>\n",
       "      <th>126798</th>\n",
       "      <td>2100 North Cannon Drive, Chicago, IL 60614, USA</td>\n",
       "      <td>8</td>\n",
       "      <td>2100  N CANNON DR, Chicago, IL</td>\n",
       "      <td>21</td>\n",
       "      <td>2014-10-02</td>\n",
       "      <td>116293.0</td>\n",
       "      <td>41.925652</td>\n",
       "      <td>-87.63359</td>\n",
       "      <td>NaN</td>\n",
       "      <td>CULEX ERRATICUS</td>\n",
       "      <td>N CANNON DR</td>\n",
       "      <td>T054C</td>\n",
       "      <td>NaN</td>\n",
       "      <td>0</td>\n",
       "    </tr>\n",
       "  </tbody>\n",
       "</table>\n",
       "</div>"
      ],
      "text/plain": [
       "                                                Address  AddressAccuracy  \\\n",
       "126797  2100 North Cannon Drive, Chicago, IL 60614, USA                8   \n",
       "126798  2100 North Cannon Drive, Chicago, IL 60614, USA                8   \n",
       "\n",
       "                AddressNumberAndStreet  Block        Date        Id  \\\n",
       "126797  2100  N CANNON DR, Chicago, IL     21  2014-10-02  116292.0   \n",
       "126798  2100  N CANNON DR, Chicago, IL     21  2014-10-02  116293.0   \n",
       "\n",
       "         Latitude  Longitude  NumMosquitos            Species        Street  \\\n",
       "126797  41.925652  -87.63359           NaN  UNSPECIFIED CULEX   N CANNON DR   \n",
       "126798  41.925652  -87.63359           NaN    CULEX ERRATICUS   N CANNON DR   \n",
       "\n",
       "         Trap  WnvPresent  train  \n",
       "126797  T054C         NaN      0  \n",
       "126798  T054C         NaN      0  "
      ]
     },
     "execution_count": 70,
     "metadata": {},
     "output_type": "execute_result"
    }
   ],
   "source": [
    "# Creating a temporary column to identify test data from train data\n",
    "df_train['train']=1\n",
    "df_test['train']=0\n",
    "# Concatinating the test and train data together\n",
    "df=pd.concat([df_train, df_test], ignore_index=True,axis=0,sort=True)\n",
    "df.tail(2)"
   ]
  },
  {
   "cell_type": "code",
   "execution_count": 71,
   "metadata": {
    "ExecuteTime": {
     "end_time": "2019-11-09T10:13:04.601159Z",
     "start_time": "2019-11-09T10:13:04.511088Z"
    }
   },
   "outputs": [
    {
     "data": {
      "text/plain": [
       "WnvPresent      116293\n",
       "NumMosquitos    116293\n",
       "Id               10506\n",
       "train                0\n",
       "Trap                 0\n",
       "dtype: int64"
      ]
     },
     "execution_count": 71,
     "metadata": {},
     "output_type": "execute_result"
    }
   ],
   "source": [
    "df.isna().sum().sort_values(ascending = False).head(5)"
   ]
  },
  {
   "cell_type": "code",
   "execution_count": 72,
   "metadata": {
    "ExecuteTime": {
     "end_time": "2019-11-09T10:13:04.616772Z",
     "start_time": "2019-11-09T10:13:04.601159Z"
    }
   },
   "outputs": [],
   "source": [
    "# Null 'WnvPresent' and 'NumMosquitos' are from the Test data - this is OK. Will leave them for now.\n",
    "\n",
    "# can drop 'Id' - will not be used\n",
    "df.drop(['Id'],axis=1,inplace=True)"
   ]
  },
  {
   "cell_type": "code",
   "execution_count": 73,
   "metadata": {
    "ExecuteTime": {
     "end_time": "2019-11-09T10:13:04.725055Z",
     "start_time": "2019-11-09T10:13:04.617907Z"
    }
   },
   "outputs": [],
   "source": [
    "df['Date']=pd.to_datetime(df['Date'])"
   ]
  },
  {
   "cell_type": "code",
   "execution_count": 74,
   "metadata": {
    "ExecuteTime": {
     "end_time": "2019-11-09T10:13:04.761753Z",
     "start_time": "2019-11-09T10:13:04.726050Z"
    }
   },
   "outputs": [
    {
     "data": {
      "text/plain": [
       "array(['CULEX PIPIENS/RESTUANS', 'CULEX RESTUANS', 'CULEX PIPIENS',\n",
       "       'CULEX SALINARIUS', 'CULEX TERRITANS', 'CULEX TARSALIS',\n",
       "       'CULEX ERRATICUS', 'UNSPECIFIED CULEX'], dtype=object)"
      ]
     },
     "execution_count": 74,
     "metadata": {},
     "output_type": "execute_result"
    }
   ],
   "source": [
    "df['Species'].unique()"
   ]
  },
  {
   "cell_type": "markdown",
   "metadata": {},
   "source": [
    "### Determine which train/test rows are nearest to Station 1 / Station 2\n",
    "Observations that took place nearer to Station 1 will be associated with Station 1's weather data.<br>\n",
    "Observations that took place nearer to Station 2 will be associated with Station 2's weather data."
   ]
  },
  {
   "cell_type": "code",
   "execution_count": 75,
   "metadata": {
    "ExecuteTime": {
     "end_time": "2019-11-09T10:13:04.783230Z",
     "start_time": "2019-11-09T10:13:04.763748Z"
    }
   },
   "outputs": [],
   "source": [
    "# Set variables for Latitude, Longitude of weather stations 1 & 2\n",
    "# This will be used to calculate the distance (as the crow flies) between stations and observation points\n",
    "stn1_location = (41.995,-87.933)\n",
    "stn2_location = (41.786,-87.752)\n",
    "\n",
    "def calc_dist_chk(lat1, lon1, lat2, lon2):\n",
    "    # approximate radius of earth in km\n",
    "    R = 6373.0\n",
    "    lat1 = radians(lat1)\n",
    "    lon1 = radians(lon1)\n",
    "    lat2 = radians(lat2)\n",
    "    lon2 = radians(lon2)\n",
    "    dlon = lon2 - lon1\n",
    "    dlat = lat2 - lat1\n",
    "    #formula calc distance between two points \n",
    "    #haversine formula\n",
    "    a = sin(dlat / 2)**2 + cos(lat1) * cos(lat2) * sin(dlon / 2)**2\n",
    "    c = 2 * atan2(sqrt(a), sqrt(1 - a))\n",
    "    #distance in km\n",
    "    distance = R * c\n",
    "    return round(distance, 4)\n",
    "\n",
    "def find_nearest_stn(latitude, longitude):\n",
    "    dist_from_stn1 = calc_dist_chk(latitude, longitude, stn1_location[0], stn1_location[1])\n",
    "    dist_from_stn2 = calc_dist_chk(latitude, longitude, stn2_location[0], stn2_location[1])\n",
    "    if dist_from_stn1 <= dist_from_stn2:\n",
    "        return 1\n",
    "    else:\n",
    "        return 2"
   ]
  },
  {
   "cell_type": "code",
   "execution_count": null,
   "metadata": {
    "ExecuteTime": {
     "start_time": "2019-11-09T10:12:54.319Z"
    }
   },
   "outputs": [],
   "source": [
    "# THIS TAKES ABOUT 10-15 MINUTES TO EXECUTE\n",
    "# For each observation (row), check distance to nearest weather station\n",
    "# Assign 'stn_ref' to the nearest weather station (either 1 or 2)\n",
    "for index, row in df.iterrows():\n",
    "    nearest_station = find_nearest_stn(row['Latitude'],row['Longitude'])\n",
    "    df.loc[index,'stn_ref'] = nearest_station\n",
    "\n",
    "print('Number on train/test rows nearest Station 1:',df[df['stn_ref']==1]['stn_ref'].count())\n",
    "print('Number on train/test rows nearest Station 2:',df[df['stn_ref']==2]['stn_ref'].count())"
   ]
  },
  {
   "cell_type": "code",
   "execution_count": null,
   "metadata": {
    "ExecuteTime": {
     "start_time": "2019-11-09T10:12:54.337Z"
    }
   },
   "outputs": [],
   "source": [
    "df.head(1)"
   ]
  },
  {
   "cell_type": "markdown",
   "metadata": {},
   "source": [
    "### Split the data into 'Station 1' and 'Station 2' sets"
   ]
  },
  {
   "cell_type": "code",
   "execution_count": null,
   "metadata": {
    "ExecuteTime": {
     "start_time": "2019-11-09T10:12:54.358Z"
    }
   },
   "outputs": [],
   "source": [
    "df_station1 = df[df['stn_ref']==1.0]\n",
    "df_station2 = df[df['stn_ref']==2.0]\n",
    "print(df_station1.shape)\n",
    "print(df_station2.shape)"
   ]
  },
  {
   "cell_type": "markdown",
   "metadata": {},
   "source": [
    "### Merge 'Station 1' set with weather data from Station 1\n",
    "Then split this into Train data, Test data"
   ]
  },
  {
   "cell_type": "code",
   "execution_count": null,
   "metadata": {
    "ExecuteTime": {
     "start_time": "2019-11-09T10:12:54.379Z"
    }
   },
   "outputs": [],
   "source": [
    "df_station1_merged = pd.merge(df_station1, df_weather_station1, on='Date', how='left')\n",
    "print(df_station1_merged.shape)\n",
    "df_station1_merged.head(1)"
   ]
  },
  {
   "cell_type": "code",
   "execution_count": null,
   "metadata": {
    "ExecuteTime": {
     "start_time": "2019-11-09T10:12:54.396Z"
    }
   },
   "outputs": [],
   "source": [
    "df_station1_merged_train = df_station1_merged[df_station1_merged['train']==1] # train data\n",
    "df_station1_merged_test = df_station1_merged[df_station1_merged['train']==0] # test data\n",
    "print(df_station1_merged_train.shape)\n",
    "print(df_station1_merged_test.shape)"
   ]
  },
  {
   "cell_type": "code",
   "execution_count": null,
   "metadata": {
    "ExecuteTime": {
     "start_time": "2019-11-09T10:12:54.415Z"
    }
   },
   "outputs": [],
   "source": [
    "df_station2_merged = pd.merge(df_station2, df_weather_station2, on='Date', how='left')\n",
    "print(df_station2_merged.shape)\n",
    "df_station2_merged.head(1)"
   ]
  },
  {
   "cell_type": "code",
   "execution_count": null,
   "metadata": {
    "ExecuteTime": {
     "start_time": "2019-11-09T10:12:54.432Z"
    }
   },
   "outputs": [],
   "source": [
    "df_station2_merged.isna().sum().sort_values(ascending=False).head(5)"
   ]
  },
  {
   "cell_type": "code",
   "execution_count": null,
   "metadata": {
    "ExecuteTime": {
     "start_time": "2019-11-09T10:12:54.447Z"
    }
   },
   "outputs": [],
   "source": [
    "index_drop=df_station2_merged[df_station2_merged['Sunrise'].isna()].index.values"
   ]
  },
  {
   "cell_type": "code",
   "execution_count": null,
   "metadata": {
    "ExecuteTime": {
     "start_time": "2019-11-09T10:12:54.461Z"
    }
   },
   "outputs": [],
   "source": [
    "df_station2_merged.drop(labels=index_drop,inplace=True)"
   ]
  },
  {
   "cell_type": "code",
   "execution_count": null,
   "metadata": {
    "ExecuteTime": {
     "start_time": "2019-11-09T10:12:54.478Z"
    }
   },
   "outputs": [],
   "source": [
    "df_station2_merged.isna().sum().sort_values(ascending=False).head(5)"
   ]
  },
  {
   "cell_type": "code",
   "execution_count": null,
   "metadata": {
    "ExecuteTime": {
     "start_time": "2019-11-09T10:12:54.497Z"
    }
   },
   "outputs": [],
   "source": [
    "df_station2_merged_train = df_station2_merged[df_station2_merged['train']==1] # train data\n",
    "df_station2_merged_test = df_station2_merged[df_station2_merged['train']==0] # test data\n",
    "print(df_station2_merged_train.shape)\n",
    "print(df_station2_merged_test.shape)"
   ]
  },
  {
   "cell_type": "markdown",
   "metadata": {},
   "source": [
    "### Concatenate back TRAIN data and reindex"
   ]
  },
  {
   "cell_type": "code",
   "execution_count": null,
   "metadata": {
    "ExecuteTime": {
     "start_time": "2019-11-09T10:12:54.515Z"
    }
   },
   "outputs": [],
   "source": [
    "df_tr_full = pd.concat([df_station1_merged_train, df_station2_merged_train], ignore_index=True,axis=0,sort=True)"
   ]
  },
  {
   "cell_type": "code",
   "execution_count": null,
   "metadata": {
    "ExecuteTime": {
     "start_time": "2019-11-09T10:12:54.534Z"
    }
   },
   "outputs": [],
   "source": [
    "# drop 'train', 'Station'\n",
    "# reindex\n",
    "df_tr_full=df_tr_full.reindex(columns = ['Date','month', 'year', 'Block','Latitude','Longitude', 'Street',\n",
    "                                         'Trap','Species','NumMosquitos','WnvPresent',\n",
    "                                         'Tmax', 'Tmin', 'Tavg', 'Depart', 'DewPoint','dew_point_depression',\n",
    "                                         'WetBulb','wet_bulb_depression','relative_humidity', 'Heat', 'Cool',\n",
    "                                         'Sunrise', 'Sunset','daytime', 'PrecipTotal','StnPressure',\n",
    "                                         'ResultSpeed', 'ResultDir', 'DZ', 'BCFG', 'BR', 'FG', 'FG+', 'FU', 'GR',\n",
    "                                         'HZ', 'MIFG', 'RA', 'SN', 'SQ', 'TS', 'TSRA', 'VCFG', 'VCTS'])\n",
    "df_tr_full.head(1)"
   ]
  },
  {
   "cell_type": "code",
   "execution_count": null,
   "metadata": {
    "ExecuteTime": {
     "start_time": "2019-11-09T10:12:54.551Z"
    }
   },
   "outputs": [],
   "source": [
    "df_tr_full.shape"
   ]
  },
  {
   "cell_type": "code",
   "execution_count": null,
   "metadata": {
    "ExecuteTime": {
     "start_time": "2019-11-09T10:12:54.568Z"
    }
   },
   "outputs": [],
   "source": [
    "df_tr_full.isna().sum().any()"
   ]
  },
  {
   "cell_type": "markdown",
   "metadata": {},
   "source": [
    "### Concatenate back TEST data and reset index"
   ]
  },
  {
   "cell_type": "code",
   "execution_count": null,
   "metadata": {
    "ExecuteTime": {
     "start_time": "2019-11-09T10:12:54.586Z"
    }
   },
   "outputs": [],
   "source": [
    "df_tst_full = pd.concat([df_station1_merged_test, df_station2_merged_test], ignore_index=True,axis=0,sort=True)"
   ]
  },
  {
   "cell_type": "code",
   "execution_count": null,
   "metadata": {
    "ExecuteTime": {
     "start_time": "2019-11-09T10:12:54.603Z"
    }
   },
   "outputs": [],
   "source": [
    "# drop 'train', 'Station', 'NumMosquitos', 'WnvPresent'\n",
    "# reindex\n",
    "df_tst_full=df_tst_full.reindex(columns = ['Date','month', 'year', 'Block','Latitude','Longitude', 'Street',\n",
    "                                           'Trap','Species',\n",
    "                                           'Tmax', 'Tmin', 'Tavg', 'Depart', 'DewPoint','dew_point_depression',\n",
    "                                           'WetBulb','wet_bulb_depression','relative_humidity', 'Heat', 'Cool',\n",
    "                                           'Sunrise', 'Sunset','daytime', 'PrecipTotal','StnPressure',\n",
    "                                           'ResultSpeed', 'ResultDir', 'DZ', 'BCFG', 'BR', 'FG', 'FG+', 'FU', 'GR',\n",
    "                                           'HZ', 'MIFG', 'RA', 'SN', 'SQ', 'TS', 'TSRA', 'VCFG', 'VCTS'])\n",
    "df_tst_full.head(1)"
   ]
  },
  {
   "cell_type": "code",
   "execution_count": null,
   "metadata": {
    "ExecuteTime": {
     "start_time": "2019-11-09T10:12:54.621Z"
    }
   },
   "outputs": [],
   "source": [
    "df_tst_full.shape"
   ]
  },
  {
   "cell_type": "markdown",
   "metadata": {},
   "source": [
    "#  \n",
    "# EXPLORATORY DATA ANALYSIS"
   ]
  },
  {
   "cell_type": "code",
   "execution_count": null,
   "metadata": {
    "ExecuteTime": {
     "start_time": "2019-11-09T10:12:54.642Z"
    }
   },
   "outputs": [],
   "source": [
    "# Checking the correlation of all independent variables with WnvPresent\n",
    "df_tr_full.corr()['WnvPresent'].sort_values()"
   ]
  },
  {
   "cell_type": "code",
   "execution_count": null,
   "metadata": {
    "ExecuteTime": {
     "start_time": "2019-11-09T10:12:54.658Z"
    }
   },
   "outputs": [],
   "source": [
    "# drop BCFG FG+ FU GR MIFG SN SQ VCFG since they do not appear correlated at all to WnvPresent\n",
    "df_tr_full.drop(['BCFG','FG+','FU','GR','MIFG','SN','SQ','VCFG'],axis=1,inplace=True)\n",
    "df_tst_full.drop(['BCFG','FG+','FU','GR','MIFG','SN','SQ','VCFG'],axis=1,inplace=True)"
   ]
  },
  {
   "cell_type": "code",
   "execution_count": null,
   "metadata": {
    "ExecuteTime": {
     "start_time": "2019-11-09T10:12:54.676Z"
    }
   },
   "outputs": [],
   "source": [
    "df_tr_full.head(1)"
   ]
  },
  {
   "cell_type": "code",
   "execution_count": null,
   "metadata": {
    "ExecuteTime": {
     "start_time": "2019-11-09T10:12:54.694Z"
    }
   },
   "outputs": [],
   "source": [
    "# Heatmap to look into the correlation between selected features(especially continuous)\n",
    "corr = df_tr_full.corr()\n",
    "mask = np.zeros_like(corr,dtype=np.bool)\n",
    "mask[np.triu_indices_from(mask)]=True\n",
    "\n",
    "labels=['month', 'year', 'Block','Latitude','Longitude', 'NumMosquitos', 'WnvPresent','Tmax', 'Tmin', 'Tavg', \n",
    "        'Depart', 'DewPoint', 'dew_point_depression', 'WetBulb', 'wet_bulb_depression', 'relative_humidity',\n",
    "        'Heat', 'Cool', 'PrecipTotal','StnPressure', 'ResultSpeed', 'ResultDir', 'DZ', 'BR', 'FG','HZ', 'RA',\n",
    "        'TS', 'TSRA', 'VCTS']\n",
    "\n",
    "plt.subplots(figsize=(40,40))\n",
    "ax = plt.axes()\n",
    "sns.heatmap(corr,mask=mask,annot = True,annot_kws={'size':20},cmap=\"coolwarm\",ax=ax)\n",
    "ax.set_xticklabels(labels,size = 30,rotation=90)\n",
    "ax.set_yticklabels(labels,size = 30,rotation=45)\n",
    "ax.set_title('Correlations between selected features', size = 50)"
   ]
  },
  {
   "cell_type": "markdown",
   "metadata": {},
   "source": [
    "***Correlated variables***\n",
    "1. Tavg, Tmax(To be removed) and Tmin(To be removed)\n",
    "2. Cool and Wetbulb(To be removed)\n",
    "3. Wetbulb Depression and Dewpoint Depression(To be Removed)"
   ]
  },
  {
   "cell_type": "code",
   "execution_count": null,
   "metadata": {
    "ExecuteTime": {
     "start_time": "2019-11-09T10:12:54.714Z"
    }
   },
   "outputs": [],
   "source": [
    "# Function for constructing the scatter plot\n",
    "def scatter(predictor_list,target,dataframe,list_of_xaxis,title):\n",
    "    n = int(np.ceil(len(predictor_list)))\n",
    "\n",
    "    fig, ax = plt.subplots(nrows=n,ncols=1,figsize=(50,600))\n",
    "\n",
    "    ax = ax.ravel()\n",
    "    for i,item in enumerate (predictor_list):\n",
    "        ax[i].scatter(dataframe[item], dataframe[target],s=100)\n",
    "        ax[i].set_xlabel(list_of_xaxis[i],fontsize = 50)\n",
    "        ax[i].tick_params(axis='x', labelsize=30, rotation=90)\n",
    "        ax[i].tick_params(axis='y', labelsize=30)\n",
    "        ax[0].set_title(title, size = 50)"
   ]
  },
  {
   "cell_type": "code",
   "execution_count": null,
   "metadata": {
    "ExecuteTime": {
     "start_time": "2019-11-09T10:12:54.730Z"
    }
   },
   "outputs": [],
   "source": [
    "initial_variable=['month','year','Block','Latitude','Longitude', 'Street','Trap','Tavg','DewPoint',\n",
    "                  'wet_bulb_depression','Heat' ,'Cool','relative_humidity','daytime','PrecipTotal', 'StnPressure',\n",
    "                  'ResultSpeed','ResultDir','Species','NumMosquitos']"
   ]
  },
  {
   "cell_type": "code",
   "execution_count": null,
   "metadata": {
    "ExecuteTime": {
     "start_time": "2019-11-09T10:12:54.822Z"
    }
   },
   "outputs": [],
   "source": [
    "scatter(initial_variable,'WnvPresent',df_tr_full,initial_variable,'Features Vs Target' )"
   ]
  },
  {
   "cell_type": "code",
   "execution_count": null,
   "metadata": {
    "ExecuteTime": {
     "start_time": "2019-11-09T10:12:54.838Z"
    }
   },
   "outputs": [],
   "source": [
    "# Function to construct histogram for the independat variables\n",
    "def hist(predictor_list_target,dataframe,list_of_xaxis,title):\n",
    "    n = int(np.ceil(len(predictor_list_target)))\n",
    "\n",
    "    fig, ax = plt.subplots(nrows=n,ncols=1,figsize=(50,100))\n",
    "    ax = ax.ravel()\n",
    "    \n",
    "    for i,item in enumerate (predictor_list_target):\n",
    "        ax[i].hist(dataframe[item])\n",
    "        ax[i].set_xlabel(list_of_xaxis[i],fontsize = 50)\n",
    "        ax[i].tick_params(axis='x', labelsize=30)\n",
    "        ax[i].tick_params(axis='y', labelsize=30)\n",
    "        ax[0].set_title(title, size = 50)  "
   ]
  },
  {
   "cell_type": "code",
   "execution_count": null,
   "metadata": {
    "ExecuteTime": {
     "start_time": "2019-11-09T10:12:54.855Z"
    }
   },
   "outputs": [],
   "source": [
    "hist_variable=['month','year','Block','Latitude','Longitude']\n",
    "hist(hist_variable,df_tr_full,hist_variable,'Spread of Features')"
   ]
  },
  {
   "cell_type": "code",
   "execution_count": null,
   "metadata": {
    "ExecuteTime": {
     "start_time": "2019-11-09T10:12:54.874Z"
    }
   },
   "outputs": [],
   "source": [
    "plt.hist(df_tr_full['WnvPresent'])"
   ]
  },
  {
   "cell_type": "code",
   "execution_count": null,
   "metadata": {
    "ExecuteTime": {
     "start_time": "2019-11-09T10:12:54.891Z"
    }
   },
   "outputs": [],
   "source": [
    "name=['052007','062007','072007','082007','092007','102007',\n",
    "                           '052009','062009','072009','082009','092009','102009',\n",
    "                           '062011','072011','082011','092011',\n",
    "                           '062011','072013','082013','092013']\n",
    "temporary = df_tr_full.groupby(['year','month'])['WnvPresent'].count()\n",
    "temporary"
   ]
  },
  {
   "cell_type": "code",
   "execution_count": null,
   "metadata": {
    "ExecuteTime": {
     "start_time": "2019-11-09T10:12:54.909Z"
    }
   },
   "outputs": [],
   "source": [
    "df_tr_full.groupby(['year','month'])['WnvPresent'].count().plot()"
   ]
  },
  {
   "cell_type": "markdown",
   "metadata": {},
   "source": [
    "This plot shows there is a decrease in WNV virus after August 2007. This might be due to the awareness in the public and measures taken by government to reduce the virus."
   ]
  },
  {
   "cell_type": "code",
   "execution_count": null,
   "metadata": {
    "ExecuteTime": {
     "start_time": "2019-11-09T10:12:54.931Z"
    }
   },
   "outputs": [],
   "source": [
    "df_tr_full.head(1)"
   ]
  },
  {
   "cell_type": "markdown",
   "metadata": {},
   "source": [
    "### drop 'Depart' column"
   ]
  },
  {
   "cell_type": "code",
   "execution_count": null,
   "metadata": {
    "ExecuteTime": {
     "start_time": "2019-11-09T10:12:54.950Z"
    }
   },
   "outputs": [],
   "source": [
    "df_tr_full.drop(['Depart'],axis=1,inplace=True)\n",
    "df_tst_full.drop(['Depart'],axis=1,inplace=True)"
   ]
  },
  {
   "cell_type": "code",
   "execution_count": null,
   "metadata": {
    "ExecuteTime": {
     "start_time": "2019-11-09T10:12:54.968Z"
    }
   },
   "outputs": [],
   "source": [
    "df_tr_full.head(1)"
   ]
  },
  {
   "cell_type": "code",
   "execution_count": null,
   "metadata": {
    "ExecuteTime": {
     "start_time": "2019-11-09T10:12:54.987Z"
    }
   },
   "outputs": [],
   "source": [
    "df_tst_full.head(1)"
   ]
  },
  {
   "cell_type": "markdown",
   "metadata": {},
   "source": [
    "# Export Train/Test data (merged with Weather data) to csv files"
   ]
  },
  {
   "cell_type": "code",
   "execution_count": null,
   "metadata": {
    "ExecuteTime": {
     "start_time": "2019-11-09T10:12:55.004Z"
    }
   },
   "outputs": [],
   "source": [
    "df_tr_full.to_csv('../assets/df_tr_full_updated_v2.csv',index=False)\n",
    "df_tst_full.to_csv('../assets/df_tst_full_updated_v2.csv',index=False)"
   ]
  },
  {
   "cell_type": "markdown",
   "metadata": {},
   "source": [
    "# Further Exploration of Data"
   ]
  },
  {
   "cell_type": "markdown",
   "metadata": {},
   "source": [
    "### Count of mosquitos and WnvPresent by Species"
   ]
  },
  {
   "cell_type": "code",
   "execution_count": null,
   "metadata": {
    "ExecuteTime": {
     "start_time": "2019-11-09T10:12:55.027Z"
    }
   },
   "outputs": [],
   "source": [
    "df_tr_species =  df_tr_full.groupby('Species')['NumMosquitos', 'WnvPresent'].sum()"
   ]
  },
  {
   "cell_type": "code",
   "execution_count": null,
   "metadata": {
    "ExecuteTime": {
     "start_time": "2019-11-09T10:12:55.043Z"
    }
   },
   "outputs": [],
   "source": [
    "df_tr_species.sort_values('NumMosquitos', inplace=True)"
   ]
  },
  {
   "cell_type": "code",
   "execution_count": null,
   "metadata": {
    "ExecuteTime": {
     "start_time": "2019-11-09T10:12:55.065Z"
    }
   },
   "outputs": [],
   "source": [
    "plt.barh(df_tr_species.index, df_tr_species['NumMosquitos'], label='NumMosquitos')\n",
    "plt.title(\"Mosquito count by Species\", fontdict={'size': 15});"
   ]
  },
  {
   "cell_type": "code",
   "execution_count": null,
   "metadata": {
    "ExecuteTime": {
     "start_time": "2019-11-09T10:12:55.085Z"
    }
   },
   "outputs": [],
   "source": [
    "plt.barh(df_tr_species.index, df_tr_species['WnvPresent'], label='WnvPresent');\n",
    "plt.title(\"West Nile Virus by Species\", fontdict={'size': 15});"
   ]
  },
  {
   "cell_type": "markdown",
   "metadata": {},
   "source": [
    "### Count of mosquitos and WnvPresent by Trap"
   ]
  },
  {
   "cell_type": "code",
   "execution_count": null,
   "metadata": {
    "ExecuteTime": {
     "start_time": "2019-11-09T10:12:55.107Z"
    }
   },
   "outputs": [],
   "source": [
    "df_tr_trap  = df_tr_full.groupby('Trap')['NumMosquitos', 'WnvPresent'].sum()"
   ]
  },
  {
   "cell_type": "code",
   "execution_count": null,
   "metadata": {
    "ExecuteTime": {
     "start_time": "2019-11-09T10:12:55.123Z"
    }
   },
   "outputs": [],
   "source": [
    "df_tr_trap_top10 = df_tr_trap.sort_values('NumMosquitos', ascending=True).tail(10)"
   ]
  },
  {
   "cell_type": "code",
   "execution_count": null,
   "metadata": {
    "ExecuteTime": {
     "start_time": "2019-11-09T10:12:55.140Z"
    }
   },
   "outputs": [],
   "source": [
    "df_tr_trap_top10"
   ]
  },
  {
   "cell_type": "code",
   "execution_count": null,
   "metadata": {
    "ExecuteTime": {
     "start_time": "2019-11-09T10:12:55.158Z"
    }
   },
   "outputs": [],
   "source": [
    "plt.barh(df_tr_trap_top10.index, df_tr_trap_top10['NumMosquitos'], label='NumMosquitos')\n",
    "plt.title(\"Mosquito count by Trap\", fontdict={'size': 15});"
   ]
  },
  {
   "cell_type": "code",
   "execution_count": null,
   "metadata": {
    "ExecuteTime": {
     "start_time": "2019-11-09T10:12:55.175Z"
    }
   },
   "outputs": [],
   "source": [
    "plt.barh(df_tr_trap_top10.index, df_tr_trap_top10.sort_values('WnvPresent')['WnvPresent'], label='WnvPresent')\n",
    "plt.title(\"West Nile Virus by Trap\", fontdict={'size': 15});"
   ]
  },
  {
   "cell_type": "markdown",
   "metadata": {},
   "source": [
    "### Weather Patterns"
   ]
  },
  {
   "cell_type": "code",
   "execution_count": null,
   "metadata": {
    "ExecuteTime": {
     "start_time": "2019-11-09T10:12:55.196Z"
    }
   },
   "outputs": [],
   "source": [
    "df_weather_new = df_weather[~(df_weather['Tavg']=='M')]"
   ]
  },
  {
   "cell_type": "code",
   "execution_count": null,
   "metadata": {
    "ExecuteTime": {
     "start_time": "2019-11-09T10:12:55.212Z"
    }
   },
   "outputs": [],
   "source": [
    "df_weather_new['Tavg'] = df_weather_new['Tavg'].astype('float')"
   ]
  },
  {
   "cell_type": "code",
   "execution_count": null,
   "metadata": {
    "ExecuteTime": {
     "start_time": "2019-11-09T10:12:55.232Z"
    }
   },
   "outputs": [],
   "source": [
    "plt.figure(figsize=(15,8))\n",
    "plt.plot(df_weather_new['Date'], df_weather_new['Tavg'])"
   ]
  },
  {
   "cell_type": "code",
   "execution_count": null,
   "metadata": {
    "ExecuteTime": {
     "start_time": "2019-11-09T10:12:55.255Z"
    }
   },
   "outputs": [],
   "source": [
    "plt.figure(figsize=(15,8))\n",
    "plt.plot(df_weather_new['Date'], df_weather_new['DewPoint'])"
   ]
  },
  {
   "cell_type": "code",
   "execution_count": null,
   "metadata": {
    "ExecuteTime": {
     "start_time": "2019-11-09T10:12:55.288Z"
    }
   },
   "outputs": [],
   "source": [
    "plt.figure(figsize=(15,8))\n",
    "plt.plot(df_weather_new['Date'], df_weather_new['Tavg'], label='Ave Temp')\n",
    "plt.plot(df_weather_new['Date'], df_weather_new['DewPoint'], label='Dew Point')\n",
    "plt.legend()"
   ]
  },
  {
   "cell_type": "markdown",
   "metadata": {},
   "source": [
    "### Check correlation between spray and WNV\n",
    "The correlation between the spray data and the existence of the West Nile virus is a worthwhile topic to delve into.<br>\n",
    "This is going by the assumption that the insectivide spray lasts for at most 2 days in the best weather conditions."
   ]
  },
  {
   "cell_type": "code",
   "execution_count": null,
   "metadata": {
    "ExecuteTime": {
     "start_time": "2019-11-09T10:12:55.311Z"
    }
   },
   "outputs": [],
   "source": [
    "#TO FIND POINTS THAT ARE WNVPRESENT AND COINCIDES WITH SPRAY DATES AT MOST 2 DAYS BEFORE\n",
    "def find_spray_points(df, df_spray, WnvPresent=1):\n",
    "    suspect_dates = {}\n",
    "    val_dict = {}\n",
    "    wnv_df = df[df['WnvPresent'] == WnvPresent].reset_index()\n",
    "\n",
    "    for i  in range(wnv_df.shape[0]): #loop thru train data having WnvPresent\n",
    "        wnv_date = wnv_df.loc[i, :]['Date'] \n",
    "        #get date two days vefore \n",
    "        twod_before = wnv_date - timedelta(days=2)\n",
    "        wnv_lat = wnv_df.loc[i, 'Latitude']\n",
    "        wnv_lon = wnv_df.loc[i, 'Longitude']\n",
    "\n",
    "        #spray dates coincide with 1-2 days before wnv spotted\n",
    "        spray_coincide = df_spray[(df_spray['Date'] >= twod_before) & (df_spray['Date'] < wnv_date)].reset_index()\n",
    "        if spray_coincide.shape[0] > 0:\n",
    "            for j in range(spray_coincide.shape[0]):\n",
    "                spray_lat = spray_coincide.loc[j, 'Latitude']\n",
    "                spray_lon = spray_coincide.loc[j, 'Longitude']\n",
    "                #find spray points within 0.2km\n",
    "                if calc_dist_chk(wnv_lat, wnv_lon, spray_lat, spray_lon) < 0.2:\n",
    "                    suspect_dates[wnv_df.loc[i,'index']] = (wnv_df.loc[i,'Date'],\\\n",
    "                        calc_dist_chk(wnv_lat, wnv_lon, spray_lat, spray_lon), round(wnv_lat,4), round(wnv_lon, 4))\n",
    "    \n",
    "    #to get unique values\n",
    "    for k, val in suspect_dates.items():\n",
    "        if val not in val_dict.values():\n",
    "            val_dict[k] = val\n",
    "        \n",
    "    return val_dict"
   ]
  },
  {
   "cell_type": "code",
   "execution_count": null,
   "metadata": {
    "ExecuteTime": {
     "start_time": "2019-11-09T10:12:55.328Z"
    }
   },
   "outputs": [],
   "source": [
    "#to find spray points that coincide with WnvPresent=1\n",
    "df_spray['Date'] = pd.to_datetime(df_spray['Date'])\n",
    "find_spray_points(df_tr_full, df_spray, 1)"
   ]
  },
  {
   "cell_type": "markdown",
   "metadata": {},
   "source": [
    "As we can see that even though the insecticide was sprayed at most 2 days before, it did not stop the occurence of the West Nile Virus. "
   ]
  },
  {
   "cell_type": "code",
   "execution_count": null,
   "metadata": {
    "ExecuteTime": {
     "start_time": "2019-11-09T10:12:55.348Z"
    }
   },
   "outputs": [],
   "source": [
    "# df_tr_full[df_tr_full['index'] == 8894]\n",
    "df_tr_full[df_tr_full.index == 8894]"
   ]
  },
  {
   "cell_type": "markdown",
   "metadata": {},
   "source": [
    "![wnv_spray1.png](../img/wnv_spray1.png)"
   ]
  },
  {
   "cell_type": "markdown",
   "metadata": {},
   "source": [
    "In the first occurence, the insecticide was sprayed on July 17 2013 and 2 days after the mosquitos in that trap were tested positive for West Nile Virus. "
   ]
  },
  {
   "cell_type": "code",
   "execution_count": null,
   "metadata": {
    "ExecuteTime": {
     "start_time": "2019-11-09T10:12:55.372Z"
    }
   },
   "outputs": [],
   "source": [
    "# df_tr_full[df_tr_full['index'] == 10158]\n",
    "df_tr_full[df_tr_full.index == 10158]"
   ]
  },
  {
   "cell_type": "markdown",
   "metadata": {},
   "source": [
    "![wnv_spray2.png](../img/wnv_spray2.png)"
   ]
  },
  {
   "cell_type": "code",
   "execution_count": null,
   "metadata": {
    "ExecuteTime": {
     "start_time": "2019-11-09T10:12:55.392Z"
    }
   },
   "outputs": [],
   "source": [
    "#to find spray points that coincide with WnvPresent=0\n",
    "find_spray_points(df_tr_full, df_spray, 0)"
   ]
  },
  {
   "cell_type": "markdown",
   "metadata": {},
   "source": [
    "#### Conversely, when we check if there is an occurence for spraying of insecticide two days or one day before, there exists those observation points where there are no West Nile Virus present. "
   ]
  },
  {
   "cell_type": "code",
   "execution_count": null,
   "metadata": {
    "ExecuteTime": {
     "start_time": "2019-11-09T10:12:55.415Z"
    }
   },
   "outputs": [],
   "source": [
    "#df_tr_full[df_tr_full['index'] == 8862]\n",
    "df_tr_full[df_tr_full.index == 8862]"
   ]
  },
  {
   "cell_type": "markdown",
   "metadata": {},
   "source": [
    "![wnv0_spray1.png](../img/wnv0_spray1.png)"
   ]
  },
  {
   "cell_type": "code",
   "execution_count": null,
   "metadata": {
    "ExecuteTime": {
     "start_time": "2019-11-09T10:12:55.440Z"
    }
   },
   "outputs": [],
   "source": [
    "#df_tr_full[df_tr_full['index'] == 8874]\n",
    "df_tr_full[df_tr_full.index == 8874]"
   ]
  },
  {
   "cell_type": "markdown",
   "metadata": {},
   "source": [
    "![wnv0_spray2.png](../img/wnv0_spray2.png)"
   ]
  },
  {
   "cell_type": "code",
   "execution_count": null,
   "metadata": {
    "ExecuteTime": {
     "start_time": "2019-11-09T10:12:55.460Z"
    }
   },
   "outputs": [],
   "source": [
    "#df_tr_full[df_tr_full['index'] == 8893]\n",
    "df_tr_full[df_tr_full.index == 8893]"
   ]
  },
  {
   "cell_type": "markdown",
   "metadata": {},
   "source": [
    "![wnv0_spray3.png](../img/wnv0_spray3.png)"
   ]
  },
  {
   "cell_type": "markdown",
   "metadata": {},
   "source": [
    "### CONCLUSION ON SPRAY EFFECTIVENESS\n",
    "Hence, there is no conclusive evidence that suggests that the spraying at most two days before actually really repels the occurence of the West Nile Virus. The reason could be because the spraying is not regular enough for it to be effective in subduing the virus. \n",
    "\n",
    "Also, mostly insecticide spraying is more reactive than proactive because of political and environmental concerns from the US public."
   ]
  },
  {
   "cell_type": "markdown",
   "metadata": {},
   "source": [
    "# TIME SERIES "
   ]
  },
  {
   "cell_type": "code",
   "execution_count": null,
   "metadata": {
    "ExecuteTime": {
     "start_time": "2019-11-09T10:12:55.490Z"
    }
   },
   "outputs": [],
   "source": [
    "df_timeshift_tr = pd.read_csv('../assets/df_timeshift_tr.csv')\n",
    "df_timeshift_tr.head()"
   ]
  },
  {
   "cell_type": "code",
   "execution_count": null,
   "metadata": {
    "ExecuteTime": {
     "start_time": "2019-11-09T10:12:55.502Z"
    }
   },
   "outputs": [],
   "source": [
    "df_timeshift_tr['NumMosquitos_1000']=df_timeshift_tr['NumMosquitos']/1000\n",
    "df_timeshift_tr['NumMosquitos_100']=df_timeshift_tr['NumMosquitos']/100\n",
    "df_timeshift_tr['NumMosquitos_10']=df_timeshift_tr['NumMosquitos']/10"
   ]
  },
  {
   "cell_type": "code",
   "execution_count": null,
   "metadata": {
    "ExecuteTime": {
     "start_time": "2019-11-09T10:12:55.519Z"
    }
   },
   "outputs": [],
   "source": [
    "df_timeshift_tr_b4spray = df_timeshift_tr[df_timeshift_tr['Date']<'2011-08-29']"
   ]
  },
  {
   "cell_type": "code",
   "execution_count": null,
   "metadata": {
    "ExecuteTime": {
     "start_time": "2019-11-09T10:12:55.537Z"
    }
   },
   "outputs": [],
   "source": [
    "df_timeshift_tr_b4spray.head(1)"
   ]
  },
  {
   "cell_type": "code",
   "execution_count": null,
   "metadata": {
    "ExecuteTime": {
     "start_time": "2019-11-09T10:12:55.553Z"
    }
   },
   "outputs": [],
   "source": [
    "fig, ax = plt.subplots(figsize=(22,8))\n",
    "df_timeshift_tr_b4spray.plot('Date','NumMosquitos_100',ax=ax)\n",
    "df_timeshift_tr_b4spray.plot('Date','WnvPresent',ax=ax)\n",
    "plt.title('Number(100s) of Mosquitos and Extent of WNV Presence', fontsize=22)\n",
    "plt.ylabel('Quantity', fontsize=18)\n",
    "plt.xlabel('Date', fontsize=18)"
   ]
  },
  {
   "cell_type": "code",
   "execution_count": null,
   "metadata": {
    "ExecuteTime": {
     "start_time": "2019-11-09T10:12:55.570Z"
    }
   },
   "outputs": [],
   "source": [
    "fig, ax = plt.subplots(figsize=(22,8))\n",
    "df_timeshift_tr_b4spray.plot('Date','NumMosquitos_100',ax=ax)\n",
    "df_timeshift_tr_b4spray.plot('Date','Tavg',ax=ax)\n",
    "plt.title('Number(100s) of Mosquitos and Tavg', fontsize=22)\n",
    "plt.ylabel('Quantity/Value', fontsize=18)\n",
    "plt.xlabel('Date', fontsize=18)"
   ]
  },
  {
   "cell_type": "code",
   "execution_count": null,
   "metadata": {
    "ExecuteTime": {
     "start_time": "2019-11-09T10:12:55.587Z"
    }
   },
   "outputs": [],
   "source": [
    "fig, ax = plt.subplots(figsize=(22,8))\n",
    "df_timeshift_tr_b4spray.plot('Date','NumMosquitos_100',ax=ax)\n",
    "df_timeshift_tr_b4spray.plot('Date','DewPoint',ax=ax)\n",
    "plt.title('Number(100s) of Mosquitos and DewPoint', fontsize=22)\n",
    "plt.ylabel('Quantity/Value', fontsize=18)\n",
    "plt.xlabel('Date', fontsize=18)"
   ]
  },
  {
   "cell_type": "code",
   "execution_count": null,
   "metadata": {
    "ExecuteTime": {
     "start_time": "2019-11-09T10:12:55.603Z"
    }
   },
   "outputs": [],
   "source": [
    "fig, ax = plt.subplots(figsize=(22,8))\n",
    "df_timeshift_tr_b4spray.plot('Date','NumMosquitos_100',ax=ax)\n",
    "df_timeshift_tr_b4spray.plot('Date','relative_humidity',ax=ax)\n",
    "plt.title('Number(100s) of Mosquitos and Relative Humidity', fontsize=22)\n",
    "plt.ylabel('Quantity/Value', fontsize=18)\n",
    "plt.xlabel('Date', fontsize=18)"
   ]
  },
  {
   "cell_type": "code",
   "execution_count": null,
   "metadata": {
    "ExecuteTime": {
     "start_time": "2019-11-09T10:12:55.620Z"
    }
   },
   "outputs": [],
   "source": [
    "fig, ax = plt.subplots(figsize=(22,8))\n",
    "df_timeshift_tr_b4spray.plot('Date','NumMosquitos_1000',ax=ax)\n",
    "df_timeshift_tr_b4spray.plot('Date','Cool',ax=ax)\n",
    "plt.title('Number(1,000s) of Mosquitos and Cool', fontsize=22)\n",
    "plt.ylabel('Quantity/Value', fontsize=18)\n",
    "plt.xlabel('Date', fontsize=18)"
   ]
  },
  {
   "cell_type": "code",
   "execution_count": null,
   "metadata": {
    "ExecuteTime": {
     "start_time": "2019-11-09T10:12:55.634Z"
    }
   },
   "outputs": [],
   "source": [
    "fig, ax = plt.subplots(figsize=(22,8))\n",
    "df_timeshift_tr_b4spray.plot('Date','NumMosquitos_1000',ax=ax)\n",
    "df_timeshift_tr_b4spray.plot('Date','wet_bulb_depression',ax=ax)\n",
    "plt.title('Number(1,000s) of Mosquitos and Wet Bulb Depression', fontsize=22)\n",
    "plt.ylabel('Quantity/Value', fontsize=18)\n",
    "plt.xlabel('Date', fontsize=18)"
   ]
  },
  {
   "cell_type": "code",
   "execution_count": null,
   "metadata": {
    "ExecuteTime": {
     "start_time": "2019-11-09T10:12:55.648Z"
    }
   },
   "outputs": [],
   "source": [
    "fig, ax = plt.subplots(figsize=(22,8))\n",
    "df_timeshift_tr_b4spray.plot('Date','NumMosquitos_1000',ax=ax)\n",
    "df_timeshift_tr_b4spray.plot('Date','ResultSpeed',ax=ax)\n",
    "plt.title('Number(1,000s) of Mosquitos and Result Speed', fontsize=22)\n",
    "plt.ylabel('Quantity/Value', fontsize=18)\n",
    "plt.xlabel('Date', fontsize=18)"
   ]
  },
  {
   "cell_type": "markdown",
   "metadata": {},
   "source": [
    "# TIME SERIES LAG TIME ANALYSIS"
   ]
  },
  {
   "cell_type": "code",
   "execution_count": null,
   "metadata": {
    "ExecuteTime": {
     "start_time": "2019-11-09T10:12:55.663Z"
    }
   },
   "outputs": [],
   "source": [
    "df_weather1=df_weather[df_weather['Station']==1]"
   ]
  },
  {
   "cell_type": "code",
   "execution_count": null,
   "metadata": {
    "ExecuteTime": {
     "start_time": "2019-11-09T10:12:55.681Z"
    }
   },
   "outputs": [],
   "source": [
    "# Created a column to calulate the approximate number of hours sunlight in a day\n",
    "df_weather1['sunlight']=df_weather1['daytime'].str.slice(7, 9, 1)"
   ]
  },
  {
   "cell_type": "code",
   "execution_count": null,
   "metadata": {
    "ExecuteTime": {
     "start_time": "2019-11-09T10:12:55.696Z"
    }
   },
   "outputs": [],
   "source": [
    "df_weather1.columns"
   ]
  },
  {
   "cell_type": "code",
   "execution_count": null,
   "metadata": {
    "ExecuteTime": {
     "start_time": "2019-11-09T10:12:55.710Z"
    }
   },
   "outputs": [],
   "source": [
    "# Created a dataframe with weather conditions for time shift analysis\n",
    "df_shift_tr1=df_weather1.loc[:,['Date',  'Tavg',  'DewPoint','Heat', 'Cool', 'sunlight','PrecipTotal', \n",
    "                                'ResultSpeed', 'ResultDir','wet_bulb_depression','relative_humidity']]\n",
    "df_shift_tr1.head()"
   ]
  },
  {
   "cell_type": "code",
   "execution_count": null,
   "metadata": {
    "ExecuteTime": {
     "start_time": "2019-11-09T10:12:55.724Z"
    }
   },
   "outputs": [],
   "source": [
    "# Changed the index to date to do a time shift analysis\n",
    "df_shift_tr1=df_shift_tr1.set_index('Date',drop =True)\n",
    "df_shift_tr1.head()"
   ]
  },
  {
   "cell_type": "code",
   "execution_count": null,
   "metadata": {
    "ExecuteTime": {
     "start_time": "2019-11-09T10:12:55.736Z"
    }
   },
   "outputs": [],
   "source": [
    "# Another dataframe is created without timeshift to compare against the time shifted weather data\n",
    "df_timeshift_tr2=df_tr_full.loc[:,['Date','WnvPresent','NumMosquitos']]"
   ]
  },
  {
   "cell_type": "code",
   "execution_count": null,
   "metadata": {
    "ExecuteTime": {
     "start_time": "2019-11-09T10:12:55.752Z"
    }
   },
   "outputs": [],
   "source": [
    "df_timeshift_tr2.info()"
   ]
  },
  {
   "cell_type": "code",
   "execution_count": null,
   "metadata": {
    "ExecuteTime": {
     "start_time": "2019-11-09T10:12:55.770Z"
    }
   },
   "outputs": [],
   "source": [
    "df_timeshift_tr2.head()"
   ]
  },
  {
   "cell_type": "code",
   "execution_count": null,
   "metadata": {
    "ExecuteTime": {
     "start_time": "2019-11-09T10:12:55.786Z"
    }
   },
   "outputs": [],
   "source": [
    "# Since we have multiple rows for same date. We can groupby date for our timeshift analysis.\n",
    "df_timeshift_tr2=df_timeshift_tr2.groupby('Date')\n",
    "df_timeshift_tr2"
   ]
  },
  {
   "cell_type": "code",
   "execution_count": null,
   "metadata": {
    "ExecuteTime": {
     "start_time": "2019-11-09T10:12:55.804Z"
    }
   },
   "outputs": [],
   "source": [
    "# Then added the WNV on the same days individualy\n",
    "df_timeshift_tr2=df_timeshift_tr2.sum()\n",
    "df_timeshift_tr2.head()"
   ]
  },
  {
   "cell_type": "code",
   "execution_count": null,
   "metadata": {
    "ExecuteTime": {
     "start_time": "2019-11-09T10:12:55.822Z"
    }
   },
   "outputs": [],
   "source": [
    "# Then merged the weather dataframe without a shift and WNV dataframe together\n",
    "df_timeshift_tr1_noshift = pd.merge(df_shift_tr1, df_timeshift_tr2, on='Date', how='right')\n",
    "df_timeshift_tr1_noshift.head()"
   ]
  },
  {
   "cell_type": "code",
   "execution_count": null,
   "metadata": {
    "ExecuteTime": {
     "start_time": "2019-11-09T10:12:55.837Z"
    }
   },
   "outputs": [],
   "source": [
    "#Since our train data doesn't have values for all dates. We will drop the null values at the NumMosquitos \n",
    "df_timeshift_tr1_noshift.dropna(inplace=True)"
   ]
  },
  {
   "cell_type": "code",
   "execution_count": null,
   "metadata": {
    "ExecuteTime": {
     "start_time": "2019-11-09T10:12:55.850Z"
    }
   },
   "outputs": [],
   "source": [
    "# Correlation of weather against WNV on the sameday\n",
    "wt_wnv_sameday=df_timeshift_tr1_noshift.corr()['WnvPresent'].sort_values()\n",
    "wt_mos_sameday=df_timeshift_tr1_noshift.corr()['NumMosquitos'].sort_values()"
   ]
  },
  {
   "cell_type": "code",
   "execution_count": null,
   "metadata": {
    "ExecuteTime": {
     "start_time": "2019-11-09T10:12:55.867Z"
    }
   },
   "outputs": [],
   "source": [
    "# Weather data shifted by 1 day\n",
    "df_shift_tr1_shift1=df_shift_tr1.shift(1)\n",
    "df_shift_tr1_shift1.head()"
   ]
  },
  {
   "cell_type": "code",
   "execution_count": null,
   "metadata": {
    "ExecuteTime": {
     "start_time": "2019-11-09T10:12:55.885Z"
    }
   },
   "outputs": [],
   "source": [
    "# Merged the weather data shifted by one day along with WNV \n",
    "df_timeshift_tr_1day = pd.merge(df_shift_tr1_shift1, df_timeshift_tr2, on='Date', how='right')\n",
    "df_timeshift_tr_1day.head()"
   ]
  },
  {
   "cell_type": "code",
   "execution_count": null,
   "metadata": {
    "ExecuteTime": {
     "start_time": "2019-11-09T10:12:55.898Z"
    }
   },
   "outputs": [],
   "source": [
    "# Null values are dropped\n",
    "df_timeshift_tr_1day.dropna(inplace=True)\n",
    "# Checking the correlation between weather data shifted by 1 day against WNV\n",
    "wt_wnv_after_1d=df_timeshift_tr_1day.corr()['WnvPresent'].sort_values()\n",
    "wt_mos_after_1d=df_timeshift_tr_1day.corr()['NumMosquitos'].sort_values()"
   ]
  },
  {
   "cell_type": "code",
   "execution_count": null,
   "metadata": {
    "ExecuteTime": {
     "start_time": "2019-11-09T10:12:55.917Z"
    }
   },
   "outputs": [],
   "source": [
    "# Weather data shifted by 2 days\n",
    "df_shift_tr1_shift2=df_shift_tr1.shift(2)\n",
    "# Merged the weather data shifted by 2 days along with WNV \n",
    "df_timeshift_tr_2day = pd.merge(df_shift_tr1_shift2, df_timeshift_tr2, on='Date', how='right')\n",
    "# Dropped null values\n",
    "df_timeshift_tr_2day.dropna(inplace=True)\n",
    "df_timeshift_tr_2day.head()"
   ]
  },
  {
   "cell_type": "code",
   "execution_count": null,
   "metadata": {
    "ExecuteTime": {
     "start_time": "2019-11-09T10:12:55.932Z"
    }
   },
   "outputs": [],
   "source": [
    "# Checking the correlation between weather data shifted by 2 days against WNV\n",
    "wt_wnv_after_2d=df_timeshift_tr_2day.corr()['WnvPresent'].sort_values()\n",
    "wt_mos_after_2d=df_timeshift_tr_2day.corr()['NumMosquitos'].sort_values()"
   ]
  },
  {
   "cell_type": "markdown",
   "metadata": {},
   "source": [
    "Repeated the same steps for 3, 7 and 10 days"
   ]
  },
  {
   "cell_type": "code",
   "execution_count": null,
   "metadata": {
    "ExecuteTime": {
     "start_time": "2019-11-09T10:12:55.954Z"
    }
   },
   "outputs": [],
   "source": [
    "df_shift_tr1_shift3=df_shift_tr1.shift(3)\n",
    "df_timeshift_tr_3day = pd.merge(df_shift_tr1_shift3, df_timeshift_tr2, on='Date', how='right')\n",
    "df_timeshift_tr_3day.dropna(inplace=True)\n",
    "df_timeshift_tr_3day.head()"
   ]
  },
  {
   "cell_type": "code",
   "execution_count": null,
   "metadata": {
    "ExecuteTime": {
     "start_time": "2019-11-09T10:12:55.968Z"
    }
   },
   "outputs": [],
   "source": [
    "wt_wnv_after_3d=df_timeshift_tr_3day.corr()['WnvPresent'].sort_values()\n",
    "wt_mos_after_3d=df_timeshift_tr_3day.corr()['NumMosquitos'].sort_values()"
   ]
  },
  {
   "cell_type": "code",
   "execution_count": null,
   "metadata": {
    "ExecuteTime": {
     "start_time": "2019-11-09T10:12:55.985Z"
    }
   },
   "outputs": [],
   "source": [
    "df_shift_tr1_shift7=df_shift_tr1.shift(7)\n",
    "df_timeshift_tr_7day = pd.merge(df_shift_tr1_shift7, df_timeshift_tr2, on='Date', how='right')\n",
    "df_timeshift_tr_7day.dropna(inplace=True)\n",
    "df_timeshift_tr_7day.head()"
   ]
  },
  {
   "cell_type": "code",
   "execution_count": null,
   "metadata": {
    "ExecuteTime": {
     "start_time": "2019-11-09T10:12:55.999Z"
    }
   },
   "outputs": [],
   "source": [
    "wt_wnv_after_7d=df_timeshift_tr_7day.corr()['WnvPresent'].sort_values()\n",
    "wt_mos_after_7d=df_timeshift_tr_7day.corr()['NumMosquitos'].sort_values()"
   ]
  },
  {
   "cell_type": "code",
   "execution_count": null,
   "metadata": {
    "ExecuteTime": {
     "start_time": "2019-11-09T10:12:56.016Z"
    }
   },
   "outputs": [],
   "source": [
    "df_shift_tr1_shift10=df_shift_tr1.shift(10)\n",
    "df_timeshift_tr_10day = pd.merge(df_shift_tr1_shift10, df_timeshift_tr2, on='Date', how='right')\n",
    "df_timeshift_tr_10day.dropna(inplace=True)\n",
    "df_timeshift_tr_10day.head()"
   ]
  },
  {
   "cell_type": "code",
   "execution_count": null,
   "metadata": {
    "ExecuteTime": {
     "start_time": "2019-11-09T10:12:56.029Z"
    }
   },
   "outputs": [],
   "source": [
    "wt_wnv_after_10d=df_timeshift_tr_10day.corr()['WnvPresent'].sort_values()\n",
    "wt_mos_after_10d=df_timeshift_tr_10day.corr()['NumMosquitos'].sort_values()"
   ]
  },
  {
   "cell_type": "code",
   "execution_count": null,
   "metadata": {
    "ExecuteTime": {
     "start_time": "2019-11-09T10:12:56.043Z"
    }
   },
   "outputs": [],
   "source": [
    "# Concatinated the correlation of number of mosquitos against the shift in weather data by 0,1,2,3,7 and 10 days\n",
    "wt_mos_time=pd.concat([wt_mos_sameday,wt_mos_after_1d, wt_mos_after_2d,wt_mos_after_3d, wt_mos_after_7d, wt_mos_after_10d,\n",
    "                      ], axis=1,sort=True)"
   ]
  },
  {
   "cell_type": "code",
   "execution_count": null,
   "metadata": {
    "ExecuteTime": {
     "start_time": "2019-11-09T10:12:56.058Z"
    }
   },
   "outputs": [],
   "source": [
    "# Concatinated the correlation of WNV against the shift in weather data by 0,1,2,3,7 and 10 days\n",
    "wt_wnv_time=pd.concat([wt_wnv_sameday,wt_wnv_after_1d, wt_wnv_after_2d,wt_wnv_after_3d, wt_wnv_after_7d, wt_wnv_after_10d], axis=1,sort=True)"
   ]
  },
  {
   "cell_type": "code",
   "execution_count": null,
   "metadata": {
    "ExecuteTime": {
     "start_time": "2019-11-09T10:12:56.075Z"
    }
   },
   "outputs": [],
   "source": [
    "wt_mos_time"
   ]
  },
  {
   "cell_type": "code",
   "execution_count": null,
   "metadata": {
    "ExecuteTime": {
     "start_time": "2019-11-09T10:12:56.091Z"
    }
   },
   "outputs": [],
   "source": [
    "wt_wnv_time"
   ]
  },
  {
   "cell_type": "code",
   "execution_count": null,
   "metadata": {
    "ExecuteTime": {
     "start_time": "2019-11-09T10:12:56.106Z"
    }
   },
   "outputs": [],
   "source": [
    "# Changed the column name\n",
    "wt_wnv_time.columns = ['WNVsameday', 'WNVafter1d', 'WNVafter2d', 'WNVafter3d', 'WNVafter7d', 'WNVafter10d']\n",
    "wt_mos_time.columns = ['MSQsameday', 'MSQafter1d', 'MSQafter2d', 'MSQafter3d', 'MSQafter7d', 'MSQafter10d']"
   ]
  },
  {
   "cell_type": "code",
   "execution_count": null,
   "metadata": {
    "ExecuteTime": {
     "start_time": "2019-11-09T10:12:56.121Z"
    }
   },
   "outputs": [],
   "source": [
    "# Created a row with number of days the weather data is shifted\n",
    "wt_wnv_time.loc['Number of the days weather shifted'] = [0,1,2,3,7,10]\n",
    "wt_wnv_time=wt_wnv_time.transpose()\n",
    "wt_wnv_time"
   ]
  },
  {
   "cell_type": "code",
   "execution_count": null,
   "metadata": {
    "ExecuteTime": {
     "start_time": "2019-11-09T10:12:56.139Z"
    }
   },
   "outputs": [],
   "source": [
    "wt_mos_time.loc['Number of the days weather shifted'] = [0,1,2,3,7,10]\n",
    "wt_mos_time=wt_mos_time.transpose()\n",
    "wt_mos_time"
   ]
  },
  {
   "cell_type": "code",
   "execution_count": null,
   "metadata": {
    "ExecuteTime": {
     "start_time": "2019-11-09T10:12:56.159Z"
    }
   },
   "outputs": [],
   "source": [
    "# Droped the column as we are comparing against carrelation of weather datas against WNV\n",
    "wt_wnv_time.drop(columns=['WnvPresent','NumMosquitos'])"
   ]
  },
  {
   "cell_type": "code",
   "execution_count": null,
   "metadata": {
    "ExecuteTime": {
     "start_time": "2019-11-09T10:12:56.178Z"
    }
   },
   "outputs": [],
   "source": [
    "wt_mos_time.drop(columns=['WnvPresent','NumMosquitos'])"
   ]
  },
  {
   "cell_type": "code",
   "execution_count": null,
   "metadata": {
    "ExecuteTime": {
     "start_time": "2019-11-09T10:12:56.198Z"
    }
   },
   "outputs": [],
   "source": [
    "# Plot to check effect of weather on WNV\n",
    "plt.figure(figsize = (15,10))\n",
    "plt.plot(wt_wnv_time['Number of the days weather shifted'],wt_wnv_time['Cool'],label='Cool')\n",
    "plt.plot(wt_wnv_time['Number of the days weather shifted'],wt_wnv_time['DewPoint'],label='DewPoint')\n",
    "plt.plot(wt_wnv_time['Number of the days weather shifted'],wt_wnv_time['PrecipTotal'],label='PrecipTotal')\n",
    "plt.plot(wt_wnv_time['Number of the days weather shifted'],wt_wnv_time['Tavg'],label='Tavg')\n",
    "plt.plot(wt_wnv_time['Number of the days weather shifted'],wt_wnv_time['relative_humidity'],label='relative_humidity')\n",
    "plt.plot(wt_wnv_time['Number of the days weather shifted'],wt_wnv_time['ResultSpeed'],label='ResultSpeed')\n",
    "plt.plot(wt_wnv_time['Number of the days weather shifted'],wt_wnv_time['wet_bulb_depression'],label='wet_bulb_depression')\n",
    "plt.title('EFFECT OF WEATHER ON WNV DAY BY DAY', fontsize=22)\n",
    "plt.ylabel('WEATHER CORRELATION WITH WNV', fontsize=18)\n",
    "plt.xlabel('DAYS', fontsize=18)\n",
    "\n",
    "# Create legend.\n",
    "plt.legend(fontsize=10);\n",
    "plt.savefig('../EFFECT OF WEATHER ON WNV DAY BY DAY')"
   ]
  },
  {
   "cell_type": "markdown",
   "metadata": {},
   "source": [
    "INTERPRETATION OF EFFECT OF WEATHER ON WNV DAY BY DAY:\n",
    "1. On the 1st day, the correlation between the weather condition and WNV is higher compared to same        day and the second day except Result speed.\n",
    "2. Result speed shows effect on the same day and in the 1st and 2nd day the WNV become higher as there maybe a change in wind direction or reduced speed on the days.\n",
    "3. On the 7th day, in general there is no effect of weather on WNV.\n",
    "4. On the 10th day, maybe the young musquitos developed after hatching, so again there is a raise in        correlation."
   ]
  },
  {
   "cell_type": "code",
   "execution_count": null,
   "metadata": {
    "ExecuteTime": {
     "start_time": "2019-11-09T10:12:56.218Z"
    }
   },
   "outputs": [],
   "source": [
    "# Plot to check effect of weather on mosquito\n",
    "plt.figure(figsize = (15,10))\n",
    "plt.plot(wt_mos_time['Number of the days weather shifted'],wt_mos_time['Cool'],label='Cool')\n",
    "plt.plot(wt_mos_time['Number of the days weather shifted'],wt_mos_time['DewPoint'],label='DewPoint')\n",
    "plt.plot(wt_mos_time['Number of the days weather shifted'],wt_mos_time['PrecipTotal'],label='PrecipTotal')\n",
    "plt.plot(wt_mos_time['Number of the days weather shifted'],wt_mos_time['Tavg'],label='Tavg')\n",
    "plt.plot(wt_mos_time['Number of the days weather shifted'],wt_mos_time['relative_humidity'],label='relative_humidity')\n",
    "plt.plot(wt_mos_time['Number of the days weather shifted'],wt_mos_time['ResultSpeed'],label='ResultSpeed')\n",
    "plt.plot(wt_mos_time['Number of the days weather shifted'],wt_mos_time['wet_bulb_depression'],label='wet_bulb_depression')\n",
    "plt.title('EFFECT OF WEATHER ON MOSQUITO NUMBERS DAY BY DAY', fontsize=22)\n",
    "plt.ylabel('WEATHER CORRELATION WITH MOSQUITO NUMBERS', fontsize=18)\n",
    "plt.xlabel('DAYS', fontsize=18)\n",
    "\n",
    "# Create legend.\n",
    "plt.legend(fontsize=10);\n",
    "plt.savefig('../EFFECT OF WEATHER ON MOSQUITO NUMBERS DAY BY DAY')"
   ]
  },
  {
   "cell_type": "markdown",
   "metadata": {},
   "source": [
    "INTERPRETATION OF EFFECT OF WEATHER ON MOSQUITOES DAY BY DAY:\n",
    "1. Mosquito numbers goes high 0 to 3 days after rain or if the day is humid. \n",
    "2. If wetbulb depression is higher than the effect on mosquito is almost 0 on the third day. As it is the opposite of humidity.\n",
    "3. Wind speed has negative correlation with number of mosquito. But after the wind subside the number of mosquito raise from 2nd to 7th day.\n",
    "4. Cool and Tavg are quiet correlated, so they show same effect on mosquito. Mosquitos reduces with raise in temperature.\n",
    "5. Dewpoint correlation with number of mosquito is some what constant except on 2nd and 7th day.\n"
   ]
  }
 ],
 "metadata": {
  "kernelspec": {
   "display_name": "Python 3",
   "language": "python",
   "name": "python3"
  },
  "language_info": {
   "codemirror_mode": {
    "name": "ipython",
    "version": 3
   },
   "file_extension": ".py",
   "mimetype": "text/x-python",
   "name": "python",
   "nbconvert_exporter": "python",
   "pygments_lexer": "ipython3",
   "version": "3.7.3"
  },
  "toc": {
   "base_numbering": 1,
   "nav_menu": {},
   "number_sections": true,
   "sideBar": true,
   "skip_h1_title": false,
   "title_cell": "Table of Contents",
   "title_sidebar": "Contents",
   "toc_cell": false,
   "toc_position": {
    "height": "calc(100% - 180px)",
    "left": "10px",
    "top": "150px",
    "width": "256px"
   },
   "toc_section_display": true,
   "toc_window_display": false
  },
  "varInspector": {
   "cols": {
    "lenName": 16,
    "lenType": 16,
    "lenVar": 40
   },
   "kernels_config": {
    "python": {
     "delete_cmd_postfix": "",
     "delete_cmd_prefix": "del ",
     "library": "var_list.py",
     "varRefreshCmd": "print(var_dic_list())"
    },
    "r": {
     "delete_cmd_postfix": ") ",
     "delete_cmd_prefix": "rm(",
     "library": "var_list.r",
     "varRefreshCmd": "cat(var_dic_list()) "
    }
   },
   "types_to_exclude": [
    "module",
    "function",
    "builtin_function_or_method",
    "instance",
    "_Feature"
   ],
   "window_display": false
  }
 },
 "nbformat": 4,
 "nbformat_minor": 2
}
